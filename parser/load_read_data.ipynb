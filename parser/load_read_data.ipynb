{
 "cells": [
  {
   "cell_type": "code",
   "execution_count": 85,
   "metadata": {},
   "outputs": [],
   "source": [
    "import pickle\n",
    "import re\n",
    "import os\n",
    "import json\n",
    "import numpy as np\n",
    "import pandas as pd\n",
    "\n",
    "path = \"/home/mlb/res/stock/twse/json/\"\n",
    "regex = re.compile(r\"[12]\\d{3}-(0[1-9]|1[0-2])-(0[1-9]|[12]\\d|3[01])\")\n"
   ]
  },
  {
   "cell_type": "code",
   "execution_count": 91,
   "metadata": {
    "scrolled": true
   },
   "outputs": [
    {
     "name": "stdout",
     "output_type": "stream",
     "text": [
      "null\n",
      "null\n",
      "null\n",
      "null\n",
      "null\n",
      "null\n",
      "    adj_close  close   high    low   open volume      date\n",
      "768     26.17  26.17  26.57  26.17  26.57  13300  20160817\n",
      "487     29.20  29.20  29.40  29.20  29.40   7100  20170707\n",
      "431     29.15  29.20  29.46  29.20  29.46   4000  20170710\n",
      "575     29.40  29.49  29.50  29.30  29.30  25100  20170711\n",
      "485     29.56  29.65  29.65  29.51  29.53  30400  20170712\n",
      "..        ...    ...    ...    ...    ...    ...       ...\n",
      "90      38.85  38.85  39.02  38.81  39.00  23280  20200929\n",
      "121     38.95  38.95  39.01  38.85  38.85  26100  20200930\n",
      "230     39.00  39.00  39.08  38.95  39.08  14500  20201005\n",
      "168     39.60  39.60  39.60  39.32  39.54  21427  20201006\n",
      "775     39.63  39.65  39.79  39.63  39.70  24370  20201008\n",
      "\n",
      "[789 rows x 7 columns]\n"
     ]
    }
   ],
   "source": [
    "def check_null(info):\n",
    "    for key, value in info.items(): #avoid null value\n",
    "        if value=='NULL':\n",
    "            return False\n",
    "    return True\n",
    "\n",
    "def loader(number,filename):\n",
    "    result = []\n",
    "    for name in os.listdir(path):\n",
    "        if(regex.match(name)):\n",
    "            with open(os.path.join(path,name)) as f:\n",
    "                data = json.load(f)\n",
    "                \n",
    "                try:\n",
    "                    s=data[number]\n",
    "                    if(check_null(s)):\n",
    "                        s['date'] = ''.join(name[0:10].split('-'))\n",
    "                        result.append(s)\n",
    "                except KeyError:\n",
    "                    print(f'Can not find the information of {number} in file {name}')\n",
    "    if len(result):\n",
    "        with open(filename+\".pickle\",'wb') as output:\n",
    "            df = pd.DataFrame(result).sort_values(by=['date'])\n",
    "            print(df)\n",
    "            pickle.dump(df,output)\n",
    "    else:\n",
    "        print(\"Empty result can not generate output file\")\n",
    "        \n",
    "loader('0051',\"test\")"
   ]
  },
  {
   "cell_type": "code",
   "execution_count": 92,
   "metadata": {},
   "outputs": [
    {
     "name": "stdout",
     "output_type": "stream",
     "text": [
      "    adj_close  close   high    low   open volume      date\n",
      "768     26.17  26.17  26.57  26.17  26.57  13300  20160817\n",
      "487     29.20  29.20  29.40  29.20  29.40   7100  20170707\n",
      "431     29.15  29.20  29.46  29.20  29.46   4000  20170710\n",
      "575     29.40  29.49  29.50  29.30  29.30  25100  20170711\n",
      "485     29.56  29.65  29.65  29.51  29.53  30400  20170712\n",
      "..        ...    ...    ...    ...    ...    ...       ...\n",
      "90      38.85  38.85  39.02  38.81  39.00  23280  20200929\n",
      "121     38.95  38.95  39.01  38.85  38.85  26100  20200930\n",
      "230     39.00  39.00  39.08  38.95  39.08  14500  20201005\n",
      "168     39.60  39.60  39.60  39.32  39.54  21427  20201006\n",
      "775     39.63  39.65  39.79  39.63  39.70  24370  20201008\n",
      "\n",
      "[789 rows x 7 columns]\n"
     ]
    }
   ],
   "source": [
    "def reader(filename):\n",
    "    with open(filename,'rb') as f:\n",
    "        df = pickle.load(f)\n",
    "        print(df)\n",
    "\n",
    "\n",
    "reader(\"test.pickle\")"
   ]
  }
 ],
 "metadata": {
  "kernelspec": {
   "display_name": "Python 3",
   "language": "python",
   "name": "python3"
  }
 },
 "nbformat": 4,
 "nbformat_minor": 2
}
