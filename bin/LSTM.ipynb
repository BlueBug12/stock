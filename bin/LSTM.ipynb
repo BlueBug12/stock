{
 "cells": [
  {
   "cell_type": "code",
   "execution_count": 233,
   "metadata": {},
   "outputs": [],
   "source": [
    "import pandas as pd\n",
    "import numpy as np\n",
    "from sklearn import preprocessing\n",
    "from tensorflow.keras.models import Sequential\n",
    "from tensorflow.keras.layers import Dense, Dropout, Activation, Flatten, LSTM, TimeDistributed, RepeatVector\n",
    "from keras.layers.normalization import BatchNormalization\n",
    "from tensorflow.keras.optimizers import Adam\n",
    "from tensorflow.keras.callbacks import EarlyStopping, ModelCheckpoint\n",
    "import matplotlib.pyplot as plt\n",
    "import pickle\n",
    "import pandas\n",
    "\n",
    "with open(\"2330.pickle\",'rb') as f:\n",
    "    df = pickle.load(f)"
   ]
  },
  {
   "cell_type": "code",
   "execution_count": 234,
   "metadata": {},
   "outputs": [
    {
     "data": {
      "text/html": [
       "<div>\n",
       "<style scoped>\n",
       "    .dataframe tbody tr th:only-of-type {\n",
       "        vertical-align: middle;\n",
       "    }\n",
       "\n",
       "    .dataframe tbody tr th {\n",
       "        vertical-align: top;\n",
       "    }\n",
       "\n",
       "    .dataframe thead th {\n",
       "        text-align: right;\n",
       "    }\n",
       "</style>\n",
       "<table border=\"1\" class=\"dataframe\">\n",
       "  <thead>\n",
       "    <tr style=\"text-align: right;\">\n",
       "      <th></th>\n",
       "      <th>adj_close</th>\n",
       "      <th>close</th>\n",
       "      <th>high</th>\n",
       "      <th>low</th>\n",
       "      <th>open</th>\n",
       "      <th>volume</th>\n",
       "      <th>date</th>\n",
       "      <th>year</th>\n",
       "      <th>month</th>\n",
       "      <th>day</th>\n",
       "      <th>week</th>\n",
       "    </tr>\n",
       "  </thead>\n",
       "  <tbody>\n",
       "    <tr>\n",
       "      <td>0</td>\n",
       "      <td>63.50</td>\n",
       "      <td>64.0</td>\n",
       "      <td>64.5</td>\n",
       "      <td>63.5</td>\n",
       "      <td>64.5</td>\n",
       "      <td>18589704</td>\n",
       "      <td>20040211</td>\n",
       "      <td>2004</td>\n",
       "      <td>2</td>\n",
       "      <td>11</td>\n",
       "      <td>2</td>\n",
       "    </tr>\n",
       "    <tr>\n",
       "      <td>1</td>\n",
       "      <td>64.00</td>\n",
       "      <td>64.5</td>\n",
       "      <td>65.0</td>\n",
       "      <td>64.0</td>\n",
       "      <td>64.0</td>\n",
       "      <td>48648900</td>\n",
       "      <td>20040212</td>\n",
       "      <td>2004</td>\n",
       "      <td>2</td>\n",
       "      <td>12</td>\n",
       "      <td>3</td>\n",
       "    </tr>\n",
       "    <tr>\n",
       "      <td>2</td>\n",
       "      <td>64.00</td>\n",
       "      <td>64.0</td>\n",
       "      <td>64.5</td>\n",
       "      <td>63.5</td>\n",
       "      <td>64.5</td>\n",
       "      <td>28300096</td>\n",
       "      <td>20040213</td>\n",
       "      <td>2004</td>\n",
       "      <td>2</td>\n",
       "      <td>13</td>\n",
       "      <td>4</td>\n",
       "    </tr>\n",
       "    <tr>\n",
       "      <td>3</td>\n",
       "      <td>62.50</td>\n",
       "      <td>62.5</td>\n",
       "      <td>64.0</td>\n",
       "      <td>62.5</td>\n",
       "      <td>64.0</td>\n",
       "      <td>43881575</td>\n",
       "      <td>20040216</td>\n",
       "      <td>2004</td>\n",
       "      <td>2</td>\n",
       "      <td>16</td>\n",
       "      <td>0</td>\n",
       "    </tr>\n",
       "    <tr>\n",
       "      <td>4</td>\n",
       "      <td>62.50</td>\n",
       "      <td>62.5</td>\n",
       "      <td>63.5</td>\n",
       "      <td>62.5</td>\n",
       "      <td>62.5</td>\n",
       "      <td>31506459</td>\n",
       "      <td>20040217</td>\n",
       "      <td>2004</td>\n",
       "      <td>2</td>\n",
       "      <td>17</td>\n",
       "      <td>1</td>\n",
       "    </tr>\n",
       "  </tbody>\n",
       "</table>\n",
       "</div>"
      ],
      "text/plain": [
       "  adj_close  close  high   low  open    volume      date  year  month  day  \\\n",
       "0     63.50   64.0  64.5  63.5  64.5  18589704  20040211  2004      2   11   \n",
       "1     64.00   64.5  65.0  64.0  64.0  48648900  20040212  2004      2   12   \n",
       "2     64.00   64.0  64.5  63.5  64.5  28300096  20040213  2004      2   13   \n",
       "3     62.50   62.5  64.0  62.5  64.0  43881575  20040216  2004      2   16   \n",
       "4     62.50   62.5  63.5  62.5  62.5  31506459  20040217  2004      2   17   \n",
       "\n",
       "   week  \n",
       "0     2  \n",
       "1     3  \n",
       "2     4  \n",
       "3     0  \n",
       "4     1  "
      ]
     },
     "execution_count": 234,
     "metadata": {},
     "output_type": "execute_result"
    }
   ],
   "source": [
    "df.head()"
   ]
  },
  {
   "cell_type": "code",
   "execution_count": 264,
   "metadata": {},
   "outputs": [
    {
     "data": {
      "text/plain": [
       "'\\ndef normalize(train):\\n  train = train.drop([\"date\"], axis=1)\\n  train = train.drop([\"adj_close\"], axis=1)\\n  train_norm = train.apply(lambda x: (x - np.mean(x)) / (np.max(x) - np.min(x)))\\n  return train_norm\\n'"
      ]
     },
     "execution_count": 264,
     "metadata": {},
     "output_type": "execute_result"
    }
   ],
   "source": [
    "def normalize(df):\n",
    "    min_max_scaler = preprocessing.MinMaxScaler()\n",
    "    df = df.drop(['date','adj_close'],axis=1)\n",
    "    for col in df.columns: \n",
    "        df[col] = min_max_scaler.fit_transform(df[col].values.reshape(-1,1))\n",
    "    return df\n",
    "def denormalize(normalized,original,feature='close'):\n",
    "    original_value = original[feature].values.reshape(-1,1)\n",
    "    normalized_value = normalized.reshape(-1,1)\n",
    "\n",
    "    #return df.shape, p.shape\n",
    "    min_max_scaler = preprocessing.MinMaxScaler()\n",
    "    min_max_scaler.fit_transform(original_value)\n",
    "    return min_max_scaler.inverse_transform(normalized_value)[:,0]\n",
    "'''\n",
    "def normalize(train):\n",
    "  train = train.drop([\"date\"], axis=1)\n",
    "  train = train.drop([\"adj_close\"], axis=1)\n",
    "  train_norm = train.apply(lambda x: (x - np.mean(x)) / (np.max(x) - np.min(x)))\n",
    "  return train_norm\n",
    "'''\n",
    "\n"
   ]
  },
  {
   "cell_type": "code",
   "execution_count": 236,
   "metadata": {},
   "outputs": [],
   "source": [
    "def buildTrain(train, pastDay=30, futureDay=5,feature='close'):\n",
    "    X_train, Y_train = [], []\n",
    "    for i in range(train.shape[0]-futureDay-pastDay):\n",
    "        X_train.append(np.array(train.iloc[i:i+pastDay]))\n",
    "        Y_train.append(np.array(train.iloc[i+pastDay:i+pastDay+futureDay][feature]))\n",
    "    return np.array(X_train), np.array(Y_train)\n",
    "\n"
   ]
  },
  {
   "cell_type": "code",
   "execution_count": 237,
   "metadata": {},
   "outputs": [],
   "source": [
    "def shuffle(X,Y):\n",
    "    np.random.seed(10)\n",
    "    randomList = np.arange(X.shape[0])\n",
    "    np.random.shuffle(randomList)\n",
    "    return X[randomList], Y[randomList]\n"
   ]
  },
  {
   "cell_type": "code",
   "execution_count": 238,
   "metadata": {},
   "outputs": [],
   "source": [
    "def splitData(X,Y,rate):\n",
    "    X_train = X[int(X.shape[0]*rate):]\n",
    "    Y_train = Y[int(Y.shape[0]*rate):]\n",
    "    X_val = X[:int(X.shape[0]*rate)]\n",
    "    Y_val = Y[:int(Y.shape[0]*rate)]\n",
    "    return X_train, Y_train, X_val, Y_val\n",
    "\n",
    "#Y_train = Y_train[:, : ,np.newaxis]\n",
    "#Y_val = Y_val[:, : ,np.newaxis]\n",
    "#print(X_train.shape)\n",
    "##print(Y_train.shape)\n",
    "#print(X_val.shape)\n",
    "#print(Y_val.shape)"
   ]
  },
  {
   "cell_type": "code",
   "execution_count": 239,
   "metadata": {},
   "outputs": [],
   "source": [
    "def buildOneToOneModel(shape):\n",
    "    model = Sequential()\n",
    "    model.add(LSTM(10, input_length=shape[1], input_dim=shape[2],return_sequences=True))\n",
    "    # output shape: (1, 1)\n",
    "    model.add(TimeDistributed(Dense(1)))    # or use model.add(Dense(1))\n",
    "    model.compile(loss=\"mse\", optimizer=\"adam\")\n",
    "    model.summary()\n",
    "    return model\n",
    "def buildManyToOneModel(shape):\n",
    "    model = Sequential()\n",
    "    model.add(LSTM(10, input_length=shape[1], input_dim=shape[2]))\n",
    "    # output shape: (1, 1)\n",
    "    model.add(Dense(1))\n",
    "    model.compile(loss=\"mse\", optimizer=\"adam\")\n",
    "    model.summary()\n",
    "    return model\n",
    "def buildManyToManyModel(shape):\n",
    "    model = Sequential()\n",
    "    model.add(LSTM(10, input_length=shape[1], input_dim=shape[2], return_sequences=True))\n",
    "    # output shape: (5, 1)\n",
    "    model.add(TimeDistributed(Dense(1)))\n",
    "    model.compile(loss=\"mse\", optimizer=\"adam\")\n",
    "    model.summary()\n",
    "    return model"
   ]
  },
  {
   "cell_type": "code",
   "execution_count": null,
   "metadata": {},
   "outputs": [
    {
     "name": "stdout",
     "output_type": "stream",
     "text": [
      "Model: \"sequential_7\"\n",
      "_________________________________________________________________\n",
      "Layer (type)                 Output Shape              Param #   \n",
      "=================================================================\n",
      "lstm_6 (LSTM)                (None, 10)                800       \n",
      "_________________________________________________________________\n",
      "dense_6 (Dense)              (None, 1)                 11        \n",
      "=================================================================\n",
      "Total params: 811\n",
      "Trainable params: 811\n",
      "Non-trainable params: 0\n",
      "_________________________________________________________________\n",
      "Epoch 1/1000\n",
      "29/29 [==============================] - ETA: 0s - loss: 0.0887"
     ]
    }
   ],
   "source": [
    "df_norm=normalize(df)\n",
    "#df_norm=denormalize(df_norm['close'].values[:],df)\n",
    "X_train, Y_train = buildTrain(df_norm, 30, 1)\n",
    "X_train, Y_train = shuffle(X_train, Y_train)\n",
    "X_train, Y_train, X_val, Y_val = splitData(X_train, Y_train, 0.1)\n",
    "#Y_train = Y_train[:, : ,np.newaxis]\n",
    "#Y_val = Y_val[:, : ,np.newaxis]\n",
    "\n",
    "#model = buildOneToOneModel(X_train.shape)\n",
    "model = buildManyToOneModel(X_train.shape)\n",
    "callback = EarlyStopping(monitor=\"loss\", patience=10, verbose=1, mode=\"auto\")\n",
    "model.fit(X_train, Y_train, epochs=1000, batch_size=128, validation_data=(X_val, Y_val), callbacks=[callback])\n"
   ]
  },
  {
   "cell_type": "code",
   "execution_count": 276,
   "metadata": {},
   "outputs": [
    {
     "data": {
      "image/png": "[encoded data removed]",
      "text/plain": [
       "<Figure size 432x288 with 1 Axes>"
      ]
     },
     "metadata": {
      "needs_background": "light"
     },
     "output_type": "display_data"
    }
   ],
   "source": [
    "\n",
    "def plot_stock(stock_name,actual,result):\n",
    "\n",
    "    plt.plot(actual, color='red', label='actual')\n",
    "    plt.plot(result, color='blue', label='predict')\n",
    "    plt.legend(loc='best')\n",
    "    plt.show()\n",
    "    \n",
    "df_norm=normalize(df)\n",
    "X_train, Y_train = buildTrain(df_norm, 30, 1)\n",
    "result = model.predict(X_train)\n",
    "\n",
    "result=denormalize(result[:,0],df)\n",
    "Y_train=denormalize(Y_train[:,0],df)\n",
    "plot_stock(\"2330\",Y_train,result)"
   ]
  }
 ],
 "metadata": {
  "kernelspec": {
   "display_name": "tensorflow3",
   "language": "python",
   "name": "tensorflow3"
  },
  "language_info": {
   "codemirror_mode": {
    "name": "ipython",
    "version": 3
   },
   "file_extension": ".py",
   "mimetype": "text/x-python",
   "name": "python",
   "nbconvert_exporter": "python",
   "pygments_lexer": "ipython3",
   "version": "3.6.10"
  }
 },
 "nbformat": 4,
 "nbformat_minor": 2
}
