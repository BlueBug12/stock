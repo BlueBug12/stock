{
  "nbformat": 4,
  "nbformat_minor": 0,
  "metadata": {
    "kernelspec": {
      "display_name": "Python 3",
      "language": "python",
      "name": "python3"
    },
    "language_info": {
      "codemirror_mode": {
        "name": "ipython",
        "version": 3
      },
      "file_extension": ".py",
      "mimetype": "text/x-python",
      "name": "python",
      "nbconvert_exporter": "python",
      "pygments_lexer": "ipython3",
      "version": "3.6.10"
    },
    "colab": {
      "name": "CNN_Classifier.ipynb",
      "provenance": [],
      "include_colab_link": true
    },
    "accelerator": "GPU"
  },
  "cells": [
    {
      "cell_type": "markdown",
      "metadata": {
        "id": "view-in-github",
        "colab_type": "text"
      },
      "source": [
        "<a href=\"https://colab.research.google.com/github/BlueBug12/stock/blob/master/bin/cloud/CNN_Classifier.ipynb\" target=\"_parent\"><img src=\"https://colab.research.google.com/assets/colab-badge.svg\" alt=\"Open In Colab\"/></a>"
      ]
    },
    {
      "cell_type": "code",
      "metadata": {
        "id": "U-rTSlsFdMQN",
        "outputId": "fdc7553d-657e-49a1-abea-5688d6aba325",
        "colab": {
          "base_uri": "https://localhost:8080/"
        }
      },
      "source": [
        "!pip install tensorflow==2.2.0"
      ],
      "execution_count": 1,
      "outputs": [
        {
          "output_type": "stream",
          "text": [
            "Collecting tensorflow==2.2.0\n",
            "\u001b[?25l  Downloading https://files.pythonhosted.org/packages/3d/be/679ce5254a8c8d07470efb4a4c00345fae91f766e64f1c2aece8796d7218/tensorflow-2.2.0-cp36-cp36m-manylinux2010_x86_64.whl (516.2MB)\n",
            "\u001b[K     |████████████████████████████████| 516.2MB 33kB/s \n",
            "\u001b[?25hRequirement already satisfied: google-pasta>=0.1.8 in /usr/local/lib/python3.6/dist-packages (from tensorflow==2.2.0) (0.2.0)\n",
            "Requirement already satisfied: wrapt>=1.11.1 in /usr/local/lib/python3.6/dist-packages (from tensorflow==2.2.0) (1.12.1)\n",
            "Requirement already satisfied: numpy<2.0,>=1.16.0 in /usr/local/lib/python3.6/dist-packages (from tensorflow==2.2.0) (1.18.5)\n",
            "Requirement already satisfied: six>=1.12.0 in /usr/local/lib/python3.6/dist-packages (from tensorflow==2.2.0) (1.15.0)\n",
            "Collecting tensorboard<2.3.0,>=2.2.0\n",
            "\u001b[?25l  Downloading https://files.pythonhosted.org/packages/1d/74/0a6fcb206dcc72a6da9a62dd81784bfdbff5fedb099982861dc2219014fb/tensorboard-2.2.2-py3-none-any.whl (3.0MB)\n",
            "\u001b[K     |████████████████████████████████| 3.0MB 44.7MB/s \n",
            "\u001b[?25hRequirement already satisfied: absl-py>=0.7.0 in /usr/local/lib/python3.6/dist-packages (from tensorflow==2.2.0) (0.10.0)\n",
            "Requirement already satisfied: keras-preprocessing>=1.1.0 in /usr/local/lib/python3.6/dist-packages (from tensorflow==2.2.0) (1.1.2)\n",
            "Requirement already satisfied: protobuf>=3.8.0 in /usr/local/lib/python3.6/dist-packages (from tensorflow==2.2.0) (3.12.4)\n",
            "Requirement already satisfied: opt-einsum>=2.3.2 in /usr/local/lib/python3.6/dist-packages (from tensorflow==2.2.0) (3.3.0)\n",
            "Collecting tensorflow-estimator<2.3.0,>=2.2.0\n",
            "\u001b[?25l  Downloading https://files.pythonhosted.org/packages/a4/f5/926ae53d6a226ec0fda5208e0e581cffed895ccc89e36ba76a8e60895b78/tensorflow_estimator-2.2.0-py2.py3-none-any.whl (454kB)\n",
            "\u001b[K     |████████████████████████████████| 460kB 50.8MB/s \n",
            "\u001b[?25hRequirement already satisfied: grpcio>=1.8.6 in /usr/local/lib/python3.6/dist-packages (from tensorflow==2.2.0) (1.33.2)\n",
            "Requirement already satisfied: scipy==1.4.1; python_version >= \"3\" in /usr/local/lib/python3.6/dist-packages (from tensorflow==2.2.0) (1.4.1)\n",
            "Requirement already satisfied: gast==0.3.3 in /usr/local/lib/python3.6/dist-packages (from tensorflow==2.2.0) (0.3.3)\n",
            "Requirement already satisfied: wheel>=0.26; python_version >= \"3\" in /usr/local/lib/python3.6/dist-packages (from tensorflow==2.2.0) (0.35.1)\n",
            "Requirement already satisfied: astunparse==1.6.3 in /usr/local/lib/python3.6/dist-packages (from tensorflow==2.2.0) (1.6.3)\n",
            "Requirement already satisfied: h5py<2.11.0,>=2.10.0 in /usr/local/lib/python3.6/dist-packages (from tensorflow==2.2.0) (2.10.0)\n",
            "Requirement already satisfied: termcolor>=1.1.0 in /usr/local/lib/python3.6/dist-packages (from tensorflow==2.2.0) (1.1.0)\n",
            "Requirement already satisfied: google-auth-oauthlib<0.5,>=0.4.1 in /usr/local/lib/python3.6/dist-packages (from tensorboard<2.3.0,>=2.2.0->tensorflow==2.2.0) (0.4.2)\n",
            "Requirement already satisfied: google-auth<2,>=1.6.3 in /usr/local/lib/python3.6/dist-packages (from tensorboard<2.3.0,>=2.2.0->tensorflow==2.2.0) (1.17.2)\n",
            "Requirement already satisfied: markdown>=2.6.8 in /usr/local/lib/python3.6/dist-packages (from tensorboard<2.3.0,>=2.2.0->tensorflow==2.2.0) (3.3.3)\n",
            "Requirement already satisfied: tensorboard-plugin-wit>=1.6.0 in /usr/local/lib/python3.6/dist-packages (from tensorboard<2.3.0,>=2.2.0->tensorflow==2.2.0) (1.7.0)\n",
            "Requirement already satisfied: werkzeug>=0.11.15 in /usr/local/lib/python3.6/dist-packages (from tensorboard<2.3.0,>=2.2.0->tensorflow==2.2.0) (1.0.1)\n",
            "Requirement already satisfied: setuptools>=41.0.0 in /usr/local/lib/python3.6/dist-packages (from tensorboard<2.3.0,>=2.2.0->tensorflow==2.2.0) (50.3.2)\n",
            "Requirement already satisfied: requests<3,>=2.21.0 in /usr/local/lib/python3.6/dist-packages (from tensorboard<2.3.0,>=2.2.0->tensorflow==2.2.0) (2.23.0)\n",
            "Requirement already satisfied: requests-oauthlib>=0.7.0 in /usr/local/lib/python3.6/dist-packages (from google-auth-oauthlib<0.5,>=0.4.1->tensorboard<2.3.0,>=2.2.0->tensorflow==2.2.0) (1.3.0)\n",
            "Requirement already satisfied: cachetools<5.0,>=2.0.0 in /usr/local/lib/python3.6/dist-packages (from google-auth<2,>=1.6.3->tensorboard<2.3.0,>=2.2.0->tensorflow==2.2.0) (4.1.1)\n",
            "Requirement already satisfied: rsa<5,>=3.1.4; python_version >= \"3\" in /usr/local/lib/python3.6/dist-packages (from google-auth<2,>=1.6.3->tensorboard<2.3.0,>=2.2.0->tensorflow==2.2.0) (4.6)\n",
            "Requirement already satisfied: pyasn1-modules>=0.2.1 in /usr/local/lib/python3.6/dist-packages (from google-auth<2,>=1.6.3->tensorboard<2.3.0,>=2.2.0->tensorflow==2.2.0) (0.2.8)\n",
            "Requirement already satisfied: importlib-metadata; python_version < \"3.8\" in /usr/local/lib/python3.6/dist-packages (from markdown>=2.6.8->tensorboard<2.3.0,>=2.2.0->tensorflow==2.2.0) (2.0.0)\n",
            "Requirement already satisfied: certifi>=2017.4.17 in /usr/local/lib/python3.6/dist-packages (from requests<3,>=2.21.0->tensorboard<2.3.0,>=2.2.0->tensorflow==2.2.0) (2020.6.20)\n",
            "Requirement already satisfied: urllib3!=1.25.0,!=1.25.1,<1.26,>=1.21.1 in /usr/local/lib/python3.6/dist-packages (from requests<3,>=2.21.0->tensorboard<2.3.0,>=2.2.0->tensorflow==2.2.0) (1.24.3)\n",
            "Requirement already satisfied: idna<3,>=2.5 in /usr/local/lib/python3.6/dist-packages (from requests<3,>=2.21.0->tensorboard<2.3.0,>=2.2.0->tensorflow==2.2.0) (2.10)\n",
            "Requirement already satisfied: chardet<4,>=3.0.2 in /usr/local/lib/python3.6/dist-packages (from requests<3,>=2.21.0->tensorboard<2.3.0,>=2.2.0->tensorflow==2.2.0) (3.0.4)\n",
            "Requirement already satisfied: oauthlib>=3.0.0 in /usr/local/lib/python3.6/dist-packages (from requests-oauthlib>=0.7.0->google-auth-oauthlib<0.5,>=0.4.1->tensorboard<2.3.0,>=2.2.0->tensorflow==2.2.0) (3.1.0)\n",
            "Requirement already satisfied: pyasn1>=0.1.3 in /usr/local/lib/python3.6/dist-packages (from rsa<5,>=3.1.4; python_version >= \"3\"->google-auth<2,>=1.6.3->tensorboard<2.3.0,>=2.2.0->tensorflow==2.2.0) (0.4.8)\n",
            "Requirement already satisfied: zipp>=0.5 in /usr/local/lib/python3.6/dist-packages (from importlib-metadata; python_version < \"3.8\"->markdown>=2.6.8->tensorboard<2.3.0,>=2.2.0->tensorflow==2.2.0) (3.4.0)\n",
            "Installing collected packages: tensorboard, tensorflow-estimator, tensorflow\n",
            "  Found existing installation: tensorboard 2.3.0\n",
            "    Uninstalling tensorboard-2.3.0:\n",
            "      Successfully uninstalled tensorboard-2.3.0\n",
            "  Found existing installation: tensorflow-estimator 2.3.0\n",
            "    Uninstalling tensorflow-estimator-2.3.0:\n",
            "      Successfully uninstalled tensorflow-estimator-2.3.0\n",
            "  Found existing installation: tensorflow 2.3.0\n",
            "    Uninstalling tensorflow-2.3.0:\n",
            "      Successfully uninstalled tensorflow-2.3.0\n",
            "Successfully installed tensorboard-2.2.2 tensorflow-2.2.0 tensorflow-estimator-2.2.0\n"
          ],
          "name": "stdout"
        }
      ]
    },
    {
      "cell_type": "code",
      "metadata": {
        "id": "-mEcGUhYfXp5",
        "outputId": "cf61ad29-78f9-4d4f-ba87-3f4f9fe731fa",
        "colab": {
          "base_uri": "https://localhost:8080/"
        }
      },
      "source": [
        "!nvidia-smi"
      ],
      "execution_count": null,
      "outputs": [
        {
          "output_type": "stream",
          "text": [
            "Mon Nov 16 14:20:59 2020       \n",
            "+-----------------------------------------------------------------------------+\n",
            "| NVIDIA-SMI 455.32.00    Driver Version: 418.67       CUDA Version: 10.1     |\n",
            "|-------------------------------+----------------------+----------------------+\n",
            "| GPU  Name        Persistence-M| Bus-Id        Disp.A | Volatile Uncorr. ECC |\n",
            "| Fan  Temp  Perf  Pwr:Usage/Cap|         Memory-Usage | GPU-Util  Compute M. |\n",
            "|                               |                      |               MIG M. |\n",
            "|===============================+======================+======================|\n",
            "|   0  Tesla T4            Off  | 00000000:00:04.0 Off |                    0 |\n",
            "| N/A   43C    P8    10W /  70W |      0MiB / 15079MiB |      0%      Default |\n",
            "|                               |                      |                 ERR! |\n",
            "+-------------------------------+----------------------+----------------------+\n",
            "                                                                               \n",
            "+-----------------------------------------------------------------------------+\n",
            "| Processes:                                                                  |\n",
            "|  GPU   GI   CI        PID   Type   Process name                  GPU Memory |\n",
            "|        ID   ID                                                   Usage      |\n",
            "|=============================================================================|\n",
            "|  No running processes found                                                 |\n",
            "+-----------------------------------------------------------------------------+\n"
          ],
          "name": "stdout"
        }
      ]
    },
    {
      "cell_type": "code",
      "metadata": {
        "id": "4qTouZ0sa3DV"
      },
      "source": [
        "import pandas as pd\n",
        "import numpy as np\n",
        "from sklearn import preprocessing\n",
        "from tensorflow.keras import backend\n",
        "from tensorflow.keras.models import Sequential, load_model, Model\n",
        "from tensorflow.keras.layers import Conv1D, Dense, Activation,MaxPooling1D, GlobalAveragePooling1D, Dropout, Lambda, RepeatVector, Input, Reshape, Flatten, LSTM\n",
        "from keras.layers.normalization import BatchNormalization\n",
        "from tensorflow.keras.optimizers import Adam\n",
        "from tensorflow.keras.callbacks import EarlyStopping, ModelCheckpoint\n",
        "from tensorflow.keras.utils import to_categorical\n",
        "from sklearn.preprocessing import MinMaxScaler\n",
        "import tensorflow\n",
        "import matplotlib.pyplot as plt\n",
        "import pickle\n",
        "import os\n",
        "import pandas\n",
        "import math"
      ],
      "execution_count": 2,
      "outputs": []
    },
    {
      "cell_type": "code",
      "metadata": {
        "id": "QjJu4zDFa3D1",
        "outputId": "ba7fee08-302c-4f1d-95b2-ccdef2cb815c",
        "colab": {
          "base_uri": "https://localhost:8080/"
        }
      },
      "source": [
        "print(tensorflow.__version__)"
      ],
      "execution_count": 3,
      "outputs": [
        {
          "output_type": "stream",
          "text": [
            "2.2.0\n"
          ],
          "name": "stdout"
        }
      ]
    },
    {
      "cell_type": "code",
      "metadata": {
        "id": "UtJO5g3Fa3EE"
      },
      "source": [
        "def buildYTrain(train, pastDay, futureDay,profit):\n",
        "    Y_train = []\n",
        "    for i in range(train.shape[0]-futureDay-pastDay):\n",
        "        ave = np.mean(train['high'][i+pastDay:i+pastDay+futureDay])\n",
        "        #if train['close'][i+pastDay] > train['close'][i+pastDay-1]:\n",
        "        #    Y_train.append(1)\n",
        "        #else:\n",
        "        #    Y_train.append(0)\n",
        "\n",
        "        if (ave-train['close'][i+pastDay-1])/ train['close'][i+pastDay-1] >= profit:\n",
        "            Y_train.append(1)\n",
        "        #if train['close'][i+pastDay] > train['close'][i+pastDay-1]:\n",
        "        #    Y_train.append(1)\n",
        "        #elif (ave-train['close'][i+pastDay])/ train['close'][i+pastDay] < -profit:\n",
        "        #    Y_train.append(1)\n",
        "        else:\n",
        "            Y_train.append(0)     \n",
        "    return np.array(Y_train)\n",
        "\n",
        "def buildXTrain(train, pastDay, futureDay,profit):\n",
        "    X_train = []\n",
        "    for i in range(train.shape[0]-futureDay-pastDay):\n",
        "        X_train.append(np.array(train[i:i+pastDay]))\n",
        "    return np.array(X_train)\n",
        "\n",
        "def normalize_data(data):\n",
        "    scaler = MinMaxScaler(feature_range=(0, 1))\n",
        "    minmaxscaler = scaler.fit(data)\n",
        "    normalize_data = minmaxscaler.transform(data)\n",
        "\n",
        "    return normalize_data\n",
        "def splitData(X,Y,rate):\n",
        "    X_train = X[int(X.shape[0]*rate):]\n",
        "    Y_train = Y[int(Y.shape[0]*rate):]\n",
        "    X_val = X[:int(X.shape[0]*rate)]\n",
        "    Y_val = Y[:int(Y.shape[0]*rate)]\n",
        "    return X_train, Y_train, X_val, Y_val\n",
        "def shuffle(X,Y):\n",
        "    np.random.seed(10)\n",
        "    randomList = np.arange(X.shape[0])\n",
        "    np.random.shuffle(randomList)\n",
        "    return X[randomList], Y[randomList]\n",
        "def training_result(history):\n",
        "    plt.title('Model loss')\n",
        "    plt.plot(history.history['loss'], label='train')\n",
        "    plt.plot(history.history['val_loss'], label='test')\n",
        "    plt.ylabel('Losss')\n",
        "    plt.xlabel('Epoch')\n",
        "    plt.legend()\n",
        "    plt.show()\n",
        "    \n",
        "    plt.plot(history.history['accuracy'], label='train')\n",
        "    plt.plot(history.history['val_accuracy'], label='test')\n",
        "    plt.title('Model accuracy')\n",
        "    plt.ylabel('Accuracy')\n",
        "    plt.xlabel('Epoch')\n",
        "    plt.legend()\n",
        "    plt.show()"
      ],
      "execution_count": 4,
      "outputs": []
    },
    {
      "cell_type": "code",
      "metadata": {
        "id": "-EPKcrhlbOqh",
        "outputId": "64f3af77-7266-419c-c6c2-aada66423faf",
        "colab": {
          "resources": {
            "http://localhost:8080/nbextensions/google.colab/files.js": {
              "data": "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",
              "ok": true,
              "headers": [
                [
                  "content-type",
                  "application/javascript"
                ]
              ],
              "status": 200,
              "status_text": ""
            }
          },
          "base_uri": "https://localhost:8080/",
          "height": 142
        }
      },
      "source": [
        "from google.colab import files\n",
        "uploaded = files.upload()"
      ],
      "execution_count": 5,
      "outputs": [
        {
          "output_type": "display_data",
          "data": {
            "text/html": [
              "\n",
              "     <input type=\"file\" id=\"files-a72598ae-e9a0-4245-b6ff-d216624b6218\" name=\"files[]\" multiple disabled\n",
              "        style=\"border:none\" />\n",
              "     <output id=\"result-a72598ae-e9a0-4245-b6ff-d216624b6218\">\n",
              "      Upload widget is only available when the cell has been executed in the\n",
              "      current browser session. Please rerun this cell to enable.\n",
              "      </output>\n",
              "      <script src=\"/nbextensions/google.colab/files.js\"></script> "
            ],
            "text/plain": [
              "<IPython.core.display.HTML object>"
            ]
          },
          "metadata": {
            "tags": []
          }
        },
        {
          "output_type": "stream",
          "text": [
            "Saving 2330.pickle to 2330.pickle\n",
            "Saving 2603.pickle to 2603.pickle\n",
            "Saving 2610.pickle to 2610.pickle\n"
          ],
          "name": "stdout"
        }
      ]
    },
    {
      "cell_type": "code",
      "metadata": {
        "id": "seA-vObSibsx"
      },
      "source": [
        "!mv 2610.pickle data/"
      ],
      "execution_count": null,
      "outputs": []
    },
    {
      "cell_type": "code",
      "metadata": {
        "id": "_yP8bj9VhQRk"
      },
      "source": [
        "!mkdir data\n",
        "!mv 2610.pickle data/"
      ],
      "execution_count": null,
      "outputs": []
    },
    {
      "cell_type": "code",
      "metadata": {
        "id": "c-e56rYza3EO",
        "outputId": "fedfc9d8-8b25-49ab-b81b-60f3ccae38a0",
        "colab": {
          "base_uri": "https://localhost:8080/"
        }
      },
      "source": [
        "with open(os.path.join(os.getcwd(),\"2610.pickle\"),'rb') as f:\n",
        "    df = pickle.load(f)\n",
        "    print(df.tail())\n",
        "    print(df.shape)\n",
        "    df.drop(['year','week','month','day','adj_close'],axis=1,inplace=True)\n",
        "    \n",
        "    '''\n",
        "    df = df[['open','high','low','close','volume']]\n",
        "    '''\n",
        "    df['diff1'] = df['close']-df['open']\n",
        "    df['diff2']= df['close']-df['low']\n",
        "    df['diff3']= df['high']-df['close']\n",
        "    df['diff4']= df['high']-df['low']\n",
        "    df['diff5']= df['open']-df['low']\n",
        "    df['diff5']= df['high']-df['open']\n",
        "    #df = df[['open','high','low','close','volume']]\n",
        "    \n",
        "    \n",
        "\n",
        "    "
      ],
      "execution_count": 6,
      "outputs": [
        {
          "output_type": "stream",
          "text": [
            "      adj_close  close  high   low  ...     ema_D        RS        RSI       OBV\n",
            "4082       8.32   8.32  8.39  8.20  ...  0.071174  0.336450  25.174926  0.631579\n",
            "4083       8.40   8.41  8.48  8.29  ...  0.061684  0.530991  34.682835  0.631579\n",
            "4084       9.09   9.10  9.18  8.80  ...  0.066331  1.834249  64.717285  0.789474\n",
            "4085       9.01   9.01  9.19  8.97  ...  0.069487  1.517486  60.277827  0.181818\n",
            "4086       8.88   8.88  9.04  8.80  ...  0.077556  1.178334  54.093359  0.333333\n",
            "\n",
            "[5 rows x 36 columns]\n",
            "(4087, 36)\n"
          ],
          "name": "stdout"
        }
      ]
    },
    {
      "cell_type": "code",
      "metadata": {
        "id": "WoTr32jHa3EY",
        "outputId": "1bb43a4b-b10a-4500-eb5e-e6994c3a4652",
        "colab": {
          "base_uri": "https://localhost:8080/"
        }
      },
      "source": [
        "past = 60\n",
        "future = 5\n",
        "profit = 0.02\n",
        "val_ratio = 0.2\n",
        "sample = 100\n",
        "\n",
        "data_y = buildYTrain(df.copy(),past,future,profit)\n",
        "\n",
        "#df = df.copy().drop(['open','high','low','close'],axis=1)\n",
        "df = df.copy()\n",
        "data = normalize_data(df.copy())\n",
        "\n",
        "data_x = buildXTrain(data,past,future,profit)\n",
        "print(data_x.shape)\n",
        "print(data_y.shape)\n",
        "\n"
      ],
      "execution_count": 7,
      "outputs": [
        {
          "output_type": "stream",
          "text": [
            "(4022, 60, 36)\n",
            "(4022,)\n"
          ],
          "name": "stdout"
        }
      ]
    },
    {
      "cell_type": "code",
      "metadata": {
        "id": "PPu3ohpXa3Eu"
      },
      "source": [
        "data_X, data_Y = shuffle(data_x, data_y)\n",
        "x_train, y_train, x_val, y_val = splitData(data_X, data_Y, val_ratio)\n",
        "test_x = x_train[-sample:]\n",
        "x_train = x_train[:-sample]\n",
        "test_y = y_train[-sample:]\n",
        "y_train = y_train[:-sample]\n",
        "#Y_train = to_categorical(y_train, num_classes=num_classes)\n",
        "#Y_val = to_categorical(y_val, num_classes=num_classes)"
      ],
      "execution_count": 8,
      "outputs": []
    },
    {
      "cell_type": "code",
      "metadata": {
        "id": "Byunrr6juBvJ",
        "outputId": "11d643ca-96f1-47fd-8a22-eb808e1df989",
        "colab": {
          "base_uri": "https://localhost:8080/"
        }
      },
      "source": [
        "print(test_y)"
      ],
      "execution_count": 9,
      "outputs": [
        {
          "output_type": "stream",
          "text": [
            "[0 0 0 0 0 1 0 0 0 0 0 0 1 0 0 1 0 0 0 1 0 0 0 0 1 1 1 1 1 0 0 1 1 1 1 0 1\n",
            " 0 0 0 0 0 0 1 0 0 0 1 0 0 0 1 1 1 0 0 1 1 1 1 1 0 0 0 0 0 1 0 1 0 0 0 0 0\n",
            " 0 0 0 0 1 0 0 1 0 0 0 1 0 1 0 0 0 0 0 0 0 0 1 0 0 0]\n"
          ],
          "name": "stdout"
        }
      ]
    },
    {
      "cell_type": "code",
      "metadata": {
        "id": "h8NS6y62a3FB",
        "outputId": "54525a0f-2154-473b-8184-7465e73cd34b",
        "colab": {
          "base_uri": "https://localhost:8080/"
        }
      },
      "source": [
        "backend.clear_session()\n",
        "\n",
        "model = Sequential()\n",
        "model.add(LSTM(units = 16,  input_shape = (x_train.shape[1:]), return_sequences=True,activation='selu'))\n",
        "model.add(Dropout(0.2))\n",
        "model.add(LSTM(units = 16, return_sequences=True,activation='selu'))\n",
        "model.add(Dropout(0.2))\n",
        "model.add(Conv1D(32, 3, activation='selu'))\n",
        "model.add(Conv1D(32, 3, activation='selu'))\n",
        "model.add(MaxPooling1D(2))\n",
        "model.add(Conv1D(32, 3, activation='selu'))\n",
        "model.add(Conv1D(32, 3, activation='selu'))\n",
        "model.add(MaxPooling1D(2))\n",
        "\n",
        "#model.add(LSTM(units = 32,activation='selu'))\n",
        "#model.add(GlobalAveragePooling1D())\n",
        "model.add(Flatten())\n",
        "model.add(Dense(32, activation='selu'))    \n",
        "model.add(Dropout(0.2))    \n",
        "model.add(Dense(32, activation='selu'))    \n",
        "model.add(Dropout(0.2)) \n",
        "\n",
        "#model.add(Dense(units = 1, activation='relu'))\n",
        "\n",
        "\n",
        "# (b, 128, 30) > (b, 128, 1) > (b, 128)\n",
        "# (b, 128) > (b, 1)\n",
        "\n",
        "#model.add(Dense(units = 24))\n",
        "#model.add(Dropout(0.5))\n",
        "model.add(Dense(units = 1, activation='sigmoid'))\n",
        "\n",
        "op=tensorflow.keras.optimizers.Adam(\n",
        "    learning_rate=0.001,\n",
        "    beta_1=0.9,\n",
        "    beta_2=0.999,\n",
        "    epsilon=1e-07,\n",
        "    amsgrad=False,\n",
        "    name=\"Adam\",\n",
        ")\n",
        "model.compile(loss='binary_crossentropy', optimizer=op, metrics=['accuracy'])\n",
        "\n",
        "'''\n",
        "model = Sequential()\n",
        "model.add(Conv1D(16, 3, activation='selu', input_shape=(x_train.shape[1:])))\n",
        "model.add(Conv1D(16, 3, activation='selu'))\n",
        "model.add(MaxPooling1D(2))\n",
        "model.add(Conv1D(16, 3, activation='selu'))\n",
        "model.add(Conv1D(16, 3, activation='selu'))\n",
        "model.add(MaxPooling1D(2))\n",
        "\n",
        "model.add(Conv1D(16, 3, activation='selu'))\n",
        "model.add(Conv1D(16, 3, activation='selu'))\n",
        "model.add(MaxPooling1D(2))\n",
        "\n",
        "model.add(Conv1D(16, 3, activation='selu'))\n",
        "model.add(Conv1D(16, 3, activation='selu'))\n",
        "model.add(MaxPooling1D(2))\n",
        "\n",
        "\n",
        "#model.add(Conv1D(128, 3, activation='selu'))\n",
        "#model.add(Conv1D(128, 3, activation='selu'))\n",
        "\n",
        "#model.add(Conv1D(160, 3, activation='selu'))\n",
        "#model.add(GlobalAveragePooling1D())\n",
        "#model.add(Dropout(0.5))\n",
        "model.add(Flatten())\n",
        "model.add(Dense(512, activation='selu'))    \n",
        "model.add(Dropout(0.5))    \n",
        "model.add(Dense(512, activation='selu'))    \n",
        "model.add(Dropout(0.5)) \n",
        "#model.add(Dense(num_classes, activation='softmax'))\n",
        "model.add(Dense(1, activation='sigmoid'))\n",
        "\n",
        "#model.compile(loss='categorical_crossentropy', optimizer='adam', metrics=['accuracy'])\n",
        "model.compile(loss='binary_crossentropy', optimizer='adam', metrics=['accuracy'])\n",
        "'''\n",
        "\n",
        "\n",
        "model.summary()"
      ],
      "execution_count": 93,
      "outputs": [
        {
          "output_type": "stream",
          "text": [
            "WARNING:tensorflow:Layer lstm will not use cuDNN kernel since it doesn't meet the cuDNN kernel criteria. It will use generic GPU kernel as fallback when running on GPU\n",
            "WARNING:tensorflow:Layer lstm_1 will not use cuDNN kernel since it doesn't meet the cuDNN kernel criteria. It will use generic GPU kernel as fallback when running on GPU\n",
            "Model: \"sequential\"\n",
            "_________________________________________________________________\n",
            "Layer (type)                 Output Shape              Param #   \n",
            "=================================================================\n",
            "lstm (LSTM)                  (None, 60, 16)            3392      \n",
            "_________________________________________________________________\n",
            "dropout (Dropout)            (None, 60, 16)            0         \n",
            "_________________________________________________________________\n",
            "lstm_1 (LSTM)                (None, 60, 16)            2112      \n",
            "_________________________________________________________________\n",
            "dropout_1 (Dropout)          (None, 60, 16)            0         \n",
            "_________________________________________________________________\n",
            "conv1d (Conv1D)              (None, 58, 32)            1568      \n",
            "_________________________________________________________________\n",
            "conv1d_1 (Conv1D)            (None, 56, 32)            3104      \n",
            "_________________________________________________________________\n",
            "max_pooling1d (MaxPooling1D) (None, 28, 32)            0         \n",
            "_________________________________________________________________\n",
            "conv1d_2 (Conv1D)            (None, 26, 32)            3104      \n",
            "_________________________________________________________________\n",
            "conv1d_3 (Conv1D)            (None, 24, 32)            3104      \n",
            "_________________________________________________________________\n",
            "max_pooling1d_1 (MaxPooling1 (None, 12, 32)            0         \n",
            "_________________________________________________________________\n",
            "flatten (Flatten)            (None, 384)               0         \n",
            "_________________________________________________________________\n",
            "dense (Dense)                (None, 32)                12320     \n",
            "_________________________________________________________________\n",
            "dropout_2 (Dropout)          (None, 32)                0         \n",
            "_________________________________________________________________\n",
            "dense_1 (Dense)              (None, 32)                1056      \n",
            "_________________________________________________________________\n",
            "dropout_3 (Dropout)          (None, 32)                0         \n",
            "_________________________________________________________________\n",
            "dense_2 (Dense)              (None, 1)                 33        \n",
            "=================================================================\n",
            "Total params: 29,793\n",
            "Trainable params: 29,793\n",
            "Non-trainable params: 0\n",
            "_________________________________________________________________\n"
          ],
          "name": "stdout"
        }
      ]
    },
    {
      "cell_type": "code",
      "metadata": {
        "id": "sExTqSXBa3FG",
        "outputId": "cf1d335e-57e2-4755-a235-1247318795ae",
        "colab": {
          "base_uri": "https://localhost:8080/",
          "height": 1000
        }
      },
      "source": [
        "callback = EarlyStopping(monitor=\"val_loss\", patience=10, verbose=1, mode=\"auto\")\n",
        "history=model.fit(x_train, y_train, epochs=1000, batch_size=32, validation_data=(x_val, y_val), callbacks=[callback])\n",
        "training_result(history)"
      ],
      "execution_count": 94,
      "outputs": [
        {
          "output_type": "stream",
          "text": [
            "Epoch 1/1000\n",
            "98/98 [==============================] - 17s 174ms/step - loss: 0.6762 - accuracy: 0.6693 - val_loss: 0.5846 - val_accuracy: 0.7177\n",
            "Epoch 2/1000\n",
            "98/98 [==============================] - 17s 170ms/step - loss: 0.6117 - accuracy: 0.6937 - val_loss: 0.6142 - val_accuracy: 0.6679\n",
            "Epoch 3/1000\n",
            "98/98 [==============================] - 17s 170ms/step - loss: 0.5929 - accuracy: 0.7017 - val_loss: 0.6287 - val_accuracy: 0.6729\n",
            "Epoch 4/1000\n",
            "98/98 [==============================] - 17s 169ms/step - loss: 0.5858 - accuracy: 0.7126 - val_loss: 0.6364 - val_accuracy: 0.6866\n",
            "Epoch 5/1000\n",
            "98/98 [==============================] - 17s 169ms/step - loss: 0.5806 - accuracy: 0.7101 - val_loss: 0.5658 - val_accuracy: 0.7189\n",
            "Epoch 6/1000\n",
            "98/98 [==============================] - 17s 169ms/step - loss: 0.5769 - accuracy: 0.7158 - val_loss: 0.5558 - val_accuracy: 0.7338\n",
            "Epoch 7/1000\n",
            "98/98 [==============================] - 16s 168ms/step - loss: 0.5718 - accuracy: 0.7168 - val_loss: 0.5816 - val_accuracy: 0.7239\n",
            "Epoch 8/1000\n",
            "98/98 [==============================] - 16s 166ms/step - loss: 0.5638 - accuracy: 0.7171 - val_loss: 0.5731 - val_accuracy: 0.7027\n",
            "Epoch 9/1000\n",
            "98/98 [==============================] - 17s 169ms/step - loss: 0.5620 - accuracy: 0.7187 - val_loss: 0.5813 - val_accuracy: 0.7152\n",
            "Epoch 10/1000\n",
            "98/98 [==============================] - 16s 165ms/step - loss: 0.5671 - accuracy: 0.7168 - val_loss: 0.5683 - val_accuracy: 0.7177\n",
            "Epoch 11/1000\n",
            "98/98 [==============================] - 17s 169ms/step - loss: 0.5673 - accuracy: 0.7165 - val_loss: 0.5759 - val_accuracy: 0.7052\n",
            "Epoch 12/1000\n",
            "98/98 [==============================] - 16s 168ms/step - loss: 0.5597 - accuracy: 0.7235 - val_loss: 0.5633 - val_accuracy: 0.7040\n",
            "Epoch 13/1000\n",
            "98/98 [==============================] - 17s 170ms/step - loss: 0.5619 - accuracy: 0.7264 - val_loss: 0.5544 - val_accuracy: 0.7177\n",
            "Epoch 14/1000\n",
            "98/98 [==============================] - 17s 171ms/step - loss: 0.5502 - accuracy: 0.7306 - val_loss: 0.5510 - val_accuracy: 0.7400\n",
            "Epoch 15/1000\n",
            "98/98 [==============================] - 17s 171ms/step - loss: 0.5547 - accuracy: 0.7296 - val_loss: 0.5538 - val_accuracy: 0.7189\n",
            "Epoch 16/1000\n",
            "98/98 [==============================] - 16s 167ms/step - loss: 0.5487 - accuracy: 0.7344 - val_loss: 0.5524 - val_accuracy: 0.7301\n",
            "Epoch 17/1000\n",
            "98/98 [==============================] - 17s 170ms/step - loss: 0.5447 - accuracy: 0.7389 - val_loss: 0.5387 - val_accuracy: 0.7425\n",
            "Epoch 18/1000\n",
            "98/98 [==============================] - 17s 170ms/step - loss: 0.5370 - accuracy: 0.7360 - val_loss: 0.5537 - val_accuracy: 0.7002\n",
            "Epoch 19/1000\n",
            "98/98 [==============================] - 16s 168ms/step - loss: 0.5457 - accuracy: 0.7328 - val_loss: 0.5395 - val_accuracy: 0.7438\n",
            "Epoch 20/1000\n",
            "98/98 [==============================] - 16s 168ms/step - loss: 0.5373 - accuracy: 0.7377 - val_loss: 0.5494 - val_accuracy: 0.7201\n",
            "Epoch 21/1000\n",
            "98/98 [==============================] - 17s 170ms/step - loss: 0.5397 - accuracy: 0.7389 - val_loss: 0.5343 - val_accuracy: 0.7463\n",
            "Epoch 22/1000\n",
            "98/98 [==============================] - 17s 169ms/step - loss: 0.5311 - accuracy: 0.7470 - val_loss: 0.5317 - val_accuracy: 0.7326\n",
            "Epoch 23/1000\n",
            "98/98 [==============================] - 17s 168ms/step - loss: 0.5336 - accuracy: 0.7399 - val_loss: 0.5268 - val_accuracy: 0.7537\n",
            "Epoch 24/1000\n",
            "98/98 [==============================] - 16s 167ms/step - loss: 0.5372 - accuracy: 0.7399 - val_loss: 0.5332 - val_accuracy: 0.7313\n",
            "Epoch 25/1000\n",
            "98/98 [==============================] - 16s 168ms/step - loss: 0.5309 - accuracy: 0.7447 - val_loss: 0.5229 - val_accuracy: 0.7488\n",
            "Epoch 26/1000\n",
            "98/98 [==============================] - 17s 169ms/step - loss: 0.5227 - accuracy: 0.7495 - val_loss: 0.5350 - val_accuracy: 0.7463\n",
            "Epoch 27/1000\n",
            "98/98 [==============================] - 16s 168ms/step - loss: 0.5253 - accuracy: 0.7518 - val_loss: 0.5181 - val_accuracy: 0.7475\n",
            "Epoch 28/1000\n",
            "98/98 [==============================] - 17s 169ms/step - loss: 0.5228 - accuracy: 0.7479 - val_loss: 0.5423 - val_accuracy: 0.7624\n",
            "Epoch 29/1000\n",
            "98/98 [==============================] - 16s 168ms/step - loss: 0.5150 - accuracy: 0.7582 - val_loss: 0.5329 - val_accuracy: 0.7326\n",
            "Epoch 30/1000\n",
            "98/98 [==============================] - 17s 169ms/step - loss: 0.5128 - accuracy: 0.7604 - val_loss: 0.5211 - val_accuracy: 0.7363\n",
            "Epoch 31/1000\n",
            "98/98 [==============================] - 17s 169ms/step - loss: 0.5094 - accuracy: 0.7585 - val_loss: 0.5159 - val_accuracy: 0.7537\n",
            "Epoch 32/1000\n",
            "98/98 [==============================] - 17s 169ms/step - loss: 0.5082 - accuracy: 0.7704 - val_loss: 0.5225 - val_accuracy: 0.7512\n",
            "Epoch 33/1000\n",
            "98/98 [==============================] - 16s 168ms/step - loss: 0.5101 - accuracy: 0.7579 - val_loss: 0.5182 - val_accuracy: 0.7438\n",
            "Epoch 34/1000\n",
            "98/98 [==============================] - 16s 168ms/step - loss: 0.5031 - accuracy: 0.7601 - val_loss: 0.5155 - val_accuracy: 0.7600\n",
            "Epoch 35/1000\n",
            "98/98 [==============================] - 17s 169ms/step - loss: 0.5025 - accuracy: 0.7665 - val_loss: 0.5200 - val_accuracy: 0.7413\n",
            "Epoch 36/1000\n",
            "98/98 [==============================] - 16s 168ms/step - loss: 0.4982 - accuracy: 0.7662 - val_loss: 0.5173 - val_accuracy: 0.7488\n",
            "Epoch 37/1000\n",
            "98/98 [==============================] - 17s 171ms/step - loss: 0.4949 - accuracy: 0.7710 - val_loss: 0.5154 - val_accuracy: 0.7624\n",
            "Epoch 38/1000\n",
            "98/98 [==============================] - 17s 170ms/step - loss: 0.4893 - accuracy: 0.7733 - val_loss: 0.5277 - val_accuracy: 0.7376\n",
            "Epoch 39/1000\n",
            "98/98 [==============================] - 17s 169ms/step - loss: 0.4974 - accuracy: 0.7729 - val_loss: 0.5169 - val_accuracy: 0.7450\n",
            "Epoch 40/1000\n",
            "98/98 [==============================] - 16s 168ms/step - loss: 0.4886 - accuracy: 0.7765 - val_loss: 0.5376 - val_accuracy: 0.7276\n",
            "Epoch 41/1000\n",
            "98/98 [==============================] - 17s 171ms/step - loss: 0.4878 - accuracy: 0.7710 - val_loss: 0.5065 - val_accuracy: 0.7649\n",
            "Epoch 42/1000\n",
            "98/98 [==============================] - 17s 169ms/step - loss: 0.4885 - accuracy: 0.7726 - val_loss: 0.5107 - val_accuracy: 0.7425\n",
            "Epoch 43/1000\n",
            "98/98 [==============================] - 17s 174ms/step - loss: 0.4817 - accuracy: 0.7726 - val_loss: 0.5175 - val_accuracy: 0.7550\n",
            "Epoch 44/1000\n",
            "98/98 [==============================] - 16s 164ms/step - loss: 0.4845 - accuracy: 0.7758 - val_loss: 0.5095 - val_accuracy: 0.7600\n",
            "Epoch 45/1000\n",
            "98/98 [==============================] - 17s 170ms/step - loss: 0.4735 - accuracy: 0.7781 - val_loss: 0.5185 - val_accuracy: 0.7600\n",
            "Epoch 46/1000\n",
            "98/98 [==============================] - 16s 168ms/step - loss: 0.4730 - accuracy: 0.7761 - val_loss: 0.5158 - val_accuracy: 0.7425\n",
            "Epoch 47/1000\n",
            "98/98 [==============================] - 16s 167ms/step - loss: 0.4740 - accuracy: 0.7842 - val_loss: 0.5018 - val_accuracy: 0.7624\n",
            "Epoch 48/1000\n",
            "98/98 [==============================] - 17s 172ms/step - loss: 0.4683 - accuracy: 0.7919 - val_loss: 0.5124 - val_accuracy: 0.7562\n",
            "Epoch 49/1000\n",
            "98/98 [==============================] - 17s 170ms/step - loss: 0.4675 - accuracy: 0.7886 - val_loss: 0.4898 - val_accuracy: 0.7662\n",
            "Epoch 50/1000\n",
            "98/98 [==============================] - 16s 167ms/step - loss: 0.4554 - accuracy: 0.7931 - val_loss: 0.4908 - val_accuracy: 0.7711\n",
            "Epoch 51/1000\n",
            "98/98 [==============================] - 16s 167ms/step - loss: 0.4605 - accuracy: 0.7909 - val_loss: 0.4927 - val_accuracy: 0.7711\n",
            "Epoch 52/1000\n",
            "98/98 [==============================] - 17s 170ms/step - loss: 0.4609 - accuracy: 0.7919 - val_loss: 0.5208 - val_accuracy: 0.7500\n",
            "Epoch 53/1000\n",
            "98/98 [==============================] - 17s 171ms/step - loss: 0.4444 - accuracy: 0.7996 - val_loss: 0.4889 - val_accuracy: 0.7600\n",
            "Epoch 54/1000\n",
            "98/98 [==============================] - 16s 167ms/step - loss: 0.4441 - accuracy: 0.8047 - val_loss: 0.4931 - val_accuracy: 0.7575\n",
            "Epoch 55/1000\n",
            "98/98 [==============================] - 17s 170ms/step - loss: 0.4466 - accuracy: 0.7983 - val_loss: 0.4851 - val_accuracy: 0.7649\n",
            "Epoch 56/1000\n",
            "98/98 [==============================] - 17s 169ms/step - loss: 0.4364 - accuracy: 0.8066 - val_loss: 0.4789 - val_accuracy: 0.7799\n",
            "Epoch 57/1000\n",
            "98/98 [==============================] - 17s 170ms/step - loss: 0.4295 - accuracy: 0.8149 - val_loss: 0.4961 - val_accuracy: 0.7836\n",
            "Epoch 58/1000\n",
            "98/98 [==============================] - 17s 171ms/step - loss: 0.4202 - accuracy: 0.8098 - val_loss: 0.5092 - val_accuracy: 0.7761\n",
            "Epoch 59/1000\n",
            "98/98 [==============================] - 17s 168ms/step - loss: 0.4132 - accuracy: 0.8249 - val_loss: 0.5053 - val_accuracy: 0.7749\n",
            "Epoch 60/1000\n",
            "98/98 [==============================] - 17s 171ms/step - loss: 0.4147 - accuracy: 0.8140 - val_loss: 0.4977 - val_accuracy: 0.7600\n",
            "Epoch 61/1000\n",
            "98/98 [==============================] - 16s 168ms/step - loss: 0.4321 - accuracy: 0.8034 - val_loss: 0.4857 - val_accuracy: 0.7848\n",
            "Epoch 62/1000\n",
            "98/98 [==============================] - 17s 170ms/step - loss: 0.4185 - accuracy: 0.8169 - val_loss: 0.5051 - val_accuracy: 0.7575\n",
            "Epoch 63/1000\n",
            "98/98 [==============================] - 16s 168ms/step - loss: 0.4079 - accuracy: 0.8210 - val_loss: 0.4764 - val_accuracy: 0.7811\n",
            "Epoch 64/1000\n",
            "98/98 [==============================] - 17s 171ms/step - loss: 0.3977 - accuracy: 0.8319 - val_loss: 0.4856 - val_accuracy: 0.7736\n",
            "Epoch 65/1000\n",
            "98/98 [==============================] - 17s 169ms/step - loss: 0.4030 - accuracy: 0.8230 - val_loss: 0.5180 - val_accuracy: 0.7587\n",
            "Epoch 66/1000\n",
            "98/98 [==============================] - 17s 171ms/step - loss: 0.3933 - accuracy: 0.8303 - val_loss: 0.4811 - val_accuracy: 0.7687\n",
            "Epoch 67/1000\n",
            "98/98 [==============================] - 17s 172ms/step - loss: 0.3899 - accuracy: 0.8281 - val_loss: 0.4766 - val_accuracy: 0.7886\n",
            "Epoch 68/1000\n",
            "98/98 [==============================] - 17s 171ms/step - loss: 0.3954 - accuracy: 0.8223 - val_loss: 0.4699 - val_accuracy: 0.7823\n",
            "Epoch 69/1000\n",
            "98/98 [==============================] - 17s 171ms/step - loss: 0.3776 - accuracy: 0.8428 - val_loss: 0.4981 - val_accuracy: 0.7799\n",
            "Epoch 70/1000\n",
            "98/98 [==============================] - 17s 169ms/step - loss: 0.3743 - accuracy: 0.8422 - val_loss: 0.4925 - val_accuracy: 0.7811\n",
            "Epoch 71/1000\n",
            "98/98 [==============================] - 17s 169ms/step - loss: 0.3697 - accuracy: 0.8428 - val_loss: 0.5060 - val_accuracy: 0.7761\n",
            "Epoch 72/1000\n",
            "98/98 [==============================] - 17s 169ms/step - loss: 0.3708 - accuracy: 0.8438 - val_loss: 0.5044 - val_accuracy: 0.7761\n",
            "Epoch 73/1000\n",
            "98/98 [==============================] - 17s 170ms/step - loss: 0.3566 - accuracy: 0.8512 - val_loss: 0.4707 - val_accuracy: 0.8022\n",
            "Epoch 74/1000\n",
            "98/98 [==============================] - 17s 173ms/step - loss: 0.3743 - accuracy: 0.8307 - val_loss: 0.4755 - val_accuracy: 0.7935\n",
            "Epoch 75/1000\n",
            "98/98 [==============================] - 17s 173ms/step - loss: 0.3559 - accuracy: 0.8480 - val_loss: 0.4576 - val_accuracy: 0.7973\n",
            "Epoch 76/1000\n",
            "98/98 [==============================] - 17s 170ms/step - loss: 0.3632 - accuracy: 0.8432 - val_loss: 0.4682 - val_accuracy: 0.7898\n",
            "Epoch 77/1000\n",
            "98/98 [==============================] - 17s 172ms/step - loss: 0.3417 - accuracy: 0.8653 - val_loss: 0.5032 - val_accuracy: 0.7948\n",
            "Epoch 78/1000\n",
            "98/98 [==============================] - 17s 170ms/step - loss: 0.3600 - accuracy: 0.8441 - val_loss: 0.4934 - val_accuracy: 0.8010\n",
            "Epoch 79/1000\n",
            "98/98 [==============================] - 17s 169ms/step - loss: 0.3401 - accuracy: 0.8586 - val_loss: 0.4803 - val_accuracy: 0.7923\n",
            "Epoch 80/1000\n",
            "98/98 [==============================] - 17s 173ms/step - loss: 0.3452 - accuracy: 0.8473 - val_loss: 0.5272 - val_accuracy: 0.7811\n",
            "Epoch 81/1000\n",
            "98/98 [==============================] - 17s 172ms/step - loss: 0.3234 - accuracy: 0.8621 - val_loss: 0.4656 - val_accuracy: 0.8047\n",
            "Epoch 82/1000\n",
            "98/98 [==============================] - 17s 170ms/step - loss: 0.3273 - accuracy: 0.8608 - val_loss: 0.4912 - val_accuracy: 0.7873\n",
            "Epoch 83/1000\n",
            "98/98 [==============================] - 17s 172ms/step - loss: 0.3317 - accuracy: 0.8647 - val_loss: 0.4909 - val_accuracy: 0.7886\n",
            "Epoch 84/1000\n",
            "98/98 [==============================] - 17s 169ms/step - loss: 0.3274 - accuracy: 0.8586 - val_loss: 0.4790 - val_accuracy: 0.7960\n",
            "Epoch 85/1000\n",
            "98/98 [==============================] - 17s 172ms/step - loss: 0.3228 - accuracy: 0.8634 - val_loss: 0.4615 - val_accuracy: 0.8109\n",
            "Epoch 00085: early stopping\n"
          ],
          "name": "stdout"
        },
        {
          "output_type": "display_data",
          "data": {
            "image/png": "[encoded data removed]",
            "text/plain": [
              "<Figure size 432x288 with 1 Axes>"
            ]
          },
          "metadata": {
            "tags": [],
            "needs_background": "light"
          }
        },
        {
          "output_type": "display_data",
          "data": {
            "image/png": "[encoded data removed]",
            "text/plain": [
              "<Figure size 432x288 with 1 Axes>"
            ]
          },
          "metadata": {
            "tags": [],
            "needs_background": "light"
          }
        }
      ]
    },
    {
      "cell_type": "code",
      "metadata": {
        "id": "Rf7RyaVca3FK",
        "outputId": "be41395c-7fa5-4535-b57f-f9e2daf97269",
        "colab": {
          "base_uri": "https://localhost:8080/"
        }
      },
      "source": [
        "ans=model.predict(test_x)\n",
        "TP = 0\n",
        "FP = 0\n",
        "TN = 0\n",
        "FN = 0\n",
        "thre = 0.5\n",
        "\n",
        "for i in range(len(test_y)):\n",
        "  if (ans[i]>=thre and test_y[i]>0.5):\n",
        "    TP += 1\n",
        "  elif (ans[i]>=thre and test_y[i]<0.5):\n",
        "    FP += 1\n",
        "  elif (ans[i]<thre and test_y[i]>0.5):\n",
        "    FN += 1\n",
        "  else:\n",
        "    TN += 1\n",
        "t = 0\n",
        "f = 0\n",
        "for i in range(len(test_y)):\n",
        "  if test_y[i]>0.5:\n",
        "    t+=1\n",
        "  else:\n",
        "    f+=1\n",
        "\n",
        "print(f'TP:{TP}',f'FP:{FP}',f'TN:{TN}',f'FN:{FN}')\n",
        "print(TP/(TP+FP))\n",
        "print(t,f)"
      ],
      "execution_count": 95,
      "outputs": [
        {
          "output_type": "stream",
          "text": [
            "TP:15 FP:5 TN:64 FN:16\n",
            "0.75\n",
            "31 69\n"
          ],
          "name": "stdout"
        }
      ]
    },
    {
      "cell_type": "code",
      "metadata": {
        "id": "axmaMZY3v3EL",
        "outputId": "efb87405-0181-4f3f-dd96-a312aa9ed5d2",
        "colab": {
          "base_uri": "https://localhost:8080/"
        }
      },
      "source": [
        "ans"
      ],
      "execution_count": 53,
      "outputs": [
        {
          "output_type": "execute_result",
          "data": {
            "text/plain": [
              "array([[0.51515657],\n",
              "       [0.05201308],\n",
              "       [0.05881078],\n",
              "       [0.5030589 ],\n",
              "       [0.2598351 ],\n",
              "       [0.17997016],\n",
              "       [0.22417589],\n",
              "       [0.84754217],\n",
              "       [0.17408118],\n",
              "       [0.2917655 ],\n",
              "       [0.34872788],\n",
              "       [0.03139626],\n",
              "       [0.46634758],\n",
              "       [0.11042711],\n",
              "       [0.66015434],\n",
              "       [0.9560649 ],\n",
              "       [0.05079189],\n",
              "       [0.03463334],\n",
              "       [0.14784692],\n",
              "       [0.67778975],\n",
              "       [0.677145  ],\n",
              "       [0.04058213],\n",
              "       [0.12556632],\n",
              "       [0.30733287],\n",
              "       [0.60952765],\n",
              "       [0.8958636 ],\n",
              "       [0.66759133],\n",
              "       [0.4619913 ],\n",
              "       [0.96760935],\n",
              "       [0.06241743],\n",
              "       [0.7518124 ],\n",
              "       [0.32792568],\n",
              "       [0.51531357],\n",
              "       [0.43576017],\n",
              "       [0.6975855 ],\n",
              "       [0.15927747],\n",
              "       [0.8605646 ],\n",
              "       [0.1447404 ],\n",
              "       [0.06337319],\n",
              "       [0.08064128],\n",
              "       [0.63706225],\n",
              "       [0.05180239],\n",
              "       [0.37459868],\n",
              "       [0.15624832],\n",
              "       [0.0831103 ],\n",
              "       [0.14897802],\n",
              "       [0.12742977],\n",
              "       [0.61053586],\n",
              "       [0.52588165],\n",
              "       [0.06331081],\n",
              "       [0.09128056],\n",
              "       [0.17243356],\n",
              "       [0.9807051 ],\n",
              "       [0.31442708],\n",
              "       [0.8948114 ],\n",
              "       [0.03995824],\n",
              "       [0.27917057],\n",
              "       [0.1799574 ],\n",
              "       [0.13577536],\n",
              "       [0.46084416],\n",
              "       [0.56605536],\n",
              "       [0.01650964],\n",
              "       [0.12294851],\n",
              "       [0.27351764],\n",
              "       [0.13923573],\n",
              "       [0.07095046],\n",
              "       [0.30038375],\n",
              "       [0.0936516 ],\n",
              "       [0.96377575],\n",
              "       [0.11704213],\n",
              "       [0.08429942],\n",
              "       [0.44040823],\n",
              "       [0.06166881],\n",
              "       [0.12109549],\n",
              "       [0.2337613 ],\n",
              "       [0.09820602],\n",
              "       [0.15132278],\n",
              "       [0.30357018],\n",
              "       [0.5225991 ],\n",
              "       [0.07699054],\n",
              "       [0.0577699 ],\n",
              "       [0.6696562 ],\n",
              "       [0.10536697],\n",
              "       [0.09137868],\n",
              "       [0.18107817],\n",
              "       [0.97764516],\n",
              "       [0.2265844 ],\n",
              "       [0.58764887],\n",
              "       [0.0246136 ],\n",
              "       [0.20177165],\n",
              "       [0.12606329],\n",
              "       [0.12155683],\n",
              "       [0.09137493],\n",
              "       [0.9903116 ],\n",
              "       [0.6536479 ],\n",
              "       [0.02774801],\n",
              "       [0.86790293],\n",
              "       [0.19281596],\n",
              "       [0.8570364 ],\n",
              "       [0.14743267]], dtype=float32)"
            ]
          },
          "metadata": {
            "tags": []
          },
          "execution_count": 53
        }
      ]
    }
  ]
}