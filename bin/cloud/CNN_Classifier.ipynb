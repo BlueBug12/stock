{
  "nbformat": 4,
  "nbformat_minor": 0,
  "metadata": {
    "kernelspec": {
      "display_name": "Python 3",
      "language": "python",
      "name": "python3"
    },
    "language_info": {
      "codemirror_mode": {
        "name": "ipython",
        "version": 3
      },
      "file_extension": ".py",
      "mimetype": "text/x-python",
      "name": "python",
      "nbconvert_exporter": "python",
      "pygments_lexer": "ipython3",
      "version": "3.6.10"
    },
    "colab": {
      "name": "CNN_Classifier.ipynb",
      "provenance": [],
      "include_colab_link": true
    },
    "accelerator": "GPU"
  },
  "cells": [
    {
      "cell_type": "markdown",
      "metadata": {
        "id": "view-in-github",
        "colab_type": "text"
      },
      "source": [
        "<a href=\"https://colab.research.google.com/github/BlueBug12/stock/blob/master/bin/cloud/CNN_Classifier.ipynb\" target=\"_parent\"><img src=\"https://colab.research.google.com/assets/colab-badge.svg\" alt=\"Open In Colab\"/></a>"
      ]
    },
    {
      "cell_type": "code",
      "metadata": {
        "id": "U-rTSlsFdMQN",
        "outputId": "6a12387b-b4e3-4607-ba6e-e431e0cec38f",
        "colab": {
          "base_uri": "https://localhost:8080/"
        }
      },
      "source": [
        "!pip install tensorflow==2.2.0"
      ],
      "execution_count": null,
      "outputs": [
        {
          "output_type": "stream",
          "text": [
            "Collecting tensorflow==2.2.0\n",
            "\u001b[?25l  Downloading https://files.pythonhosted.org/packages/3d/be/679ce5254a8c8d07470efb4a4c00345fae91f766e64f1c2aece8796d7218/tensorflow-2.2.0-cp36-cp36m-manylinux2010_x86_64.whl (516.2MB)\n",
            "\u001b[K     |████████████████████████████████| 516.2MB 23kB/s \n",
            "\u001b[?25hCollecting tensorboard<2.3.0,>=2.2.0\n",
            "\u001b[?25l  Downloading https://files.pythonhosted.org/packages/1d/74/0a6fcb206dcc72a6da9a62dd81784bfdbff5fedb099982861dc2219014fb/tensorboard-2.2.2-py3-none-any.whl (3.0MB)\n",
            "\u001b[K     |████████████████████████████████| 3.0MB 47.5MB/s \n",
            "\u001b[?25hRequirement already satisfied: astunparse==1.6.3 in /usr/local/lib/python3.6/dist-packages (from tensorflow==2.2.0) (1.6.3)\n",
            "Requirement already satisfied: wrapt>=1.11.1 in /usr/local/lib/python3.6/dist-packages (from tensorflow==2.2.0) (1.12.1)\n",
            "Requirement already satisfied: google-pasta>=0.1.8 in /usr/local/lib/python3.6/dist-packages (from tensorflow==2.2.0) (0.2.0)\n",
            "Collecting tensorflow-estimator<2.3.0,>=2.2.0\n",
            "\u001b[?25l  Downloading https://files.pythonhosted.org/packages/a4/f5/926ae53d6a226ec0fda5208e0e581cffed895ccc89e36ba76a8e60895b78/tensorflow_estimator-2.2.0-py2.py3-none-any.whl (454kB)\n",
            "\u001b[K     |████████████████████████████████| 460kB 50.0MB/s \n",
            "\u001b[?25hRequirement already satisfied: protobuf>=3.8.0 in /usr/local/lib/python3.6/dist-packages (from tensorflow==2.2.0) (3.12.4)\n",
            "Requirement already satisfied: termcolor>=1.1.0 in /usr/local/lib/python3.6/dist-packages (from tensorflow==2.2.0) (1.1.0)\n",
            "Requirement already satisfied: keras-preprocessing>=1.1.0 in /usr/local/lib/python3.6/dist-packages (from tensorflow==2.2.0) (1.1.2)\n",
            "Requirement already satisfied: opt-einsum>=2.3.2 in /usr/local/lib/python3.6/dist-packages (from tensorflow==2.2.0) (3.3.0)\n",
            "Requirement already satisfied: scipy==1.4.1; python_version >= \"3\" in /usr/local/lib/python3.6/dist-packages (from tensorflow==2.2.0) (1.4.1)\n",
            "Requirement already satisfied: absl-py>=0.7.0 in /usr/local/lib/python3.6/dist-packages (from tensorflow==2.2.0) (0.10.0)\n",
            "Requirement already satisfied: six>=1.12.0 in /usr/local/lib/python3.6/dist-packages (from tensorflow==2.2.0) (1.15.0)\n",
            "Requirement already satisfied: wheel>=0.26; python_version >= \"3\" in /usr/local/lib/python3.6/dist-packages (from tensorflow==2.2.0) (0.35.1)\n",
            "Requirement already satisfied: h5py<2.11.0,>=2.10.0 in /usr/local/lib/python3.6/dist-packages (from tensorflow==2.2.0) (2.10.0)\n",
            "Requirement already satisfied: gast==0.3.3 in /usr/local/lib/python3.6/dist-packages (from tensorflow==2.2.0) (0.3.3)\n",
            "Requirement already satisfied: numpy<2.0,>=1.16.0 in /usr/local/lib/python3.6/dist-packages (from tensorflow==2.2.0) (1.18.5)\n",
            "Requirement already satisfied: grpcio>=1.8.6 in /usr/local/lib/python3.6/dist-packages (from tensorflow==2.2.0) (1.33.2)\n",
            "Requirement already satisfied: werkzeug>=0.11.15 in /usr/local/lib/python3.6/dist-packages (from tensorboard<2.3.0,>=2.2.0->tensorflow==2.2.0) (1.0.1)\n",
            "Requirement already satisfied: google-auth-oauthlib<0.5,>=0.4.1 in /usr/local/lib/python3.6/dist-packages (from tensorboard<2.3.0,>=2.2.0->tensorflow==2.2.0) (0.4.2)\n",
            "Requirement already satisfied: setuptools>=41.0.0 in /usr/local/lib/python3.6/dist-packages (from tensorboard<2.3.0,>=2.2.0->tensorflow==2.2.0) (50.3.2)\n",
            "Requirement already satisfied: markdown>=2.6.8 in /usr/local/lib/python3.6/dist-packages (from tensorboard<2.3.0,>=2.2.0->tensorflow==2.2.0) (3.3.3)\n",
            "Requirement already satisfied: google-auth<2,>=1.6.3 in /usr/local/lib/python3.6/dist-packages (from tensorboard<2.3.0,>=2.2.0->tensorflow==2.2.0) (1.17.2)\n",
            "Requirement already satisfied: requests<3,>=2.21.0 in /usr/local/lib/python3.6/dist-packages (from tensorboard<2.3.0,>=2.2.0->tensorflow==2.2.0) (2.23.0)\n",
            "Requirement already satisfied: tensorboard-plugin-wit>=1.6.0 in /usr/local/lib/python3.6/dist-packages (from tensorboard<2.3.0,>=2.2.0->tensorflow==2.2.0) (1.7.0)\n",
            "Requirement already satisfied: requests-oauthlib>=0.7.0 in /usr/local/lib/python3.6/dist-packages (from google-auth-oauthlib<0.5,>=0.4.1->tensorboard<2.3.0,>=2.2.0->tensorflow==2.2.0) (1.3.0)\n",
            "Requirement already satisfied: importlib-metadata; python_version < \"3.8\" in /usr/local/lib/python3.6/dist-packages (from markdown>=2.6.8->tensorboard<2.3.0,>=2.2.0->tensorflow==2.2.0) (2.0.0)\n",
            "Requirement already satisfied: pyasn1-modules>=0.2.1 in /usr/local/lib/python3.6/dist-packages (from google-auth<2,>=1.6.3->tensorboard<2.3.0,>=2.2.0->tensorflow==2.2.0) (0.2.8)\n",
            "Requirement already satisfied: cachetools<5.0,>=2.0.0 in /usr/local/lib/python3.6/dist-packages (from google-auth<2,>=1.6.3->tensorboard<2.3.0,>=2.2.0->tensorflow==2.2.0) (4.1.1)\n",
            "Requirement already satisfied: rsa<5,>=3.1.4; python_version >= \"3\" in /usr/local/lib/python3.6/dist-packages (from google-auth<2,>=1.6.3->tensorboard<2.3.0,>=2.2.0->tensorflow==2.2.0) (4.6)\n",
            "Requirement already satisfied: chardet<4,>=3.0.2 in /usr/local/lib/python3.6/dist-packages (from requests<3,>=2.21.0->tensorboard<2.3.0,>=2.2.0->tensorflow==2.2.0) (3.0.4)\n",
            "Requirement already satisfied: urllib3!=1.25.0,!=1.25.1,<1.26,>=1.21.1 in /usr/local/lib/python3.6/dist-packages (from requests<3,>=2.21.0->tensorboard<2.3.0,>=2.2.0->tensorflow==2.2.0) (1.24.3)\n",
            "Requirement already satisfied: idna<3,>=2.5 in /usr/local/lib/python3.6/dist-packages (from requests<3,>=2.21.0->tensorboard<2.3.0,>=2.2.0->tensorflow==2.2.0) (2.10)\n",
            "Requirement already satisfied: certifi>=2017.4.17 in /usr/local/lib/python3.6/dist-packages (from requests<3,>=2.21.0->tensorboard<2.3.0,>=2.2.0->tensorflow==2.2.0) (2020.6.20)\n",
            "Requirement already satisfied: oauthlib>=3.0.0 in /usr/local/lib/python3.6/dist-packages (from requests-oauthlib>=0.7.0->google-auth-oauthlib<0.5,>=0.4.1->tensorboard<2.3.0,>=2.2.0->tensorflow==2.2.0) (3.1.0)\n",
            "Requirement already satisfied: zipp>=0.5 in /usr/local/lib/python3.6/dist-packages (from importlib-metadata; python_version < \"3.8\"->markdown>=2.6.8->tensorboard<2.3.0,>=2.2.0->tensorflow==2.2.0) (3.4.0)\n",
            "Requirement already satisfied: pyasn1<0.5.0,>=0.4.6 in /usr/local/lib/python3.6/dist-packages (from pyasn1-modules>=0.2.1->google-auth<2,>=1.6.3->tensorboard<2.3.0,>=2.2.0->tensorflow==2.2.0) (0.4.8)\n",
            "Installing collected packages: tensorboard, tensorflow-estimator, tensorflow\n",
            "  Found existing installation: tensorboard 2.3.0\n",
            "    Uninstalling tensorboard-2.3.0:\n",
            "      Successfully uninstalled tensorboard-2.3.0\n",
            "  Found existing installation: tensorflow-estimator 2.3.0\n",
            "    Uninstalling tensorflow-estimator-2.3.0:\n",
            "      Successfully uninstalled tensorflow-estimator-2.3.0\n",
            "  Found existing installation: tensorflow 2.3.0\n",
            "    Uninstalling tensorflow-2.3.0:\n",
            "      Successfully uninstalled tensorflow-2.3.0\n",
            "Successfully installed tensorboard-2.2.2 tensorflow-2.2.0 tensorflow-estimator-2.2.0\n"
          ],
          "name": "stdout"
        }
      ]
    },
    {
      "cell_type": "code",
      "metadata": {
        "id": "-mEcGUhYfXp5",
        "outputId": "cf61ad29-78f9-4d4f-ba87-3f4f9fe731fa",
        "colab": {
          "base_uri": "https://localhost:8080/"
        }
      },
      "source": [
        "!nvidia-smi"
      ],
      "execution_count": null,
      "outputs": [
        {
          "output_type": "stream",
          "text": [
            "Mon Nov 16 14:20:59 2020       \n",
            "+-----------------------------------------------------------------------------+\n",
            "| NVIDIA-SMI 455.32.00    Driver Version: 418.67       CUDA Version: 10.1     |\n",
            "|-------------------------------+----------------------+----------------------+\n",
            "| GPU  Name        Persistence-M| Bus-Id        Disp.A | Volatile Uncorr. ECC |\n",
            "| Fan  Temp  Perf  Pwr:Usage/Cap|         Memory-Usage | GPU-Util  Compute M. |\n",
            "|                               |                      |               MIG M. |\n",
            "|===============================+======================+======================|\n",
            "|   0  Tesla T4            Off  | 00000000:00:04.0 Off |                    0 |\n",
            "| N/A   43C    P8    10W /  70W |      0MiB / 15079MiB |      0%      Default |\n",
            "|                               |                      |                 ERR! |\n",
            "+-------------------------------+----------------------+----------------------+\n",
            "                                                                               \n",
            "+-----------------------------------------------------------------------------+\n",
            "| Processes:                                                                  |\n",
            "|  GPU   GI   CI        PID   Type   Process name                  GPU Memory |\n",
            "|        ID   ID                                                   Usage      |\n",
            "|=============================================================================|\n",
            "|  No running processes found                                                 |\n",
            "+-----------------------------------------------------------------------------+\n"
          ],
          "name": "stdout"
        }
      ]
    },
    {
      "cell_type": "code",
      "metadata": {
        "id": "4qTouZ0sa3DV"
      },
      "source": [
        "import pandas as pd\n",
        "import numpy as np\n",
        "from sklearn import preprocessing\n",
        "from tensorflow.keras import backend\n",
        "from tensorflow.keras.models import Sequential, load_model, Model\n",
        "from tensorflow.keras.layers import Conv1D, Dense, Activation,MaxPooling1D, GlobalAveragePooling1D, Dropout, Lambda, RepeatVector, Input, Reshape, Flatten, LSTM\n",
        "from keras.layers.normalization import BatchNormalization\n",
        "from tensorflow.keras.optimizers import Adam\n",
        "from tensorflow.keras.callbacks import EarlyStopping, ModelCheckpoint\n",
        "from tensorflow.keras.utils import to_categorical\n",
        "from sklearn.preprocessing import MinMaxScaler\n",
        "import tensorflow\n",
        "import matplotlib.pyplot as plt\n",
        "import pickle\n",
        "import os\n",
        "import pandas\n",
        "import math"
      ],
      "execution_count": 2,
      "outputs": []
    },
    {
      "cell_type": "code",
      "metadata": {
        "id": "QjJu4zDFa3D1",
        "outputId": "5a4e6293-ff9e-4974-a84b-04d9ea912fcd",
        "colab": {
          "base_uri": "https://localhost:8080/"
        }
      },
      "source": [
        "print(tensorflow.__version__)"
      ],
      "execution_count": 3,
      "outputs": [
        {
          "output_type": "stream",
          "text": [
            "2.3.0\n"
          ],
          "name": "stdout"
        }
      ]
    },
    {
      "cell_type": "code",
      "metadata": {
        "id": "UtJO5g3Fa3EE"
      },
      "source": [
        "def buildYTrain(train, pastDay, futureDay,profit):\n",
        "    Y_train = []\n",
        "    for i in range(train.shape[0]-futureDay-pastDay):\n",
        "        ave = np.mean(train['high'][i+pastDay:i+pastDay+futureDay])\n",
        "        #if train['close'][i+pastDay] > train['close'][i+pastDay-1]:\n",
        "        #    Y_train.append(1)\n",
        "        #else:\n",
        "        #    Y_train.append(0)\n",
        "\n",
        "        if (ave-train['close'][i+pastDay-1])/ train['close'][i+pastDay-1] >= profit:\n",
        "            Y_train.append(1)\n",
        "        #if train['close'][i+pastDay] > train['close'][i+pastDay-1]:\n",
        "        #    Y_train.append(1)\n",
        "        #elif (ave-train['close'][i+pastDay])/ train['close'][i+pastDay] < -profit:\n",
        "        #    Y_train.append(1)\n",
        "        else:\n",
        "            Y_train.append(0)     \n",
        "    return np.array(Y_train)\n",
        "\n",
        "def buildXTrain(train, pastDay, futureDay,profit):\n",
        "    X_train = []\n",
        "    for i in range(train.shape[0]-futureDay-pastDay):\n",
        "        X_train.append(np.array(train[i:i+pastDay]))\n",
        "    return np.array(X_train)\n",
        "\n",
        "def normalize_data(data):\n",
        "    scaler = MinMaxScaler(feature_range=(0, 1))\n",
        "    minmaxscaler = scaler.fit(data)\n",
        "    normalize_data = minmaxscaler.transform(data)\n",
        "\n",
        "    return normalize_data\n",
        "def splitData(X,Y,rate):\n",
        "    X_train = X[int(X.shape[0]*rate):]\n",
        "    Y_train = Y[int(Y.shape[0]*rate):]\n",
        "    X_val = X[:int(X.shape[0]*rate)]\n",
        "    Y_val = Y[:int(Y.shape[0]*rate)]\n",
        "    return X_train, Y_train, X_val, Y_val\n",
        "def shuffle(X,Y):\n",
        "    np.random.seed(10)\n",
        "    randomList = np.arange(X.shape[0])\n",
        "    np.random.shuffle(randomList)\n",
        "    return X[randomList], Y[randomList]\n",
        "def training_result(history):\n",
        "    plt.title('Model loss')\n",
        "    plt.plot(history.history['loss'], label='train')\n",
        "    plt.plot(history.history['val_loss'], label='test')\n",
        "    plt.ylabel('Losss')\n",
        "    plt.xlabel('Epoch')\n",
        "    plt.legend()\n",
        "    plt.show()\n",
        "    \n",
        "    plt.plot(history.history['accuracy'], label='train')\n",
        "    plt.plot(history.history['val_accuracy'], label='test')\n",
        "    plt.title('Model accuracy')\n",
        "    plt.ylabel('Accuracy')\n",
        "    plt.xlabel('Epoch')\n",
        "    plt.legend()\n",
        "    plt.show()"
      ],
      "execution_count": 4,
      "outputs": []
    },
    {
      "cell_type": "code",
      "metadata": {
        "id": "-EPKcrhlbOqh",
        "outputId": "0823e09f-c095-4766-a5d2-0ef7ddd4b0d4",
        "colab": {
          "resources": {
            "http://localhost:8080/nbextensions/google.colab/files.js": {
              "data": "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",
              "ok": true,
              "headers": [
                [
                  "content-type",
                  "application/javascript"
                ]
              ],
              "status": 200,
              "status_text": ""
            }
          },
          "base_uri": "https://localhost:8080/",
          "height": 142
        }
      },
      "source": [
        "from google.colab import files\n",
        "uploaded = files.upload()"
      ],
      "execution_count": 5,
      "outputs": [
        {
          "output_type": "display_data",
          "data": {
            "text/html": [
              "\n",
              "     <input type=\"file\" id=\"files-4cc5dbdc-b7b9-4f64-8ba4-0117ac84f5a2\" name=\"files[]\" multiple disabled\n",
              "        style=\"border:none\" />\n",
              "     <output id=\"result-4cc5dbdc-b7b9-4f64-8ba4-0117ac84f5a2\">\n",
              "      Upload widget is only available when the cell has been executed in the\n",
              "      current browser session. Please rerun this cell to enable.\n",
              "      </output>\n",
              "      <script src=\"/nbextensions/google.colab/files.js\"></script> "
            ],
            "text/plain": [
              "<IPython.core.display.HTML object>"
            ]
          },
          "metadata": {
            "tags": []
          }
        },
        {
          "output_type": "stream",
          "text": [
            "Saving 2330.pickle to 2330.pickle\n",
            "Saving 2603.pickle to 2603.pickle\n",
            "Saving 2610.pickle to 2610.pickle\n"
          ],
          "name": "stdout"
        }
      ]
    },
    {
      "cell_type": "code",
      "metadata": {
        "id": "seA-vObSibsx"
      },
      "source": [
        "!mv 2610.pickle data/"
      ],
      "execution_count": null,
      "outputs": []
    },
    {
      "cell_type": "code",
      "metadata": {
        "id": "_yP8bj9VhQRk"
      },
      "source": [
        "!mkdir data\n",
        "!mv 2610.pickle data/"
      ],
      "execution_count": null,
      "outputs": []
    },
    {
      "cell_type": "code",
      "metadata": {
        "id": "c-e56rYza3EO",
        "outputId": "bcb22243-9b02-478e-89fe-94faf9f7a3e5",
        "colab": {
          "base_uri": "https://localhost:8080/"
        }
      },
      "source": [
        "with open(os.path.join(os.getcwd(),\"2610.pickle\"),'rb') as f:\n",
        "    df = pickle.load(f)\n",
        "    print(df.tail())\n",
        "    print(df.shape)\n",
        "    df.drop(['year','week','month','day','adj_close'],axis=1,inplace=True)\n",
        "    \n",
        "    '''\n",
        "    df = df[['open','high','low','close','volume']]\n",
        "    '''\n",
        "    df['diff1'] = df['close']-df['open']\n",
        "    df['diff2']= df['close']-df['low']\n",
        "    df['diff3']= df['high']-df['close']\n",
        "    df['diff4']= df['high']-df['low']\n",
        "    df['diff5']= df['open']-df['low']\n",
        "    df['diff5']= df['high']-df['open']\n",
        "    #df = df[['open','high','low','close','volume']]\n",
        "    \n",
        "    \n",
        "\n",
        "    "
      ],
      "execution_count": 23,
      "outputs": [
        {
          "output_type": "stream",
          "text": [
            "      adj_close  close  high   low  ...     ema_D        RS        RSI       OBV\n",
            "4082       8.32   8.32  8.39  8.20  ...  0.071174  0.336450  25.174926  0.631579\n",
            "4083       8.40   8.41  8.48  8.29  ...  0.061684  0.530991  34.682835  0.631579\n",
            "4084       9.09   9.10  9.18  8.80  ...  0.066331  1.834249  64.717285  0.789474\n",
            "4085       9.01   9.01  9.19  8.97  ...  0.069487  1.517486  60.277827  0.181818\n",
            "4086       8.88   8.88  9.04  8.80  ...  0.077556  1.178334  54.093359  0.333333\n",
            "\n",
            "[5 rows x 36 columns]\n",
            "(4087, 36)\n"
          ],
          "name": "stdout"
        }
      ]
    },
    {
      "cell_type": "code",
      "metadata": {
        "id": "WoTr32jHa3EY",
        "outputId": "bed9a281-b1ee-4fea-9bc1-a3e58280de3b",
        "colab": {
          "base_uri": "https://localhost:8080/"
        }
      },
      "source": [
        "past = 60\n",
        "future = 5\n",
        "profit = 0.02\n",
        "val_ratio = 0.2\n",
        "sample = 100\n",
        "\n",
        "data_y = buildYTrain(df.copy(),past,future,profit)\n",
        "\n",
        "#df = df.copy().drop(['open','high','low','close'],axis=1)\n",
        "df = df.copy()\n",
        "data = normalize_data(df.copy())\n",
        "\n",
        "data_x = buildXTrain(data,past,future,profit)\n",
        "print(data_x.shape)\n",
        "print(data_y.shape)\n",
        "\n"
      ],
      "execution_count": 25,
      "outputs": [
        {
          "output_type": "stream",
          "text": [
            "(4022, 60, 36)\n",
            "(4022,)\n"
          ],
          "name": "stdout"
        }
      ]
    },
    {
      "cell_type": "code",
      "metadata": {
        "id": "PPu3ohpXa3Eu"
      },
      "source": [
        "data_X, data_Y = shuffle(data_x, data_y)\n",
        "x_train, y_train, x_val, y_val = splitData(data_X, data_Y, val_ratio)\n",
        "test_x = x_train[-sample:]\n",
        "x_train = x_train[:-sample]\n",
        "test_y = y_train[-sample:]\n",
        "y_train = y_train[:-sample]\n",
        "#Y_train = to_categorical(y_train, num_classes=num_classes)\n",
        "#Y_val = to_categorical(y_val, num_classes=num_classes)"
      ],
      "execution_count": 26,
      "outputs": []
    },
    {
      "cell_type": "code",
      "metadata": {
        "id": "Byunrr6juBvJ",
        "outputId": "ba623a70-eeab-4c03-b789-2168ba2dbc59",
        "colab": {
          "base_uri": "https://localhost:8080/"
        }
      },
      "source": [
        "print(test_y)"
      ],
      "execution_count": 27,
      "outputs": [
        {
          "output_type": "stream",
          "text": [
            "[0 0 0 0 0 1 0 0 0 0 0 0 1 0 0 1 0 0 0 1 0 0 0 0 1 1 1 1 1 0 0 1 1 1 1 0 1\n",
            " 0 0 0 0 0 0 1 0 0 0 1 0 0 0 1 1 1 0 0 1 1 1 1 1 0 0 0 0 0 1 0 1 0 0 0 0 0\n",
            " 0 0 0 0 1 0 0 1 0 0 0 1 0 1 0 0 0 0 0 0 0 0 1 0 0 0]\n"
          ],
          "name": "stdout"
        }
      ]
    },
    {
      "cell_type": "code",
      "metadata": {
        "id": "h8NS6y62a3FB",
        "outputId": "111500c4-3fd0-458e-b311-3d45f4a435fa",
        "colab": {
          "base_uri": "https://localhost:8080/"
        }
      },
      "source": [
        "backend.clear_session()\n",
        "\n",
        "model = Sequential()\n",
        "model.add(LSTM(units = 32,  input_shape = (x_train.shape[1:]), return_sequences=True,activation='selu'))\n",
        "#model.add(Dense(units = 48, activation='relu'))\n",
        "model.add(Dropout(0.2))\n",
        "model.add(LSTM(units = 32, return_sequences=True,activation='selu'))\n",
        "#model.add(Dense(units = 48, activation='relu'))\n",
        "model.add(Dropout(0.2))\n",
        "model.add(Conv1D(16, 3, activation='selu', input_shape=(x_train.shape[1:])))\n",
        "model.add(Conv1D(16, 3, activation='selu'))\n",
        "model.add(MaxPooling1D(2))\n",
        "model.add(Conv1D(16, 3, activation='selu', input_shape=(x_train.shape[1:])))\n",
        "model.add(Conv1D(16, 3, activation='selu'))\n",
        "model.add(MaxPooling1D(2))\n",
        "model.add(LSTM(units = 32,activation='selu'))\n",
        "\n",
        "\n",
        "#model.add(Dense(units = 1, activation='relu'))\n",
        "\n",
        "\n",
        "# (b, 128, 30) > (b, 128, 1) > (b, 128)\n",
        "# (b, 128) > (b, 1)\n",
        "\n",
        "#model.add(Dense(units = 24))\n",
        "#model.add(Dropout(0.5))\n",
        "model.add(Dense(units = 1, activation='sigmoid'))\n",
        "\n",
        "op=tensorflow.keras.optimizers.Adam(\n",
        "    learning_rate=0.001,\n",
        "    beta_1=0.9,\n",
        "    beta_2=0.999,\n",
        "    epsilon=1e-07,\n",
        "    amsgrad=False,\n",
        "    name=\"Adam\",\n",
        ")\n",
        "model.compile(loss='binary_crossentropy', optimizer=op, metrics=['accuracy'])\n",
        "\n",
        "'''\n",
        "model = Sequential()\n",
        "model.add(Conv1D(16, 3, activation='selu', input_shape=(x_train.shape[1:])))\n",
        "model.add(Conv1D(16, 3, activation='selu'))\n",
        "model.add(MaxPooling1D(2))\n",
        "model.add(Conv1D(16, 3, activation='selu'))\n",
        "model.add(Conv1D(16, 3, activation='selu'))\n",
        "model.add(MaxPooling1D(2))\n",
        "\n",
        "model.add(Conv1D(16, 3, activation='selu'))\n",
        "model.add(Conv1D(16, 3, activation='selu'))\n",
        "model.add(MaxPooling1D(2))\n",
        "\n",
        "model.add(Conv1D(16, 3, activation='selu'))\n",
        "model.add(Conv1D(16, 3, activation='selu'))\n",
        "model.add(MaxPooling1D(2))\n",
        "\n",
        "\n",
        "#model.add(Conv1D(128, 3, activation='selu'))\n",
        "#model.add(Conv1D(128, 3, activation='selu'))\n",
        "\n",
        "#model.add(Conv1D(160, 3, activation='selu'))\n",
        "#model.add(GlobalAveragePooling1D())\n",
        "#model.add(Dropout(0.5))\n",
        "model.add(Flatten())\n",
        "model.add(Dense(512, activation='selu'))    \n",
        "model.add(Dropout(0.5))    \n",
        "model.add(Dense(512, activation='selu'))    \n",
        "model.add(Dropout(0.5)) \n",
        "#model.add(Dense(num_classes, activation='softmax'))\n",
        "model.add(Dense(1, activation='sigmoid'))\n",
        "\n",
        "#model.compile(loss='categorical_crossentropy', optimizer='adam', metrics=['accuracy'])\n",
        "model.compile(loss='binary_crossentropy', optimizer='adam', metrics=['accuracy'])\n",
        "'''\n",
        "\n",
        "\n",
        "model.summary()"
      ],
      "execution_count": 34,
      "outputs": [
        {
          "output_type": "stream",
          "text": [
            "WARNING:tensorflow:Layer lstm will not use cuDNN kernel since it doesn't meet the cuDNN kernel criteria. It will use generic GPU kernel as fallback when running on GPU\n",
            "WARNING:tensorflow:Layer lstm_1 will not use cuDNN kernel since it doesn't meet the cuDNN kernel criteria. It will use generic GPU kernel as fallback when running on GPU\n",
            "WARNING:tensorflow:Layer lstm_2 will not use cuDNN kernel since it doesn't meet the cuDNN kernel criteria. It will use generic GPU kernel as fallback when running on GPU\n",
            "Model: \"sequential\"\n",
            "_________________________________________________________________\n",
            "Layer (type)                 Output Shape              Param #   \n",
            "=================================================================\n",
            "lstm (LSTM)                  (None, 60, 32)            8832      \n",
            "_________________________________________________________________\n",
            "dropout (Dropout)            (None, 60, 32)            0         \n",
            "_________________________________________________________________\n",
            "lstm_1 (LSTM)                (None, 60, 32)            8320      \n",
            "_________________________________________________________________\n",
            "dropout_1 (Dropout)          (None, 60, 32)            0         \n",
            "_________________________________________________________________\n",
            "conv1d (Conv1D)              (None, 58, 16)            1552      \n",
            "_________________________________________________________________\n",
            "conv1d_1 (Conv1D)            (None, 56, 16)            784       \n",
            "_________________________________________________________________\n",
            "max_pooling1d (MaxPooling1D) (None, 28, 16)            0         \n",
            "_________________________________________________________________\n",
            "conv1d_2 (Conv1D)            (None, 26, 16)            784       \n",
            "_________________________________________________________________\n",
            "conv1d_3 (Conv1D)            (None, 24, 16)            784       \n",
            "_________________________________________________________________\n",
            "max_pooling1d_1 (MaxPooling1 (None, 12, 16)            0         \n",
            "_________________________________________________________________\n",
            "lstm_2 (LSTM)                (None, 32)                6272      \n",
            "_________________________________________________________________\n",
            "dense (Dense)                (None, 1)                 33        \n",
            "=================================================================\n",
            "Total params: 27,361\n",
            "Trainable params: 27,361\n",
            "Non-trainable params: 0\n",
            "_________________________________________________________________\n"
          ],
          "name": "stdout"
        }
      ]
    },
    {
      "cell_type": "code",
      "metadata": {
        "id": "sExTqSXBa3FG",
        "outputId": "187ccc7c-8710-4621-f473-748952f489bd",
        "colab": {
          "base_uri": "https://localhost:8080/",
          "height": 1000
        }
      },
      "source": [
        "callback = EarlyStopping(monitor=\"val_loss\", patience=10, verbose=1, mode=\"auto\")\n",
        "history=model.fit(x_train, y_train, epochs=1000, batch_size=32, validation_data=(x_val, y_val), callbacks=[callback])\n",
        "training_result(history)"
      ],
      "execution_count": 35,
      "outputs": [
        {
          "output_type": "stream",
          "text": [
            "Epoch 1/1000\n",
            "98/98 [==============================] - 20s 200ms/step - loss: 0.6028 - accuracy: 0.7133 - val_loss: 0.5926 - val_accuracy: 0.7177\n",
            "Epoch 2/1000\n",
            "98/98 [==============================] - 19s 194ms/step - loss: 0.5921 - accuracy: 0.7187 - val_loss: 0.5822 - val_accuracy: 0.7177\n",
            "Epoch 3/1000\n",
            "98/98 [==============================] - 19s 191ms/step - loss: 0.5784 - accuracy: 0.7184 - val_loss: 0.6109 - val_accuracy: 0.7102\n",
            "Epoch 4/1000\n",
            "98/98 [==============================] - 18s 189ms/step - loss: 0.5677 - accuracy: 0.7203 - val_loss: 0.5701 - val_accuracy: 0.6978\n",
            "Epoch 5/1000\n",
            "98/98 [==============================] - 19s 196ms/step - loss: 0.5626 - accuracy: 0.7184 - val_loss: 0.5697 - val_accuracy: 0.7301\n",
            "Epoch 6/1000\n",
            "98/98 [==============================] - 19s 192ms/step - loss: 0.5582 - accuracy: 0.7261 - val_loss: 0.5650 - val_accuracy: 0.6965\n",
            "Epoch 7/1000\n",
            "98/98 [==============================] - 19s 191ms/step - loss: 0.5620 - accuracy: 0.7219 - val_loss: 0.5744 - val_accuracy: 0.7239\n",
            "Epoch 8/1000\n",
            "98/98 [==============================] - 19s 191ms/step - loss: 0.5633 - accuracy: 0.7165 - val_loss: 0.5877 - val_accuracy: 0.6356\n",
            "Epoch 9/1000\n",
            "98/98 [==============================] - 19s 193ms/step - loss: 0.5547 - accuracy: 0.7181 - val_loss: 0.5606 - val_accuracy: 0.7201\n",
            "Epoch 10/1000\n",
            "98/98 [==============================] - 19s 191ms/step - loss: 0.5582 - accuracy: 0.7223 - val_loss: 0.5647 - val_accuracy: 0.7002\n",
            "Epoch 11/1000\n",
            "98/98 [==============================] - 18s 188ms/step - loss: 0.5494 - accuracy: 0.7242 - val_loss: 0.5684 - val_accuracy: 0.7239\n",
            "Epoch 12/1000\n",
            "98/98 [==============================] - 19s 193ms/step - loss: 0.5455 - accuracy: 0.7158 - val_loss: 0.5571 - val_accuracy: 0.7139\n",
            "Epoch 13/1000\n",
            "98/98 [==============================] - 19s 189ms/step - loss: 0.5367 - accuracy: 0.7322 - val_loss: 0.5549 - val_accuracy: 0.6965\n",
            "Epoch 15/1000\n",
            "98/98 [==============================] - 19s 192ms/step - loss: 0.5353 - accuracy: 0.7319 - val_loss: 0.5532 - val_accuracy: 0.7226\n",
            "Epoch 16/1000\n",
            "98/98 [==============================] - 19s 189ms/step - loss: 0.5304 - accuracy: 0.7393 - val_loss: 0.5652 - val_accuracy: 0.7040\n",
            "Epoch 17/1000\n",
            "98/98 [==============================] - 19s 191ms/step - loss: 0.5325 - accuracy: 0.7332 - val_loss: 0.5541 - val_accuracy: 0.7015\n",
            "Epoch 18/1000\n",
            "98/98 [==============================] - 19s 192ms/step - loss: 0.5354 - accuracy: 0.7274 - val_loss: 0.5525 - val_accuracy: 0.7189\n",
            "Epoch 20/1000\n",
            "98/98 [==============================] - 19s 190ms/step - loss: 0.5207 - accuracy: 0.7473 - val_loss: 0.5420 - val_accuracy: 0.7189\n",
            "Epoch 21/1000\n",
            "98/98 [==============================] - 19s 189ms/step - loss: 0.5136 - accuracy: 0.7470 - val_loss: 0.5470 - val_accuracy: 0.7164\n",
            "Epoch 22/1000\n",
            "98/98 [==============================] - 19s 194ms/step - loss: 0.5177 - accuracy: 0.7466 - val_loss: 0.5383 - val_accuracy: 0.7313\n",
            "Epoch 23/1000\n",
            "98/98 [==============================] - 19s 193ms/step - loss: 0.5192 - accuracy: 0.7447 - val_loss: 0.5325 - val_accuracy: 0.7363\n",
            "Epoch 24/1000\n",
            "98/98 [==============================] - 19s 190ms/step - loss: 0.5067 - accuracy: 0.7534 - val_loss: 0.5426 - val_accuracy: 0.7239\n",
            "Epoch 25/1000\n",
            "98/98 [==============================] - 19s 191ms/step - loss: 0.5024 - accuracy: 0.7505 - val_loss: 0.5377 - val_accuracy: 0.7276\n",
            "Epoch 26/1000\n",
            "98/98 [==============================] - 19s 192ms/step - loss: 0.4977 - accuracy: 0.7646 - val_loss: 0.5429 - val_accuracy: 0.7251\n",
            "Epoch 27/1000\n",
            "98/98 [==============================] - 19s 190ms/step - loss: 0.5151 - accuracy: 0.7482 - val_loss: 0.5514 - val_accuracy: 0.7289\n",
            "Epoch 28/1000\n",
            "98/98 [==============================] - 19s 191ms/step - loss: 0.4878 - accuracy: 0.7704 - val_loss: 0.5348 - val_accuracy: 0.7276\n",
            "Epoch 29/1000\n",
            "98/98 [==============================] - 19s 190ms/step - loss: 0.4835 - accuracy: 0.7646 - val_loss: 0.5287 - val_accuracy: 0.7289\n",
            "Epoch 30/1000\n",
            "98/98 [==============================] - 19s 192ms/step - loss: 0.4759 - accuracy: 0.7726 - val_loss: 0.5552 - val_accuracy: 0.7090\n",
            "Epoch 31/1000\n",
            "98/98 [==============================] - 19s 191ms/step - loss: 0.4790 - accuracy: 0.7691 - val_loss: 0.5366 - val_accuracy: 0.7388\n",
            "Epoch 32/1000\n",
            "98/98 [==============================] - 19s 192ms/step - loss: 0.4594 - accuracy: 0.7838 - val_loss: 0.5196 - val_accuracy: 0.7326\n",
            "Epoch 33/1000\n",
            "98/98 [==============================] - 19s 189ms/step - loss: 0.4501 - accuracy: 0.7845 - val_loss: 0.5628 - val_accuracy: 0.7127\n",
            "Epoch 34/1000\n",
            "98/98 [==============================] - 19s 190ms/step - loss: 0.4429 - accuracy: 0.7922 - val_loss: 0.5262 - val_accuracy: 0.7326\n",
            "Epoch 35/1000\n",
            "98/98 [==============================] - 19s 191ms/step - loss: 0.4640 - accuracy: 0.7765 - val_loss: 0.5142 - val_accuracy: 0.7488\n",
            "Epoch 36/1000\n",
            "98/98 [==============================] - 18s 188ms/step - loss: 0.4465 - accuracy: 0.7893 - val_loss: 0.5307 - val_accuracy: 0.7425\n",
            "Epoch 37/1000\n",
            "98/98 [==============================] - 18s 188ms/step - loss: 0.4238 - accuracy: 0.7999 - val_loss: 0.5473 - val_accuracy: 0.7313\n",
            "Epoch 38/1000\n",
            "98/98 [==============================] - 19s 194ms/step - loss: 0.4155 - accuracy: 0.8063 - val_loss: 0.5139 - val_accuracy: 0.7413\n",
            "Epoch 39/1000\n",
            "98/98 [==============================] - 19s 190ms/step - loss: 0.4123 - accuracy: 0.8053 - val_loss: 0.5306 - val_accuracy: 0.7463\n",
            "Epoch 40/1000\n",
            "98/98 [==============================] - 19s 190ms/step - loss: 0.4131 - accuracy: 0.8098 - val_loss: 0.5104 - val_accuracy: 0.7500\n",
            "Epoch 41/1000\n",
            "98/98 [==============================] - 19s 189ms/step - loss: 0.4033 - accuracy: 0.8111 - val_loss: 0.4942 - val_accuracy: 0.7600\n",
            "Epoch 42/1000\n",
            "98/98 [==============================] - 19s 191ms/step - loss: 0.4004 - accuracy: 0.8108 - val_loss: 0.4981 - val_accuracy: 0.7637\n",
            "Epoch 43/1000\n",
            "98/98 [==============================] - 19s 190ms/step - loss: 0.3890 - accuracy: 0.8210 - val_loss: 0.5199 - val_accuracy: 0.7587\n",
            "Epoch 44/1000\n",
            "98/98 [==============================] - 19s 190ms/step - loss: 0.3937 - accuracy: 0.8146 - val_loss: 0.5049 - val_accuracy: 0.7562\n",
            "Epoch 45/1000\n",
            "98/98 [==============================] - 19s 191ms/step - loss: 0.3742 - accuracy: 0.8319 - val_loss: 0.4711 - val_accuracy: 0.7749\n",
            "Epoch 47/1000\n",
            "98/98 [==============================] - 19s 190ms/step - loss: 0.3681 - accuracy: 0.8300 - val_loss: 0.5007 - val_accuracy: 0.7736\n",
            "Epoch 48/1000\n",
            "98/98 [==============================] - 19s 190ms/step - loss: 0.3616 - accuracy: 0.8332 - val_loss: 0.5090 - val_accuracy: 0.7699\n",
            "Epoch 49/1000\n",
            "98/98 [==============================] - 19s 190ms/step - loss: 0.3436 - accuracy: 0.8377 - val_loss: 0.4767 - val_accuracy: 0.7774\n",
            "Epoch 50/1000\n",
            "98/98 [==============================] - 19s 190ms/step - loss: 0.3397 - accuracy: 0.8486 - val_loss: 0.5154 - val_accuracy: 0.7699\n",
            "Epoch 51/1000\n",
            "98/98 [==============================] - 19s 190ms/step - loss: 0.3244 - accuracy: 0.8525 - val_loss: 0.5000 - val_accuracy: 0.7662\n",
            "Epoch 52/1000\n",
            "98/98 [==============================] - 19s 190ms/step - loss: 0.3460 - accuracy: 0.8438 - val_loss: 0.4927 - val_accuracy: 0.7836\n",
            "Epoch 53/1000\n",
            "98/98 [==============================] - 19s 189ms/step - loss: 0.3286 - accuracy: 0.8480 - val_loss: 0.5238 - val_accuracy: 0.7774\n",
            "Epoch 54/1000\n",
            "98/98 [==============================] - 18s 188ms/step - loss: 0.3273 - accuracy: 0.8502 - val_loss: 0.5301 - val_accuracy: 0.7612\n",
            "Epoch 55/1000\n",
            "98/98 [==============================] - 19s 194ms/step - loss: 0.3231 - accuracy: 0.8515 - val_loss: 0.5207 - val_accuracy: 0.7811\n",
            "Epoch 56/1000\n",
            "98/98 [==============================] - 19s 190ms/step - loss: 0.3219 - accuracy: 0.8525 - val_loss: 0.4662 - val_accuracy: 0.7948\n",
            "Epoch 57/1000\n",
            "98/98 [==============================] - 19s 191ms/step - loss: 0.3049 - accuracy: 0.8679 - val_loss: 0.4973 - val_accuracy: 0.7724\n",
            "Epoch 58/1000\n",
            "98/98 [==============================] - 18s 189ms/step - loss: 0.3064 - accuracy: 0.8595 - val_loss: 0.4994 - val_accuracy: 0.8022\n",
            "Epoch 59/1000\n",
            "98/98 [==============================] - 19s 189ms/step - loss: 0.3047 - accuracy: 0.8650 - val_loss: 0.5116 - val_accuracy: 0.7948\n",
            "Epoch 60/1000\n",
            "98/98 [==============================] - 19s 190ms/step - loss: 0.3000 - accuracy: 0.8647 - val_loss: 0.4816 - val_accuracy: 0.7998\n",
            "Epoch 61/1000\n",
            "98/98 [==============================] - 19s 190ms/step - loss: 0.2857 - accuracy: 0.8746 - val_loss: 0.5047 - val_accuracy: 0.7711\n",
            "Epoch 62/1000\n",
            "98/98 [==============================] - 18s 189ms/step - loss: 0.2943 - accuracy: 0.8650 - val_loss: 0.4983 - val_accuracy: 0.8109\n",
            "Epoch 63/1000\n",
            "98/98 [==============================] - 19s 189ms/step - loss: 0.2691 - accuracy: 0.8833 - val_loss: 0.4769 - val_accuracy: 0.8022\n",
            "Epoch 64/1000\n",
            "98/98 [==============================] - 19s 190ms/step - loss: 0.2631 - accuracy: 0.8887 - val_loss: 0.4968 - val_accuracy: 0.7910\n",
            "Epoch 65/1000\n",
            "98/98 [==============================] - 18s 188ms/step - loss: 0.2611 - accuracy: 0.8868 - val_loss: 0.5233 - val_accuracy: 0.8060\n",
            "Epoch 66/1000\n",
            "98/98 [==============================] - 19s 191ms/step - loss: 0.2730 - accuracy: 0.8788 - val_loss: 0.5507 - val_accuracy: 0.7923\n",
            "Epoch 00066: early stopping\n"
          ],
          "name": "stdout"
        },
        {
          "output_type": "display_data",
          "data": {
            "image/png": "[encoded data removed]",
            "text/plain": [
              "<Figure size 432x288 with 1 Axes>"
            ]
          },
          "metadata": {
            "tags": [],
            "needs_background": "light"
          }
        },
        {
          "output_type": "display_data",
          "data": {
            "image/png": "[encoded data removed]",
            "text/plain": [
              "<Figure size 432x288 with 1 Axes>"
            ]
          },
          "metadata": {
            "tags": [],
            "needs_background": "light"
          }
        },
        {
          "output_type": "stream",
          "text": [
            "Epoch 1/1000\n",
            "28/98 [=======>......................] - ETA: 12s - loss: 0.3185 - accuracy: 0.8627"
          ],
          "name": "stdout"
        }
      ]
    },
    {
      "cell_type": "code",
      "metadata": {
        "id": "Rf7RyaVca3FK",
        "outputId": "5fb34987-b2ef-47bf-c436-20774fc45d12",
        "colab": {
          "base_uri": "https://localhost:8080/"
        }
      },
      "source": [
        "ans=model.predict(test_x)\n",
        "TP = 0\n",
        "FP = 0\n",
        "TN = 0\n",
        "FN = 0\n",
        "\n",
        "for i in range(len(test_y)):\n",
        "  if (ans[i]>=0.5 and test_y[i]>0.5):\n",
        "    TP += 1\n",
        "  elif (ans[i]>=0.5 and test_y[i]<0.5):\n",
        "    FP += 1\n",
        "  elif (ans[i]<0.5 and test_y[i]>0.5):\n",
        "    FN += 1\n",
        "  else:\n",
        "    TN += 1\n",
        "t = 0\n",
        "f = 0\n",
        "for i in range(len(test_y)):\n",
        "  if test_y[i]>0.5:\n",
        "    t+=1\n",
        "  else:\n",
        "    f+=1\n",
        "\n",
        "print(f'TP:{TP}',f'FP:{FP}',f'TN:{TN}',f'FN:{FN}')\n",
        "print(TP/(TP+FP))\n",
        "print(t,f)"
      ],
      "execution_count": 37,
      "outputs": [
        {
          "output_type": "stream",
          "text": [
            "TP:20 FP:7 TN:62 FN:11\n",
            "0.7407407407407407\n",
            "31 69\n"
          ],
          "name": "stdout"
        }
      ]
    },
    {
      "cell_type": "code",
      "metadata": {
        "id": "axmaMZY3v3EL",
        "outputId": "9a7afbae-7cb3-43eb-c5b8-2c3797c64c53",
        "colab": {
          "base_uri": "https://localhost:8080/"
        }
      },
      "source": [
        "ans"
      ],
      "execution_count": 38,
      "outputs": [
        {
          "output_type": "execute_result",
          "data": {
            "text/plain": [
              "array([[2.1167843e-01],\n",
              "       [4.4094259e-04],\n",
              "       [1.6412961e-03],\n",
              "       [2.7415706e-04],\n",
              "       [7.7856773e-01],\n",
              "       [9.4067621e-01],\n",
              "       [3.1816016e-03],\n",
              "       [2.3810568e-01],\n",
              "       [9.9924004e-01],\n",
              "       [6.2642279e-03],\n",
              "       [5.2010346e-02],\n",
              "       [1.2961365e-04],\n",
              "       [6.4061439e-01],\n",
              "       [2.7396056e-04],\n",
              "       [6.6458201e-01],\n",
              "       [8.1132251e-01],\n",
              "       [1.6330139e-01],\n",
              "       [2.5977744e-04],\n",
              "       [9.0961769e-02],\n",
              "       [8.7409914e-03],\n",
              "       [4.6887097e-01],\n",
              "       [5.7089955e-01],\n",
              "       [5.7464009e-03],\n",
              "       [1.2387680e-01],\n",
              "       [9.9563593e-01],\n",
              "       [9.9868280e-01],\n",
              "       [8.4977937e-01],\n",
              "       [4.6387088e-02],\n",
              "       [9.3140179e-01],\n",
              "       [3.1732681e-01],\n",
              "       [7.4163485e-01],\n",
              "       [3.9125375e-02],\n",
              "       [3.1864578e-01],\n",
              "       [9.0095413e-01],\n",
              "       [9.0754962e-01],\n",
              "       [2.1494268e-03],\n",
              "       [9.0528297e-01],\n",
              "       [1.4226852e-02],\n",
              "       [3.2431830e-02],\n",
              "       [1.5622002e-01],\n",
              "       [4.5662656e-01],\n",
              "       [1.3338787e-03],\n",
              "       [3.2416627e-01],\n",
              "       [2.0240482e-02],\n",
              "       [1.2028707e-02],\n",
              "       [2.0836692e-02],\n",
              "       [7.7583957e-03],\n",
              "       [6.4817345e-01],\n",
              "       [5.2578345e-02],\n",
              "       [1.5564809e-02],\n",
              "       [1.7513888e-02],\n",
              "       [8.1869382e-01],\n",
              "       [9.3683398e-01],\n",
              "       [4.4518837e-01],\n",
              "       [1.6886468e-01],\n",
              "       [2.1966725e-05],\n",
              "       [9.9887997e-01],\n",
              "       [2.9257080e-01],\n",
              "       [8.9436374e-04],\n",
              "       [5.3656572e-01],\n",
              "       [1.1606909e-02],\n",
              "       [6.4693382e-03],\n",
              "       [4.8487708e-01],\n",
              "       [3.6719389e-02],\n",
              "       [5.4553791e-04],\n",
              "       [1.5162404e-03],\n",
              "       [2.2723623e-01],\n",
              "       [6.0098816e-04],\n",
              "       [9.0972227e-01],\n",
              "       [9.1059193e-02],\n",
              "       [6.1338418e-04],\n",
              "       [1.4521379e-02],\n",
              "       [2.9122248e-01],\n",
              "       [3.3643057e-05],\n",
              "       [2.0373632e-01],\n",
              "       [1.1111087e-01],\n",
              "       [5.6027393e-03],\n",
              "       [3.5282157e-02],\n",
              "       [2.6760441e-01],\n",
              "       [3.0893234e-03],\n",
              "       [2.0725677e-02],\n",
              "       [9.2394710e-01],\n",
              "       [1.4765882e-03],\n",
              "       [3.7766672e-03],\n",
              "       [3.0485647e-02],\n",
              "       [9.5851523e-01],\n",
              "       [1.7397278e-03],\n",
              "       [9.2302984e-01],\n",
              "       [2.7728656e-01],\n",
              "       [1.1952648e-02],\n",
              "       [3.9782268e-03],\n",
              "       [3.0870812e-02],\n",
              "       [6.4012507e-04],\n",
              "       [9.9893087e-01],\n",
              "       [2.0514145e-02],\n",
              "       [4.1354250e-04],\n",
              "       [8.0208451e-01],\n",
              "       [6.0950862e-03],\n",
              "       [1.6732341e-01],\n",
              "       [5.5987179e-01]], dtype=float32)"
            ]
          },
          "metadata": {
            "tags": []
          },
          "execution_count": 38
        }
      ]
    }
  ]
}