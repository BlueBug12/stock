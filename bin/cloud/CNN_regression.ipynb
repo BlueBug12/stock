{
  "nbformat": 4,
  "nbformat_minor": 0,
  "metadata": {
    "colab": {
      "name": "CNN_regression.ipynb",
      "provenance": [],
      "collapsed_sections": [],
      "authorship_tag": "ABX9TyMHO9VN8XzfY/hkOKnp3KZR",
      "include_colab_link": true
    },
    "kernelspec": {
      "name": "python3",
      "display_name": "Python 3"
    },
    "accelerator": "GPU"
  },
  "cells": [
    {
      "cell_type": "markdown",
      "metadata": {
        "id": "view-in-github",
        "colab_type": "text"
      },
      "source": [
        "<a href=\"https://colab.research.google.com/github/BlueBug12/stock/blob/master/bin/cloud/CNN_regression.ipynb\" target=\"_parent\"><img src=\"https://colab.research.google.com/assets/colab-badge.svg\" alt=\"Open In Colab\"/></a>"
      ]
    },
    {
      "cell_type": "code",
      "metadata": {
        "id": "idVBeauHXbfx",
        "outputId": "6e3e69b8-924e-4992-af00-cedbe0544402",
        "colab": {
          "base_uri": "https://localhost:8080/",
          "height": 1000
        }
      },
      "source": [
        "!pip install tensorflow==2.2.0"
      ],
      "execution_count": 5,
      "outputs": [
        {
          "output_type": "stream",
          "text": [
            "Collecting tensorflow==2.2.0\n",
            "\u001b[?25l  Downloading https://files.pythonhosted.org/packages/3d/be/679ce5254a8c8d07470efb4a4c00345fae91f766e64f1c2aece8796d7218/tensorflow-2.2.0-cp36-cp36m-manylinux2010_x86_64.whl (516.2MB)\n",
            "\u001b[K     |████████████████████████████████| 516.2MB 32kB/s \n",
            "\u001b[?25hRequirement already satisfied: numpy<2.0,>=1.16.0 in /usr/local/lib/python3.6/dist-packages (from tensorflow==2.2.0) (1.18.5)\n",
            "Collecting tensorboard<2.3.0,>=2.2.0\n",
            "\u001b[?25l  Downloading https://files.pythonhosted.org/packages/1d/74/0a6fcb206dcc72a6da9a62dd81784bfdbff5fedb099982861dc2219014fb/tensorboard-2.2.2-py3-none-any.whl (3.0MB)\n",
            "\u001b[K     |████████████████████████████████| 3.0MB 47.7MB/s \n",
            "\u001b[?25hRequirement already satisfied: absl-py>=0.7.0 in /usr/local/lib/python3.6/dist-packages (from tensorflow==2.2.0) (0.10.0)\n",
            "Requirement already satisfied: grpcio>=1.8.6 in /usr/local/lib/python3.6/dist-packages (from tensorflow==2.2.0) (1.33.2)\n",
            "Requirement already satisfied: google-pasta>=0.1.8 in /usr/local/lib/python3.6/dist-packages (from tensorflow==2.2.0) (0.2.0)\n",
            "Requirement already satisfied: h5py<2.11.0,>=2.10.0 in /usr/local/lib/python3.6/dist-packages (from tensorflow==2.2.0) (2.10.0)\n",
            "Requirement already satisfied: protobuf>=3.8.0 in /usr/local/lib/python3.6/dist-packages (from tensorflow==2.2.0) (3.12.4)\n",
            "Requirement already satisfied: gast==0.3.3 in /usr/local/lib/python3.6/dist-packages (from tensorflow==2.2.0) (0.3.3)\n",
            "Collecting tensorflow-estimator<2.3.0,>=2.2.0\n",
            "\u001b[?25l  Downloading https://files.pythonhosted.org/packages/a4/f5/926ae53d6a226ec0fda5208e0e581cffed895ccc89e36ba76a8e60895b78/tensorflow_estimator-2.2.0-py2.py3-none-any.whl (454kB)\n",
            "\u001b[K     |████████████████████████████████| 460kB 51.3MB/s \n",
            "\u001b[?25hRequirement already satisfied: keras-preprocessing>=1.1.0 in /usr/local/lib/python3.6/dist-packages (from tensorflow==2.2.0) (1.1.2)\n",
            "Requirement already satisfied: wrapt>=1.11.1 in /usr/local/lib/python3.6/dist-packages (from tensorflow==2.2.0) (1.12.1)\n",
            "Requirement already satisfied: wheel>=0.26; python_version >= \"3\" in /usr/local/lib/python3.6/dist-packages (from tensorflow==2.2.0) (0.35.1)\n",
            "Requirement already satisfied: astunparse==1.6.3 in /usr/local/lib/python3.6/dist-packages (from tensorflow==2.2.0) (1.6.3)\n",
            "Requirement already satisfied: scipy==1.4.1; python_version >= \"3\" in /usr/local/lib/python3.6/dist-packages (from tensorflow==2.2.0) (1.4.1)\n",
            "Requirement already satisfied: termcolor>=1.1.0 in /usr/local/lib/python3.6/dist-packages (from tensorflow==2.2.0) (1.1.0)\n",
            "Requirement already satisfied: opt-einsum>=2.3.2 in /usr/local/lib/python3.6/dist-packages (from tensorflow==2.2.0) (3.3.0)\n",
            "Requirement already satisfied: six>=1.12.0 in /usr/local/lib/python3.6/dist-packages (from tensorflow==2.2.0) (1.15.0)\n",
            "Requirement already satisfied: google-auth-oauthlib<0.5,>=0.4.1 in /usr/local/lib/python3.6/dist-packages (from tensorboard<2.3.0,>=2.2.0->tensorflow==2.2.0) (0.4.2)\n",
            "Requirement already satisfied: google-auth<2,>=1.6.3 in /usr/local/lib/python3.6/dist-packages (from tensorboard<2.3.0,>=2.2.0->tensorflow==2.2.0) (1.17.2)\n",
            "Requirement already satisfied: setuptools>=41.0.0 in /usr/local/lib/python3.6/dist-packages (from tensorboard<2.3.0,>=2.2.0->tensorflow==2.2.0) (50.3.2)\n",
            "Requirement already satisfied: tensorboard-plugin-wit>=1.6.0 in /usr/local/lib/python3.6/dist-packages (from tensorboard<2.3.0,>=2.2.0->tensorflow==2.2.0) (1.7.0)\n",
            "Requirement already satisfied: markdown>=2.6.8 in /usr/local/lib/python3.6/dist-packages (from tensorboard<2.3.0,>=2.2.0->tensorflow==2.2.0) (3.3.3)\n",
            "Requirement already satisfied: requests<3,>=2.21.0 in /usr/local/lib/python3.6/dist-packages (from tensorboard<2.3.0,>=2.2.0->tensorflow==2.2.0) (2.23.0)\n",
            "Requirement already satisfied: werkzeug>=0.11.15 in /usr/local/lib/python3.6/dist-packages (from tensorboard<2.3.0,>=2.2.0->tensorflow==2.2.0) (1.0.1)\n",
            "Requirement already satisfied: requests-oauthlib>=0.7.0 in /usr/local/lib/python3.6/dist-packages (from google-auth-oauthlib<0.5,>=0.4.1->tensorboard<2.3.0,>=2.2.0->tensorflow==2.2.0) (1.3.0)\n",
            "Requirement already satisfied: pyasn1-modules>=0.2.1 in /usr/local/lib/python3.6/dist-packages (from google-auth<2,>=1.6.3->tensorboard<2.3.0,>=2.2.0->tensorflow==2.2.0) (0.2.8)\n",
            "Requirement already satisfied: rsa<5,>=3.1.4; python_version >= \"3\" in /usr/local/lib/python3.6/dist-packages (from google-auth<2,>=1.6.3->tensorboard<2.3.0,>=2.2.0->tensorflow==2.2.0) (4.6)\n",
            "Requirement already satisfied: cachetools<5.0,>=2.0.0 in /usr/local/lib/python3.6/dist-packages (from google-auth<2,>=1.6.3->tensorboard<2.3.0,>=2.2.0->tensorflow==2.2.0) (4.1.1)\n",
            "Requirement already satisfied: importlib-metadata; python_version < \"3.8\" in /usr/local/lib/python3.6/dist-packages (from markdown>=2.6.8->tensorboard<2.3.0,>=2.2.0->tensorflow==2.2.0) (2.0.0)\n",
            "Requirement already satisfied: certifi>=2017.4.17 in /usr/local/lib/python3.6/dist-packages (from requests<3,>=2.21.0->tensorboard<2.3.0,>=2.2.0->tensorflow==2.2.0) (2020.6.20)\n",
            "Requirement already satisfied: urllib3!=1.25.0,!=1.25.1,<1.26,>=1.21.1 in /usr/local/lib/python3.6/dist-packages (from requests<3,>=2.21.0->tensorboard<2.3.0,>=2.2.0->tensorflow==2.2.0) (1.24.3)\n",
            "Requirement already satisfied: chardet<4,>=3.0.2 in /usr/local/lib/python3.6/dist-packages (from requests<3,>=2.21.0->tensorboard<2.3.0,>=2.2.0->tensorflow==2.2.0) (3.0.4)\n",
            "Requirement already satisfied: idna<3,>=2.5 in /usr/local/lib/python3.6/dist-packages (from requests<3,>=2.21.0->tensorboard<2.3.0,>=2.2.0->tensorflow==2.2.0) (2.10)\n",
            "Requirement already satisfied: oauthlib>=3.0.0 in /usr/local/lib/python3.6/dist-packages (from requests-oauthlib>=0.7.0->google-auth-oauthlib<0.5,>=0.4.1->tensorboard<2.3.0,>=2.2.0->tensorflow==2.2.0) (3.1.0)\n",
            "Requirement already satisfied: pyasn1<0.5.0,>=0.4.6 in /usr/local/lib/python3.6/dist-packages (from pyasn1-modules>=0.2.1->google-auth<2,>=1.6.3->tensorboard<2.3.0,>=2.2.0->tensorflow==2.2.0) (0.4.8)\n",
            "Requirement already satisfied: zipp>=0.5 in /usr/local/lib/python3.6/dist-packages (from importlib-metadata; python_version < \"3.8\"->markdown>=2.6.8->tensorboard<2.3.0,>=2.2.0->tensorflow==2.2.0) (3.4.0)\n",
            "Installing collected packages: tensorboard, tensorflow-estimator, tensorflow\n",
            "  Found existing installation: tensorboard 2.3.0\n",
            "    Uninstalling tensorboard-2.3.0:\n",
            "      Successfully uninstalled tensorboard-2.3.0\n",
            "  Found existing installation: tensorflow-estimator 2.3.0\n",
            "    Uninstalling tensorflow-estimator-2.3.0:\n",
            "      Successfully uninstalled tensorflow-estimator-2.3.0\n",
            "  Found existing installation: tensorflow 2.3.0\n",
            "    Uninstalling tensorflow-2.3.0:\n",
            "      Successfully uninstalled tensorflow-2.3.0\n",
            "Successfully installed tensorboard-2.2.2 tensorflow-2.2.0 tensorflow-estimator-2.2.0\n"
          ],
          "name": "stdout"
        },
        {
          "output_type": "display_data",
          "data": {
            "application/vnd.colab-display-data+json": {
              "pip_warning": {
                "packages": [
                  "tensorboard",
                  "tensorflow"
                ]
              }
            }
          },
          "metadata": {
            "tags": []
          }
        }
      ]
    },
    {
      "cell_type": "code",
      "metadata": {
        "id": "yP6TV081Y-1h",
        "outputId": "21fd252c-4027-44c2-e2ed-a2edd5154c7c",
        "colab": {
          "base_uri": "https://localhost:8080/"
        }
      },
      "source": [
        "!nvidia-smi"
      ],
      "execution_count": 2,
      "outputs": [
        {
          "output_type": "stream",
          "text": [
            "Mon Nov 16 09:30:21 2020       \n",
            "+-----------------------------------------------------------------------------+\n",
            "| NVIDIA-SMI 455.32.00    Driver Version: 418.67       CUDA Version: 10.1     |\n",
            "|-------------------------------+----------------------+----------------------+\n",
            "| GPU  Name        Persistence-M| Bus-Id        Disp.A | Volatile Uncorr. ECC |\n",
            "| Fan  Temp  Perf  Pwr:Usage/Cap|         Memory-Usage | GPU-Util  Compute M. |\n",
            "|                               |                      |               MIG M. |\n",
            "|===============================+======================+======================|\n",
            "|   0  Tesla T4            Off  | 00000000:00:04.0 Off |                    0 |\n",
            "| N/A   51C    P8    10W /  70W |      0MiB / 15079MiB |      0%      Default |\n",
            "|                               |                      |                 ERR! |\n",
            "+-------------------------------+----------------------+----------------------+\n",
            "                                                                               \n",
            "+-----------------------------------------------------------------------------+\n",
            "| Processes:                                                                  |\n",
            "|  GPU   GI   CI        PID   Type   Process name                  GPU Memory |\n",
            "|        ID   ID                                                   Usage      |\n",
            "|=============================================================================|\n",
            "|  No running processes found                                                 |\n",
            "+-----------------------------------------------------------------------------+\n"
          ],
          "name": "stdout"
        }
      ]
    },
    {
      "cell_type": "code",
      "metadata": {
        "id": "vq5RgqtxZBth"
      },
      "source": [
        "import pandas as pd\n",
        "import numpy as np\n",
        "from sklearn import preprocessing\n",
        "from tensorflow.keras import backend\n",
        "from tensorflow.keras.models import Sequential, load_model, Model\n",
        "from tensorflow.keras.layers import Conv1D, Dense, Activation,MaxPooling1D, GlobalAveragePooling1D, Dropout, Lambda, RepeatVector, Input, Reshape, Flatten\n",
        "from keras.layers.normalization import BatchNormalization\n",
        "from tensorflow.keras.optimizers import Adam\n",
        "from tensorflow.keras.callbacks import EarlyStopping, ModelCheckpoint\n",
        "from tensorflow.keras.utils import to_categorical\n",
        "from sklearn.preprocessing import MinMaxScaler\n",
        "import tensorflow\n",
        "import matplotlib.pyplot as plt\n",
        "import pickle\n",
        "import os\n",
        "import pandas\n",
        "import math"
      ],
      "execution_count": 1,
      "outputs": []
    },
    {
      "cell_type": "code",
      "metadata": {
        "id": "gmt4admmZFBs",
        "outputId": "35c2fe54-9057-4328-b3ba-ec743e706c9c",
        "colab": {
          "base_uri": "https://localhost:8080/"
        }
      },
      "source": [
        "print(tensorflow.__version__)"
      ],
      "execution_count": 2,
      "outputs": [
        {
          "output_type": "stream",
          "text": [
            "2.2.0\n"
          ],
          "name": "stdout"
        }
      ]
    },
    {
      "cell_type": "code",
      "metadata": {
        "id": "MIiD29OCZHtp",
        "outputId": "9cffa5ad-eee7-45bd-9639-172098796152",
        "colab": {
          "base_uri": "https://localhost:8080/"
        }
      },
      "source": [
        "from google.colab import drive\n",
        "import os\n",
        "drive.mount('/content/gdrive')"
      ],
      "execution_count": 3,
      "outputs": [
        {
          "output_type": "stream",
          "text": [
            "Mounted at /content/gdrive\n"
          ],
          "name": "stdout"
        }
      ]
    },
    {
      "cell_type": "code",
      "metadata": {
        "id": "eUlZq7r_ZuxU",
        "outputId": "054508bc-4c8d-4d79-c943-323b2d04dbaa",
        "colab": {
          "base_uri": "https://localhost:8080/"
        }
      },
      "source": [
        "ls"
      ],
      "execution_count": 11,
      "outputs": [
        {
          "output_type": "stream",
          "text": [
            "CNN_Classifier.ipynb  \u001b[0m\u001b[01;34mdata\u001b[0m/  \u001b[01;34mmodels\u001b[0m/\n"
          ],
          "name": "stdout"
        }
      ]
    },
    {
      "cell_type": "code",
      "metadata": {
        "id": "ctvkYbQHaYeg"
      },
      "source": [
        "def buildYTrain(train, pastDay, futureDay,profit):\n",
        "    Y_train = []\n",
        "    for i in range(train.shape[0]-futureDay-pastDay):\n",
        "      sub_list=[]\n",
        "      for j in range(futureDay):\n",
        "        sub_list.append((train['close'][i+pastDay+j]-train['close'][i+pastDay-1])/train['close'][i+pastDay-1])\n",
        "      Y_train.append(np.array(sub_list))\n",
        "    Y_train = normalize_data(Y_train)\n",
        "    return np.array(Y_train)\n",
        "\n",
        "def buildXTrain(train, pastDay, futureDay,profit):\n",
        "    X_train = []\n",
        "    for i in range(train.shape[0]-futureDay-pastDay):\n",
        "        X_train.append(np.array(train[i:i+pastDay]))\n",
        "    return np.array(X_train)\n",
        "\n",
        "def normalize_data(data):\n",
        "    scaler = MinMaxScaler(feature_range=(0, 1))\n",
        "    minmaxscaler = scaler.fit(data)\n",
        "    normalize_data = minmaxscaler.transform(data)\n",
        "\n",
        "    return normalize_data\n",
        "def splitData(X,Y,rate):\n",
        "    X_train = X[int(X.shape[0]*rate):]\n",
        "    Y_train = Y[int(Y.shape[0]*rate):]\n",
        "    X_val = X[:int(X.shape[0]*rate)]\n",
        "    Y_val = Y[:int(Y.shape[0]*rate)]\n",
        "    return X_train, Y_train, X_val, Y_val\n",
        "def shuffle(X,Y):\n",
        "    np.random.seed(10)\n",
        "    randomList = np.arange(X.shape[0])\n",
        "    np.random.shuffle(randomList)\n",
        "    return X[randomList], Y[randomList]\n",
        "def training_result(history):\n",
        "    plt.title('Model loss')\n",
        "    plt.plot(history.history['loss'], label='train')\n",
        "    plt.plot(history.history['val_loss'], label='test')\n",
        "    plt.ylabel('Losss')\n",
        "    plt.xlabel('Epoch')\n",
        "    plt.legend()\n",
        "    plt.show()\n",
        "    \n",
        "    plt.plot(history.history['accuracy'], label='train')\n",
        "    plt.plot(history.history['val_accuracy'], label='test')\n",
        "    plt.title('Model accuracy')\n",
        "    plt.ylabel('Accuracy')\n",
        "    plt.xlabel('Epoch')\n",
        "    plt.legend()\n",
        "    plt.show()"
      ],
      "execution_count": 70,
      "outputs": []
    },
    {
      "cell_type": "code",
      "metadata": {
        "id": "qrvq_I_Mbane",
        "outputId": "b73cad3f-e4cb-4238-da63-4e2fd355ea9c",
        "colab": {
          "base_uri": "https://localhost:8080/"
        }
      },
      "source": [
        "with open(os.path.join(os.getcwd(),\"data\",\"2330.pickle\"),'rb') as f:\n",
        "    df = pickle.load(f)\n",
        "    print(df.tail())\n",
        "    print(df.shape)\n",
        "    df.drop(['year','week','month','day','adj_close'],axis=1,inplace=True)"
      ],
      "execution_count": 76,
      "outputs": [
        {
          "output_type": "stream",
          "text": [
            "      adj_close  close   high    low  ...     ema_D        RS        RSI       OBV\n",
            "4102      458.0  458.5  460.0  454.0  ...  1.354608  2.197155  68.722188  0.750000\n",
            "4103      451.0  451.0  454.5  448.5  ...  2.173993  1.186501  54.264824  0.416667\n",
            "4104      456.5  457.0  457.0  448.5  ...  1.884128  1.611101  61.701972  1.000000\n",
            "4105      457.5  458.0  463.5  457.5  ...  1.632911  1.692754  62.863303  0.083333\n",
            "4106      461.5  462.0  462.0  456.5  ...  1.415189  2.069618  67.422656  1.000000\n",
            "\n",
            "[5 rows x 36 columns]\n",
            "(4107, 36)\n"
          ],
          "name": "stdout"
        }
      ]
    },
    {
      "cell_type": "code",
      "metadata": {
        "id": "nobIb6BRbz87"
      },
      "source": [
        "past = 60\n",
        "future = 5\n",
        "profit = 0.01\n",
        "val_ratio = 0.2\n",
        "num_classes=2\n",
        "data_y = buildYTrain(df.copy().iloc[:-100],past,future,profit)\n",
        "#df.drop(['open','high','low','close'],axis=1,inplace=True)\n",
        "data = normalize_data(df.copy().iloc[:-100])\n",
        "data_x = buildXTrain(data,past,future,profit)"
      ],
      "execution_count": 77,
      "outputs": []
    },
    {
      "cell_type": "code",
      "metadata": {
        "id": "VyQxYlRTb5Vf"
      },
      "source": [
        "data_X, data_Y = shuffle(data_x, data_y)\n",
        "x_train, y_train, x_val, y_val = splitData(data_X, data_Y, val_ratio)"
      ],
      "execution_count": 78,
      "outputs": []
    },
    {
      "cell_type": "code",
      "metadata": {
        "id": "4812l_lKfZsk",
        "outputId": "924ab3dc-682e-4fb2-b199-194d7417a4b0",
        "colab": {
          "base_uri": "https://localhost:8080/"
        }
      },
      "source": [
        "\n",
        "x_train.shape\n",
        "y_train.shape"
      ],
      "execution_count": 79,
      "outputs": [
        {
          "output_type": "execute_result",
          "data": {
            "text/plain": [
              "(3154, 5)"
            ]
          },
          "metadata": {
            "tags": []
          },
          "execution_count": 79
        }
      ]
    },
    {
      "cell_type": "code",
      "metadata": {
        "id": "ZDkRvWefb8m7",
        "outputId": "abd40512-9f56-4740-f281-c73fe62fdd3d",
        "colab": {
          "base_uri": "https://localhost:8080/"
        }
      },
      "source": [
        "backend.clear_session()\n",
        "\n",
        "model = Sequential()\n",
        "model.add(Conv1D(16, 3, activation='selu', input_shape=(x_train.shape[1:])))\n",
        "model.add(Conv1D(16, 3, activation='selu'))\n",
        "model.add(MaxPooling1D(2))\n",
        "model.add(Conv1D(32, 3, activation='selu'))\n",
        "model.add(Conv1D(32, 3, activation='selu'))\n",
        "model.add(MaxPooling1D(2))\n",
        "\n",
        "model.add(Conv1D(64, 3, activation='selu'))\n",
        "model.add(Conv1D(64, 3, activation='selu'))\n",
        "model.add(Conv1D(64, 3, activation='selu'))\n",
        "model.add(MaxPooling1D(2))\n",
        "#model.add(Conv1D(128, 3, activation='relu'))\n",
        "#model.add(Conv1D(128, 3, activation='relu'))\n",
        "#model.add(Conv1D(128, 3, activation='relu'))\n",
        "#model.add(MaxPooling1D(2))\n",
        "\n",
        "\n",
        "\n",
        "#model.add(Conv1D(128, 3, activation='selu'))\n",
        "#model.add(Conv1D(128, 3, activation='selu'))\n",
        "\n",
        "#model.add(Conv1D(160, 3, activation='selu'))\n",
        "#model.add(GlobalAveragePooling1D())\n",
        "#model.add(Dropout(0.5))\n",
        "#model.add(Flatten(input_shape=(x_train.shape[1:])))\n",
        "model.add(Flatten())\n",
        "model.add(Dense(512, activation='selu'))    \n",
        "model.add(Dropout(0.5))    \n",
        "model.add(Dense(512, activation='selu'))    \n",
        "model.add(Dropout(0.5))\n",
        "\n",
        "#for i in range(50):\n",
        "#  model.add(Dense(512, activation='selu'))    \n",
        "#model.add(Dropout(0.5)) \n",
        "#model.add(Dense(num_classes, activation='softmax'))\n",
        "model.add(Dense(future, activation='sigmoid'))\n",
        "\n",
        "#model.compile(loss='categorical_crossentropy', optimizer='adam', metrics=['accuracy'])\n",
        "model.compile(loss='mean_absolute_error', optimizer='adam', metrics=['accuracy'])\n",
        "\n",
        "model.summary()"
      ],
      "execution_count": 101,
      "outputs": [
        {
          "output_type": "stream",
          "text": [
            "Model: \"sequential\"\n",
            "_________________________________________________________________\n",
            "Layer (type)                 Output Shape              Param #   \n",
            "=================================================================\n",
            "conv1d (Conv1D)              (None, 58, 16)            1504      \n",
            "_________________________________________________________________\n",
            "conv1d_1 (Conv1D)            (None, 56, 16)            784       \n",
            "_________________________________________________________________\n",
            "max_pooling1d (MaxPooling1D) (None, 28, 16)            0         \n",
            "_________________________________________________________________\n",
            "conv1d_2 (Conv1D)            (None, 26, 32)            1568      \n",
            "_________________________________________________________________\n",
            "conv1d_3 (Conv1D)            (None, 24, 32)            3104      \n",
            "_________________________________________________________________\n",
            "max_pooling1d_1 (MaxPooling1 (None, 12, 32)            0         \n",
            "_________________________________________________________________\n",
            "conv1d_4 (Conv1D)            (None, 10, 64)            6208      \n",
            "_________________________________________________________________\n",
            "conv1d_5 (Conv1D)            (None, 8, 64)             12352     \n",
            "_________________________________________________________________\n",
            "conv1d_6 (Conv1D)            (None, 6, 64)             12352     \n",
            "_________________________________________________________________\n",
            "max_pooling1d_2 (MaxPooling1 (None, 3, 64)             0         \n",
            "_________________________________________________________________\n",
            "flatten (Flatten)            (None, 192)               0         \n",
            "_________________________________________________________________\n",
            "dense (Dense)                (None, 512)               98816     \n",
            "_________________________________________________________________\n",
            "dropout (Dropout)            (None, 512)               0         \n",
            "_________________________________________________________________\n",
            "dense_1 (Dense)              (None, 512)               262656    \n",
            "_________________________________________________________________\n",
            "dropout_1 (Dropout)          (None, 512)               0         \n",
            "_________________________________________________________________\n",
            "dense_2 (Dense)              (None, 5)                 2565      \n",
            "=================================================================\n",
            "Total params: 401,909\n",
            "Trainable params: 401,909\n",
            "Non-trainable params: 0\n",
            "_________________________________________________________________\n"
          ],
          "name": "stdout"
        }
      ]
    },
    {
      "cell_type": "code",
      "metadata": {
        "id": "dNF8EfMHc2g4",
        "outputId": "4ebeef63-166a-402c-b826-04711f159b61",
        "colab": {
          "base_uri": "https://localhost:8080/",
          "height": 1000
        }
      },
      "source": [
        "callback = EarlyStopping(monitor=\"val_accuracy\", patience=10, verbose=1, mode=\"auto\")\n",
        "history=model.fit(x_train, y_train, epochs=1000, batch_size=32, validation_data=(x_val, y_val), callbacks=[callback])\n",
        "training_result(history)"
      ],
      "execution_count": 102,
      "outputs": [
        {
          "output_type": "stream",
          "text": [
            "Epoch 1/1000\n",
            "99/99 [==============================] - 1s 7ms/step - loss: 0.1339 - accuracy: 0.2933 - val_loss: 0.0701 - val_accuracy: 0.3020\n",
            "Epoch 2/1000\n",
            "99/99 [==============================] - 1s 6ms/step - loss: 0.0764 - accuracy: 0.3855 - val_loss: 0.0685 - val_accuracy: 0.5330\n",
            "Epoch 3/1000\n",
            "99/99 [==============================] - 1s 6ms/step - loss: 0.0704 - accuracy: 0.4493 - val_loss: 0.0673 - val_accuracy: 0.5609\n",
            "Epoch 4/1000\n",
            "99/99 [==============================] - 1s 6ms/step - loss: 0.0682 - accuracy: 0.4537 - val_loss: 0.0677 - val_accuracy: 0.5444\n",
            "Epoch 5/1000\n",
            "99/99 [==============================] - 1s 6ms/step - loss: 0.0676 - accuracy: 0.4841 - val_loss: 0.0678 - val_accuracy: 0.5673\n",
            "Epoch 6/1000\n",
            "99/99 [==============================] - 1s 6ms/step - loss: 0.0671 - accuracy: 0.4705 - val_loss: 0.0681 - val_accuracy: 0.5660\n",
            "Epoch 7/1000\n",
            "99/99 [==============================] - 1s 6ms/step - loss: 0.0664 - accuracy: 0.4886 - val_loss: 0.0678 - val_accuracy: 0.5584\n",
            "Epoch 8/1000\n",
            "99/99 [==============================] - 1s 6ms/step - loss: 0.0660 - accuracy: 0.4933 - val_loss: 0.0681 - val_accuracy: 0.5546\n",
            "Epoch 9/1000\n",
            "99/99 [==============================] - 1s 6ms/step - loss: 0.0651 - accuracy: 0.5041 - val_loss: 0.0680 - val_accuracy: 0.5673\n",
            "Epoch 10/1000\n",
            "99/99 [==============================] - 1s 6ms/step - loss: 0.0647 - accuracy: 0.5013 - val_loss: 0.0687 - val_accuracy: 0.5292\n",
            "Epoch 11/1000\n",
            "99/99 [==============================] - 1s 6ms/step - loss: 0.0641 - accuracy: 0.4990 - val_loss: 0.0677 - val_accuracy: 0.5673\n",
            "Epoch 12/1000\n",
            "99/99 [==============================] - 1s 6ms/step - loss: 0.0637 - accuracy: 0.5111 - val_loss: 0.0743 - val_accuracy: 0.5635\n",
            "Epoch 13/1000\n",
            "99/99 [==============================] - 1s 6ms/step - loss: 0.0635 - accuracy: 0.5067 - val_loss: 0.0702 - val_accuracy: 0.5660\n",
            "Epoch 14/1000\n",
            "99/99 [==============================] - 1s 6ms/step - loss: 0.0624 - accuracy: 0.5140 - val_loss: 0.0684 - val_accuracy: 0.5622\n",
            "Epoch 15/1000\n",
            "99/99 [==============================] - 1s 6ms/step - loss: 0.0613 - accuracy: 0.5200 - val_loss: 0.0702 - val_accuracy: 0.5698\n",
            "Epoch 16/1000\n",
            "99/99 [==============================] - 1s 6ms/step - loss: 0.0619 - accuracy: 0.5181 - val_loss: 0.0695 - val_accuracy: 0.5584\n",
            "Epoch 17/1000\n",
            "99/99 [==============================] - 1s 6ms/step - loss: 0.0603 - accuracy: 0.5368 - val_loss: 0.0693 - val_accuracy: 0.5381\n",
            "Epoch 18/1000\n",
            "99/99 [==============================] - 1s 6ms/step - loss: 0.0600 - accuracy: 0.5263 - val_loss: 0.0714 - val_accuracy: 0.5508\n",
            "Epoch 19/1000\n",
            "99/99 [==============================] - 1s 6ms/step - loss: 0.0592 - accuracy: 0.5317 - val_loss: 0.0712 - val_accuracy: 0.5470\n",
            "Epoch 20/1000\n",
            "99/99 [==============================] - 1s 6ms/step - loss: 0.0594 - accuracy: 0.5279 - val_loss: 0.0692 - val_accuracy: 0.5673\n",
            "Epoch 21/1000\n",
            "99/99 [==============================] - 1s 6ms/step - loss: 0.0585 - accuracy: 0.5450 - val_loss: 0.0687 - val_accuracy: 0.4898\n",
            "Epoch 22/1000\n",
            "99/99 [==============================] - 1s 6ms/step - loss: 0.0584 - accuracy: 0.5346 - val_loss: 0.0708 - val_accuracy: 0.5635\n",
            "Epoch 23/1000\n",
            "99/99 [==============================] - 1s 6ms/step - loss: 0.0573 - accuracy: 0.5311 - val_loss: 0.0712 - val_accuracy: 0.5635\n",
            "Epoch 24/1000\n",
            "99/99 [==============================] - 1s 6ms/step - loss: 0.0569 - accuracy: 0.5371 - val_loss: 0.0693 - val_accuracy: 0.5571\n",
            "Epoch 25/1000\n",
            "99/99 [==============================] - 1s 6ms/step - loss: 0.0570 - accuracy: 0.5333 - val_loss: 0.0693 - val_accuracy: 0.5685\n",
            "Epoch 00025: early stopping\n"
          ],
          "name": "stdout"
        },
        {
          "output_type": "display_data",
          "data": {
            "image/png": "[encoded data removed]",
            "text/plain": [
              "<Figure size 432x288 with 1 Axes>"
            ]
          },
          "metadata": {
            "tags": [],
            "needs_background": "light"
          }
        },
        {
          "output_type": "display_data",
          "data": {
            "image/png": "[encoded data removed]",
            "text/plain": [
              "<Figure size 432x288 with 1 Axes>"
            ]
          },
          "metadata": {
            "tags": [],
            "needs_background": "light"
          }
        }
      ]
    },
    {
      "cell_type": "code",
      "metadata": {
        "id": "KFvvfkFOdN53",
        "outputId": "fd5a8c56-42f3-4ed4-fc5a-e925d10144e3",
        "colab": {
          "base_uri": "https://localhost:8080/"
        }
      },
      "source": [
        "model.predict(x_train)"
      ],
      "execution_count": 95,
      "outputs": [
        {
          "output_type": "execute_result",
          "data": {
            "text/plain": [
              "array([[0.48571333, 0.4490299 , 0.405476  , 0.3676657 , 0.4406003 ],\n",
              "       [0.5082368 , 0.46651578, 0.42246348, 0.3913678 , 0.45977765],\n",
              "       [0.49850026, 0.46414295, 0.42363963, 0.39425308, 0.46244252],\n",
              "       ...,\n",
              "       [0.5004892 , 0.46793708, 0.42209378, 0.3849002 , 0.45525348],\n",
              "       [0.5101603 , 0.4779181 , 0.4298565 , 0.40044558, 0.46683103],\n",
              "       [0.49886551, 0.46264258, 0.41759083, 0.3845056 , 0.4555898 ]],\n",
              "      dtype=float32)"
            ]
          },
          "metadata": {
            "tags": []
          },
          "execution_count": 95
        }
      ]
    }
  ]
}