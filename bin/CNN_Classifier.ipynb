{
 "cells": [
  {
   "cell_type": "code",
   "execution_count": 136,
   "metadata": {},
   "outputs": [],
   "source": [
    "import pandas as pd\n",
    "import numpy as np\n",
    "from sklearn import preprocessing\n",
    "from tensorflow.keras import backend\n",
    "from tensorflow.keras.models import Sequential, load_model, Model\n",
    "from tensorflow.keras.layers import Conv1D, Dense, Activation,MaxPooling1D, GlobalAveragePooling1D, Dropout, Lambda, RepeatVector, Input, Reshape, Flatten\n",
    "from keras.layers.normalization import BatchNormalization\n",
    "from tensorflow.keras.optimizers import Adam\n",
    "from tensorflow.keras.callbacks import EarlyStopping, ModelCheckpoint\n",
    "from tensorflow.keras.utils import to_categorical\n",
    "from sklearn.preprocessing import MinMaxScaler\n",
    "import tensorflow\n",
    "import matplotlib.pyplot as plt\n",
    "import pickle\n",
    "import os\n",
    "import pandas\n",
    "import math\n"
   ]
  },
  {
   "cell_type": "code",
   "execution_count": 137,
   "metadata": {},
   "outputs": [
    {
     "name": "stdout",
     "output_type": "stream",
     "text": [
      "2.2.0\n"
     ]
    }
   ],
   "source": [
    "print(tensorflow.__version__)"
   ]
  },
  {
   "cell_type": "code",
   "execution_count": 236,
   "metadata": {},
   "outputs": [],
   "source": [
    "def buildYTrain(train, pastDay, futureDay,profit):\n",
    "    Y_train = []\n",
    "    for i in range(train.shape[0]-futureDay-pastDay):\n",
    "        ave = np.mean(train['high'][i+pastDay+1:i+pastDay+futureDay])\n",
    "        if (ave-train['close'][i+pastDay])/ train['close'][i+pastDay] > profit:\n",
    "            Y_train.append(0)\n",
    "        #elif (ave-train['close'][i+pastDay])/ train['close'][i+pastDay] < -profit:\n",
    "        #    Y_train.append(1)\n",
    "        else:\n",
    "            Y_train.append(1)     \n",
    "    return np.array(Y_train)\n",
    "\n",
    "def buildXTrain(train, pastDay, futureDay,profit):\n",
    "    X_train = []\n",
    "    for i in range(train.shape[0]-futureDay-pastDay):\n",
    "        X_train.append(np.array(train[i:i+pastDay]))\n",
    "    return np.array(X_train)\n",
    "\n",
    "def normalize_data(data):\n",
    "    scaler = MinMaxScaler(feature_range=(0, 1))\n",
    "    minmaxscaler = scaler.fit(data)\n",
    "    normalize_data = minmaxscaler.transform(data)\n",
    "\n",
    "    return normalize_data\n",
    "def splitData(X,Y,rate):\n",
    "    X_train = X[int(X.shape[0]*rate):]\n",
    "    Y_train = Y[int(Y.shape[0]*rate):]\n",
    "    X_val = X[:int(X.shape[0]*rate)]\n",
    "    Y_val = Y[:int(Y.shape[0]*rate)]\n",
    "    return X_train, Y_train, X_val, Y_val\n",
    "def shuffle(X,Y):\n",
    "    np.random.seed(10)\n",
    "    randomList = np.arange(X.shape[0])\n",
    "    np.random.shuffle(randomList)\n",
    "    return X[randomList], Y[randomList]\n",
    "def training_result(history):\n",
    "    plt.title('Model loss')\n",
    "    plt.plot(history.history['loss'], label='train')\n",
    "    plt.plot(history.history['val_loss'], label='test')\n",
    "    plt.ylabel('Losss')\n",
    "    plt.xlabel('Epoch')\n",
    "    plt.legend()\n",
    "    plt.show()\n",
    "    \n",
    "    plt.plot(history.history['accuracy'], label='train')\n",
    "    plt.plot(history.history['val_accuracy'], label='test')\n",
    "    plt.title('Model accuracy')\n",
    "    plt.ylabel('Accuracy')\n",
    "    plt.xlabel('Epoch')\n",
    "    plt.legend()\n",
    "    plt.show()"
   ]
  },
  {
   "cell_type": "code",
   "execution_count": 237,
   "metadata": {},
   "outputs": [
    {
     "name": "stdout",
     "output_type": "stream",
     "text": [
      "      adj_close  close   high    low   open    volume  year  month  day  week  \\\n",
      "4102      458.0  458.5  460.0  454.0  458.0  43415670  2020     11    9     0   \n",
      "4103      451.0  451.0  454.5  448.5  452.0  36786882  2020     11   10     1   \n",
      "4104      456.5  457.0  457.0  448.5  448.5  40355804  2020     11   11     2   \n",
      "4105      457.5  458.0  463.5  457.5  463.0  57993774  2020     11   12     3   \n",
      "4106      461.5  462.0  462.0  456.5  459.0  31483881  2020     11   13     4   \n",
      "\n",
      "      ...       DEM       OSC  Dif  cal_U  cal_D     ema_U     ema_D  \\\n",
      "4102  ...  1.889218  0.436539  6.0    6.0    0.0  2.976283  1.354608   \n",
      "4103  ...  1.985602  0.385533 -7.5    0.0    7.5  2.579445  2.173993   \n",
      "4104  ...  2.160141  0.698157  6.0    6.0    0.0  3.035519  1.884128   \n",
      "4105  ...  2.385548  0.901629  1.0    1.0    0.0  2.764117  1.632911   \n",
      "4106  ...  2.689403  1.215419  4.0    4.0    0.0  2.928901  1.415189   \n",
      "\n",
      "            RS        RSI       OBV  \n",
      "4102  2.197155  68.722188  0.750000  \n",
      "4103  1.186501  54.264824  0.416667  \n",
      "4104  1.611101  61.701972  1.000000  \n",
      "4105  1.692754  62.863303  0.083333  \n",
      "4106  2.069618  67.422656  1.000000  \n",
      "\n",
      "[5 rows x 36 columns]\n",
      "(4107, 36)\n"
     ]
    }
   ],
   "source": [
    "with open(os.path.join(os.getcwd(),\"data\",\"2330.pickle\"),'rb') as f:\n",
    "    df = pickle.load(f)\n",
    "    print(df.tail())\n",
    "    print(df.shape)\n",
    "    #df.drop(['year','week','month','day','adj_close'],axis=1,inplace=True)\n",
    "    df = df[['open','high','low','close','volume']]\n",
    "    df['diff1'] = df['close']-df['open']\n",
    "    df['diff2']= df['close']-df['low']\n",
    "    df['diff3']= df['high']-df['close']\n",
    "    df['diff4']= df['high']-df['low']\n",
    "    df['diff5']= df['open']-df['low']\n",
    "    df['diff5']= df['high']-df['open']\n",
    "\n",
    "\n",
    "    "
   ]
  },
  {
   "cell_type": "code",
   "execution_count": 238,
   "metadata": {},
   "outputs": [],
   "source": [
    "past = 60\n",
    "future = 5\n",
    "profit = 0.01\n",
    "val_ratio = 0.2\n",
    "num_classes=2\n",
    "data_y = buildYTrain(df.copy().iloc[:-100],past,future,profit)\n",
    "\n",
    "data = normalize_data(df.copy().iloc[:-100])\n",
    "\n",
    "data_x = buildXTrain(data,past,future,profit)\n"
   ]
  },
  {
   "cell_type": "code",
   "execution_count": 239,
   "metadata": {},
   "outputs": [
    {
     "name": "stdout",
     "output_type": "stream",
     "text": [
      "(3942,)\n",
      "(3942, 60, 10)\n",
      "1810 2132 0\n"
     ]
    }
   ],
   "source": [
    "print(data_y.shape)\n",
    "print(data_x.shape)\n",
    "more=0\n",
    "less=0\n",
    "equal=0\n",
    "for i in range(data_y.shape[0]):\n",
    "    if data_y[i]==0:\n",
    "        more+=1\n",
    "    elif data_y[i]==1:\n",
    "        less+=1\n",
    "    else:\n",
    "        equal+=1\n",
    "print(more,less,equal)\n",
    "    "
   ]
  },
  {
   "cell_type": "code",
   "execution_count": 240,
   "metadata": {},
   "outputs": [],
   "source": [
    "data_X, data_Y = shuffle(data_x, data_y)\n",
    "x_train, y_train, x_val, y_val = splitData(data_X, data_Y, val_ratio)\n",
    "Y_train = to_categorical(y_train, num_classes=num_classes)\n",
    "Y_val = to_categorical(y_val, num_classes=num_classes)"
   ]
  },
  {
   "cell_type": "code",
   "execution_count": 241,
   "metadata": {},
   "outputs": [
    {
     "name": "stdout",
     "output_type": "stream",
     "text": [
      "(788, 2)\n"
     ]
    },
    {
     "data": {
      "text/plain": [
       "(60, 10)"
      ]
     },
     "execution_count": 241,
     "metadata": {},
     "output_type": "execute_result"
    }
   ],
   "source": [
    "print(Y_val.shape)\n",
    "x_train.shape[1:]"
   ]
  },
  {
   "cell_type": "code",
   "execution_count": 242,
   "metadata": {},
   "outputs": [
    {
     "name": "stdout",
     "output_type": "stream",
     "text": [
      "Model: \"sequential\"\n",
      "_________________________________________________________________\n",
      "Layer (type)                 Output Shape              Param #   \n",
      "=================================================================\n",
      "conv1d (Conv1D)              (None, 60, 64)            704       \n",
      "_________________________________________________________________\n",
      "max_pooling1d (MaxPooling1D) (None, 30, 64)            0         \n",
      "_________________________________________________________________\n",
      "conv1d_1 (Conv1D)            (None, 28, 128)           24704     \n",
      "_________________________________________________________________\n",
      "max_pooling1d_1 (MaxPooling1 (None, 14, 128)           0         \n",
      "_________________________________________________________________\n",
      "conv1d_2 (Conv1D)            (None, 12, 128)           49280     \n",
      "_________________________________________________________________\n",
      "flatten (Flatten)            (None, 1536)              0         \n",
      "_________________________________________________________________\n",
      "dense (Dense)                (None, 200)               307400    \n",
      "_________________________________________________________________\n",
      "dense_1 (Dense)              (None, 2)                 402       \n",
      "=================================================================\n",
      "Total params: 382,490\n",
      "Trainable params: 382,490\n",
      "Non-trainable params: 0\n",
      "_________________________________________________________________\n"
     ]
    }
   ],
   "source": [
    "backend.clear_session()\n",
    "\n",
    "model = Sequential()\n",
    "model.add(Conv1D(64, 1, activation='selu', input_shape=(x_train.shape[1:])))\n",
    "model.add(MaxPooling1D(2))\n",
    "#model.add(Conv1D(300, 5, activation='selu'))\n",
    "model.add(Conv1D(128, 3, activation='selu'))\n",
    "model.add(MaxPooling1D(2))\n",
    "model.add(Conv1D(128, 3, activation='selu'))\n",
    "\n",
    "#model.add(Conv1D(160, 3, activation='selu'))\n",
    "#model.add(GlobalAveragePooling1D())\n",
    "#model.add(Dropout(0.5))\n",
    "model.add(Flatten())\n",
    "model.add(Dense(200, activation='selu'))\n",
    "#model.add(Dense(num_classes, activation='softmax'))\n",
    "model.add(Dense(2, activation='softmax'))\n",
    "\n",
    "#model.compile(loss='categorical_crossentropy', optimizer='adam', metrics=['accuracy'])\n",
    "model.compile(loss='binary_crossentropy', optimizer='adam', metrics=['accuracy'])\n",
    "\n",
    "model.summary()"
   ]
  },
  {
   "cell_type": "code",
   "execution_count": 243,
   "metadata": {},
   "outputs": [
    {
     "name": "stdout",
     "output_type": "stream",
     "text": [
      "Epoch 1/1000\n",
      "25/25 [==============================] - 1s 21ms/step - loss: 1.0118 - accuracy: 0.5105 - val_loss: 0.7073 - val_accuracy: 0.4581\n",
      "Epoch 2/1000\n",
      "25/25 [==============================] - 0s 18ms/step - loss: 0.7048 - accuracy: 0.5133 - val_loss: 0.6891 - val_accuracy: 0.5419\n",
      "Epoch 3/1000\n",
      "25/25 [==============================] - 0s 16ms/step - loss: 0.6903 - accuracy: 0.5450 - val_loss: 0.7077 - val_accuracy: 0.4543\n",
      "Epoch 4/1000\n",
      "25/25 [==============================] - 0s 16ms/step - loss: 0.6911 - accuracy: 0.5368 - val_loss: 0.6856 - val_accuracy: 0.5444\n",
      "Epoch 5/1000\n",
      "25/25 [==============================] - 0s 17ms/step - loss: 0.6844 - accuracy: 0.5444 - val_loss: 0.6915 - val_accuracy: 0.5140\n",
      "Epoch 6/1000\n",
      "25/25 [==============================] - 0s 17ms/step - loss: 0.6789 - accuracy: 0.5726 - val_loss: 0.6827 - val_accuracy: 0.5685\n",
      "Epoch 7/1000\n",
      "25/25 [==============================] - 0s 16ms/step - loss: 0.6755 - accuracy: 0.5701 - val_loss: 0.6850 - val_accuracy: 0.5431\n",
      "Epoch 8/1000\n",
      "25/25 [==============================] - 0s 17ms/step - loss: 0.6747 - accuracy: 0.5751 - val_loss: 0.6810 - val_accuracy: 0.5406\n",
      "Epoch 9/1000\n",
      "25/25 [==============================] - 0s 17ms/step - loss: 0.6645 - accuracy: 0.5999 - val_loss: 0.7036 - val_accuracy: 0.5165\n",
      "Epoch 10/1000\n",
      "25/25 [==============================] - 0s 16ms/step - loss: 0.6589 - accuracy: 0.6030 - val_loss: 0.6900 - val_accuracy: 0.5266\n",
      "Epoch 11/1000\n",
      "25/25 [==============================] - 0s 18ms/step - loss: 0.6500 - accuracy: 0.6170 - val_loss: 0.6928 - val_accuracy: 0.5330\n",
      "Epoch 12/1000\n",
      "25/25 [==============================] - 0s 18ms/step - loss: 0.6397 - accuracy: 0.6297 - val_loss: 0.7009 - val_accuracy: 0.5406\n",
      "Epoch 13/1000\n",
      "25/25 [==============================] - 0s 16ms/step - loss: 0.6300 - accuracy: 0.6500 - val_loss: 0.7103 - val_accuracy: 0.5190\n",
      "Epoch 14/1000\n",
      "25/25 [==============================] - 0s 17ms/step - loss: 0.6202 - accuracy: 0.6516 - val_loss: 0.7206 - val_accuracy: 0.5444\n",
      "Epoch 15/1000\n",
      "25/25 [==============================] - 0s 17ms/step - loss: 0.6107 - accuracy: 0.6547 - val_loss: 0.7304 - val_accuracy: 0.5330\n",
      "Epoch 16/1000\n",
      "25/25 [==============================] - 0s 18ms/step - loss: 0.5969 - accuracy: 0.6763 - val_loss: 0.7196 - val_accuracy: 0.5457\n",
      "Epoch 00016: early stopping\n"
     ]
    },
    {
     "data": {
      "image/png": "[encoded data removed]",
      "text/plain": [
       "<Figure size 432x288 with 1 Axes>"
      ]
     },
     "metadata": {
      "needs_background": "light"
     },
     "output_type": "display_data"
    },
    {
     "data": {
      "image/png": "[encoded data removed]",
      "text/plain": [
       "<Figure size 432x288 with 1 Axes>"
      ]
     },
     "metadata": {
      "needs_background": "light"
     },
     "output_type": "display_data"
    }
   ],
   "source": [
    "callback = EarlyStopping(monitor=\"val_accuracy\", patience=10, verbose=1, mode=\"auto\")\n",
    "history=model.fit(x_train, Y_train, epochs=1000, batch_size=128, validation_data=(x_val, Y_val), callbacks=[callback])\n",
    "training_result(history)"
   ]
  },
  {
   "cell_type": "code",
   "execution_count": 211,
   "metadata": {},
   "outputs": [],
   "source": [
    "ans=model.predict(x_train)"
   ]
  },
  {
   "cell_type": "code",
   "execution_count": 213,
   "metadata": {},
   "outputs": [
    {
     "data": {
      "text/plain": [
       "array([[0.203464  , 0.11209084, 0.6844452 ],\n",
       "       [0.02703418, 0.03112623, 0.9418396 ],\n",
       "       [0.12180689, 0.00601981, 0.8721733 ],\n",
       "       [0.54148114, 0.0608865 , 0.3976324 ],\n",
       "       [0.27006513, 0.21015279, 0.51978207],\n",
       "       [0.77789724, 0.0569267 , 0.16517608],\n",
       "       [0.3873342 , 0.33669227, 0.2759736 ],\n",
       "       [0.5657544 , 0.08887959, 0.34536594],\n",
       "       [0.38235247, 0.02151475, 0.59613276],\n",
       "       [0.56467986, 0.03737861, 0.39794153],\n",
       "       [0.31568894, 0.04495285, 0.63935816],\n",
       "       [0.7568704 , 0.01209757, 0.23103206],\n",
       "       [0.4483746 , 0.04724453, 0.5043809 ],\n",
       "       [0.16561371, 0.08105234, 0.753334  ],\n",
       "       [0.47480652, 0.06976324, 0.45543027],\n",
       "       [0.29144034, 0.16836447, 0.54019517],\n",
       "       [0.5450649 , 0.03306562, 0.42186952],\n",
       "       [0.33618835, 0.01650424, 0.6473074 ],\n",
       "       [0.02727505, 0.05940446, 0.91332054],\n",
       "       [0.66950274, 0.02974115, 0.30075613]], dtype=float32)"
      ]
     },
     "execution_count": 213,
     "metadata": {},
     "output_type": "execute_result"
    }
   ],
   "source": [
    "ans[-20:]"
   ]
  }
 ],
 "metadata": {
  "kernelspec": {
   "display_name": "Python 3",
   "language": "python",
   "name": "python3"
  },
  "language_info": {
   "codemirror_mode": {
    "name": "ipython",
    "version": 3
   },
   "file_extension": ".py",
   "mimetype": "text/x-python",
   "name": "python",
   "nbconvert_exporter": "python",
   "pygments_lexer": "ipython3",
   "version": "3.6.10"
  }
 },
 "nbformat": 4,
 "nbformat_minor": 2
}
