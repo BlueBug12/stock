{
 "cells": [
  {
   "cell_type": "code",
   "execution_count": 4,
   "metadata": {},
   "outputs": [
    {
     "name": "stderr",
     "output_type": "stream",
     "text": [
      "Using TensorFlow backend.\n"
     ]
    }
   ],
   "source": [
    "import pandas as pd\n",
    "import numpy as np\n",
    "from sklearn import preprocessing\n",
    "from tensorflow.keras.models import Sequential, load_model\n",
    "from tensorflow.keras.layers import Dense, Dropout, Activation, Flatten, LSTM, TimeDistributed, RepeatVector, Embedding\n",
    "from keras.layers.normalization import BatchNormalization\n",
    "from tensorflow.keras.optimizers import Adam\n",
    "from tensorflow.keras.callbacks import EarlyStopping, ModelCheckpoint\n",
    "import matplotlib.pyplot as plt\n",
    "import pickle\n",
    "import os\n",
    "import pandas"
   ]
  },
  {
   "cell_type": "code",
   "execution_count": 5,
   "metadata": {},
   "outputs": [],
   "source": [
    "def normalize(df):\n",
    "    norm_df = df.copy()\n",
    "    min_max_scaler = preprocessing.MinMaxScaler()\n",
    "    #df = df.drop(['date','adj_close'],axis=1)\n",
    "    for col in norm_df.columns: \n",
    "        norm_df[col] = min_max_scaler.fit_transform(norm_df[col].values.reshape(-1,1))\n",
    "    return norm_df\n",
    "def denormalize(normalized,original,feature='close'):\n",
    "    original_value = original[feature].values.reshape(-1,1)\n",
    "    normalized_value = normalized.reshape(-1,1)\n",
    "\n",
    "    #return df.shape, p.shape\n",
    "    min_max_scaler = preprocessing.MinMaxScaler()\n",
    "    min_max_scaler.fit_transform(original_value)\n",
    "    return min_max_scaler.inverse_transform(normalized_value)[:,0]\n",
    "def shuffle(X,Y):\n",
    "    np.random.seed(10)\n",
    "    randomList = np.arange(X.shape[0])\n",
    "    np.random.shuffle(randomList)\n",
    "    return X[randomList], Y[randomList]\n",
    "def splitData(X,Y,rate):\n",
    "    X_train = X[int(X.shape[0]*rate):]\n",
    "    Y_train = Y[int(Y.shape[0]*rate):]\n",
    "    X_val = X[:int(X.shape[0]*rate)]\n",
    "    Y_val = Y[:int(Y.shape[0]*rate)]\n",
    "    return X_train, Y_train, X_val, Y_val"
   ]
  },
  {
   "cell_type": "code",
   "execution_count": 6,
   "metadata": {},
   "outputs": [],
   "source": [
    "def genInputTrain(df, pastDay=30, futureDay=5,feature='close',profit=0.03,drop=False):\n",
    "    X_train = []\n",
    "    for i in range(df.shape[0]-futureDay-pastDay):\n",
    "        if drop:\n",
    "            X_train.append(np.array(df.drop(['open','adj_close','close','high','low'],axis=1).iloc[i:i+pastDay]))\n",
    "        else:\n",
    "            X_train.append(np.array(df.iloc[i:i+pastDay]))\n",
    "        \n",
    "    return np.array(X_train)\n",
    "\n",
    "def genOutputTrain(df,pastDay=30, futureDay=5,feature='close',profit=0.03):\n",
    "    Y_train = []\n",
    "    for i in range(df.shape[0]-futureDay-pastDay):\n",
    "        #high_close = max(df.iloc[i+pastDay+1:i+pastDay+futureDay][feature])\n",
    "        ave_close = np.mean(np.array(df.iloc[i+pastDay:i+pastDay+futureDay][feature]))\n",
    "        #sub_y = (high_close-df.iloc[i+pastDay][feature])/df.iloc[i+pastDay][feature]\n",
    "        sub_y = (ave_close-df.iloc[i+pastDay][feature])/df.iloc[i+pastDay][feature]\n",
    "        Y_train.append(np.array([float(sub_y>profit)]))\n",
    "        \n",
    "    return np.array(Y_train)\n",
    "\n",
    "def genInputTest(df, pastDay=30, feature='close',profit=0.03,drop=False):\n",
    "    X_train = []\n",
    "    for i in range(df.shape[0]-pastDay):\n",
    "        if drop:\n",
    "            X_train.append(np.array(df.drop(['open','adj_close','close','high','low'],axis=1).iloc[i:i+pastDay]))\n",
    "        else:\n",
    "            X_train.append(np.array(df.iloc[i:i+pastDay]))\n",
    "        \n",
    "    return np.array(X_train)"
   ]
  },
  {
   "cell_type": "code",
   "execution_count": 41,
   "metadata": {},
   "outputs": [],
   "source": [
    "def buildModel(shape):\n",
    "    print ('Creating model...')\n",
    "    model = Sequential()\n",
    "    #model.add(Embedding(input_dim = shape[2], output_dim = 50, input_length = shape[1]))\n",
    "    model.add(LSTM(2*shape[2], activation='sigmoid', return_sequences=True))\n",
    "    model.add(Dropout(0.5))\n",
    "    model.add(LSTM(2*shape[2], activation='sigmoid'))\n",
    "    model.add(Dropout(0.5))\n",
    "    model.add(Dense(1, activation='sigmoid'))\n",
    "\n",
    "    print ('Compiling...')\n",
    "    model.compile(loss='binary_crossentropy',\n",
    "                  optimizer='rmsprop',\n",
    "                  metrics=['accuracy'])\n",
    "    return model\n",
    "def buildModel2(shape):\n",
    "    model = Sequential()\n",
    "    model.add(LSTM(units = 256,  input_shape = (shape[1], shape[2])))\n",
    "    '''\n",
    "    model.add(Dropout(0.2))\n",
    "    model.add(LSTM(units = 256, return_sequences = True))\n",
    "    model.add(Dropout(0.2))\n",
    "    model.add(LSTM(units = 256, return_sequences = True))\n",
    "    model.add(Dropout(0.2))\n",
    "    model.add(LSTM(units = 256))\n",
    "    model.add(Dropout(0.2))\n",
    "    '''\n",
    "   \n",
    "    model.add(Dense(units = 1, activation='relu'))\n",
    "    model.compile(loss='binary_crossentropy', optimizer='adam', metrics=['accuracy'])\n",
    "    return model\n",
    "def buildModel3(shape):\n",
    "    model = Sequential()\n",
    "    model.add(LSTM(units = 24,  input_shape = (shape[1], shape[2]),return_sequences = True))\n",
    "    model.add(Dense(units = 48, activation='relu'))\n",
    "    model.add(Dropout(0.5))\n",
    "    model.add(LSTM(units = 48))\n",
    "    model.add(Dense(units = 24, activation='relu'))\n",
    "    model.add(Dropout(0.5))\n",
    "    model.add(Dense(units = 1, activation='sigmoid'))\n",
    "    model.compile(loss='binary_crossentropy', optimizer='adam', metrics=['accuracy'])\n",
    "    return model\n",
    "def buildManyToOneModel(shape):\n",
    "    model = Sequential()\n",
    "    model.add(LSTM(10, input_length=shape[1], input_dim=shape[2]))\n",
    "    # output shape: (1, 1)\n",
    "    model.add(Dense(1))\n",
    "    #model.compile(loss=\"mse\", optimizer=\"adam\")\n",
    "    model.compile(loss='mean_absolute_error',optimizer=\"adam\")\n",
    "    model.summary()\n",
    "    return model"
   ]
  },
  {
   "cell_type": "code",
   "execution_count": 53,
   "metadata": {},
   "outputs": [],
   "source": [
    "def plot_stock(actual):\n",
    "    plt.plot(actual, color='blue', label='actual')\n",
    "    plt.legend(loc='best')\n",
    "    plt.show()\n",
    "def training_result(history):\n",
    "    plt.title('Model loss')\n",
    "    plt.plot(history.history['loss'], label='train')\n",
    "    plt.plot(history.history['val_loss'], label='test')\n",
    "    plt.ylabel('Losss')\n",
    "    plt.xlabel('Epoch')\n",
    "    plt.legend()\n",
    "    plt.show()\n",
    "    \n",
    "    plt.plot(history.history['accuracy'], label='train')\n",
    "    plt.plot(history.history['val_accuracy'], label='test')\n",
    "    plt.title('Model accuracy')\n",
    "    plt.ylabel('Accuracy')\n",
    "    plt.xlabel('Epoch')\n",
    "    plt.legend()\n",
    "    plt.show()"
   ]
  },
  {
   "cell_type": "code",
   "execution_count": 54,
   "metadata": {},
   "outputs": [],
   "source": [
    "def accuracy(df,model,past=30,future=5,profit=0.03,threshold=0.5,drop=False):\n",
    "\n",
    "    Y_test=genOutputTrain(df, past,future,profit=profit)\n",
    "    df_norm=normalize(df)\n",
    "    X_test=genInputTrain(df_norm, past,future,drop=drop)\n",
    "    result = model.predict(X_test)\n",
    "    TP = 0\n",
    "    FP = 0\n",
    "    TN = 0\n",
    "    FN = 0\n",
    "    \n",
    "    for i in range(len(result)):\n",
    "        if Y_test[i,0] >0.5  and result[i]>=threshold:\n",
    "            TP += 1\n",
    "        elif Y_test[i,0] <0.5 and result[i]>=threshold:\n",
    "            FP += 1\n",
    "        elif Y_test[i,0] <0.5 and result[i]<threshold:\n",
    "            TN += 1\n",
    "        else:\n",
    "            FN += 1\n",
    "    print(f'TP:{TP}',f'FP:{FP}',f'TN:{TN}',f'FN:{FN}')\n",
    "    print(TP/(TP+FP))\n",
    "    print('')\n",
    "            \n",
    "            \n",
    "\n",
    "    "
   ]
  },
  {
   "cell_type": "code",
   "execution_count": 64,
   "metadata": {},
   "outputs": [],
   "source": [
    "def save_model(model,name):\n",
    "    model.save(os.path.join(os.getcwd(),\"models\",name))\n",
    "def load_model(name):\n",
    "    return load_model(os.path.join(os.getcwd(),\"models\",name))"
   ]
  },
  {
   "cell_type": "code",
   "execution_count": 14,
   "metadata": {},
   "outputs": [
    {
     "name": "stdout",
     "output_type": "stream",
     "text": [
      "1203.pickle\n",
      "1217.pickle\n",
      "2885.pickle\n",
      "1218.pickle\n",
      "2609.pickle\n",
      "2498.pickle\n",
      "2881.pickle\n",
      "3034.pickle\n",
      "2353.pickle\n",
      "2449.pickle\n",
      "1444.pickle\n",
      "2308.pickle\n",
      "2412.pickle\n",
      "1216.pickle\n",
      "3045.pickle\n",
      "3008.pickle\n",
      "2884.pickle\n",
      "2504.pickle\n",
      "1301.pickle\n",
      "2344.pickle\n",
      "3443.pickle\n",
      "2505.pickle\n",
      "2454.pickle\n",
      "2330.pickle\n",
      "1201.pickle\n",
      "2618.pickle\n",
      "2603.pickle\n",
      "1707.pickle\n",
      "2303.pickle\n",
      "2201.pickle\n",
      "2610.pickle\n",
      "2889.pickle\n",
      "1215.pickle\n",
      "2891.pickle\n",
      "2368.pickle\n",
      "2892.pickle\n",
      "2103.pickle\n",
      "0050.pickle\n",
      "1734.pickle\n",
      "2337.pickle\n",
      "2886.pickle\n"
     ]
    },
    {
     "name": "stderr",
     "output_type": "stream",
     "text": [
      "/usr/local/lib/python3.6/dist-packages/ipykernel_launcher.py:14: FutureWarning: Sorting because non-concatenation axis is not aligned. A future version\n",
      "of pandas will change to not sort by default.\n",
      "\n",
      "To accept the future behavior, pass 'sort=False'.\n",
      "\n",
      "To retain the current behavior and silence the warning, pass 'sort=True'.\n",
      "\n",
      "  \n"
     ]
    }
   ],
   "source": [
    "#with open(os.path.join(os.getcwd(),\"data\",\"2330.pickle\"),'rb') as f:\n",
    "#    df = pickle.load(f).iloc[:-60]\n",
    "all_df=[]\n",
    "for train_data in os.listdir(os.path.join(os.getcwd(),'data')):\n",
    "    with open(os.path.join(os.getcwd(),\"data\",train_data),'rb') as f:\n",
    "        print(train_data)\n",
    "        \n",
    "        sub_df=pickle.load(f)#.iloc[:-60]\n",
    "        #print((sub_df.columns))\n",
    "        #sub_df.replace([np.inf, -np.inf], np.nan,inplace=True)\n",
    "        #print(sub_df.isna().sum())\n",
    "        all_df.append(sub_df)\n",
    "\n",
    "df = pd.concat(all_df,axis=0, ignore_index=True)\n",
    "\n",
    "past = 30\n",
    "future = 5\n",
    "Y_train=genOutputTrain(df, past,future,profit=0.03)\n",
    "df_norm=normalize(df)\n",
    "X_train=genInputTrain(df_norm, past,future,drop=True)\n",
    "X_train, Y_train = shuffle(X_train, Y_train)\n",
    "X_train, Y_train, X_val, Y_val = splitData(X_train, Y_train, 0.33)"
   ]
  },
  {
   "cell_type": "code",
   "execution_count": 42,
   "metadata": {
    "scrolled": true
   },
   "outputs": [
    {
     "name": "stdout",
     "output_type": "stream",
     "text": [
      "Epoch 1/1000\n",
      "775/775 [==============================] - 29s 38ms/step - loss: 0.3009 - accuracy: 0.9166 - val_loss: 0.2736 - val_accuracy: 0.9192\n",
      "Epoch 2/1000\n",
      "775/775 [==============================] - 28s 36ms/step - loss: 0.2883 - accuracy: 0.9186 - val_loss: 0.2713 - val_accuracy: 0.9192\n",
      "Epoch 3/1000\n",
      "775/775 [==============================] - 28s 36ms/step - loss: 0.2821 - accuracy: 0.9186 - val_loss: 0.2752 - val_accuracy: 0.9192\n",
      "Epoch 4/1000\n",
      "775/775 [==============================] - 28s 36ms/step - loss: 0.2760 - accuracy: 0.9186 - val_loss: 0.2653 - val_accuracy: 0.9192\n",
      "Epoch 5/1000\n",
      "775/775 [==============================] - 28s 36ms/step - loss: 0.2732 - accuracy: 0.9186 - val_loss: 0.2651 - val_accuracy: 0.9192\n",
      "Epoch 6/1000\n",
      "775/775 [==============================] - 29s 37ms/step - loss: 0.2701 - accuracy: 0.9186 - val_loss: 0.2635 - val_accuracy: 0.9192\n",
      "Epoch 7/1000\n",
      "775/775 [==============================] - 28s 37ms/step - loss: 0.2681 - accuracy: 0.9186 - val_loss: 0.2624 - val_accuracy: 0.9192\n",
      "Epoch 8/1000\n",
      "775/775 [==============================] - 28s 36ms/step - loss: 0.2669 - accuracy: 0.9186 - val_loss: 0.2615 - val_accuracy: 0.9192\n",
      "Epoch 9/1000\n",
      "775/775 [==============================] - 28s 37ms/step - loss: 0.2661 - accuracy: 0.9186 - val_loss: 0.2624 - val_accuracy: 0.9192\n",
      "Epoch 10/1000\n",
      "775/775 [==============================] - 28s 36ms/step - loss: 0.2646 - accuracy: 0.9185 - val_loss: 0.2615 - val_accuracy: 0.9193\n",
      "Epoch 11/1000\n",
      "775/775 [==============================] - 28s 37ms/step - loss: 0.2638 - accuracy: 0.9186 - val_loss: 0.2594 - val_accuracy: 0.9193\n",
      "Epoch 12/1000\n",
      "775/775 [==============================] - 28s 37ms/step - loss: 0.2635 - accuracy: 0.9183 - val_loss: 0.2593 - val_accuracy: 0.9192\n",
      "Epoch 13/1000\n",
      "775/775 [==============================] - 29s 37ms/step - loss: 0.2624 - accuracy: 0.9184 - val_loss: 0.2581 - val_accuracy: 0.9194\n",
      "Epoch 14/1000\n",
      "775/775 [==============================] - 28s 36ms/step - loss: 0.2618 - accuracy: 0.9185 - val_loss: 0.2572 - val_accuracy: 0.9193\n",
      "Epoch 15/1000\n",
      "775/775 [==============================] - 28s 37ms/step - loss: 0.2612 - accuracy: 0.9183 - val_loss: 0.2571 - val_accuracy: 0.9193\n",
      "Epoch 16/1000\n",
      "775/775 [==============================] - 28s 37ms/step - loss: 0.2605 - accuracy: 0.9183 - val_loss: 0.2580 - val_accuracy: 0.9193\n",
      "Epoch 17/1000\n",
      "775/775 [==============================] - 28s 37ms/step - loss: 0.2594 - accuracy: 0.9185 - val_loss: 0.2577 - val_accuracy: 0.9193\n",
      "Epoch 18/1000\n",
      "775/775 [==============================] - 28s 37ms/step - loss: 0.2593 - accuracy: 0.9184 - val_loss: 0.2573 - val_accuracy: 0.9192\n",
      "Epoch 19/1000\n",
      "775/775 [==============================] - 28s 37ms/step - loss: 0.2582 - accuracy: 0.9184 - val_loss: 0.2581 - val_accuracy: 0.9193\n",
      "Epoch 20/1000\n",
      "775/775 [==============================] - 29s 37ms/step - loss: 0.2573 - accuracy: 0.9184 - val_loss: 0.2564 - val_accuracy: 0.9193\n",
      "Epoch 21/1000\n",
      "775/775 [==============================] - 28s 37ms/step - loss: 0.2571 - accuracy: 0.9183 - val_loss: 0.2538 - val_accuracy: 0.9193\n",
      "Epoch 22/1000\n",
      "775/775 [==============================] - 28s 36ms/step - loss: 0.2563 - accuracy: 0.9186 - val_loss: 0.2538 - val_accuracy: 0.9195\n",
      "Epoch 23/1000\n",
      "775/775 [==============================] - 28s 37ms/step - loss: 0.2558 - accuracy: 0.9186 - val_loss: 0.2541 - val_accuracy: 0.9195\n",
      "Epoch 24/1000\n",
      "775/775 [==============================] - 28s 37ms/step - loss: 0.2559 - accuracy: 0.9182 - val_loss: 0.2516 - val_accuracy: 0.9200\n",
      "Epoch 25/1000\n",
      "775/775 [==============================] - 29s 37ms/step - loss: 0.2544 - accuracy: 0.9186 - val_loss: 0.2531 - val_accuracy: 0.9193\n",
      "Epoch 26/1000\n",
      "775/775 [==============================] - 28s 37ms/step - loss: 0.2536 - accuracy: 0.9186 - val_loss: 0.2527 - val_accuracy: 0.9202\n",
      "Epoch 27/1000\n",
      "775/775 [==============================] - 29s 37ms/step - loss: 0.2539 - accuracy: 0.9186 - val_loss: 0.2539 - val_accuracy: 0.9198\n",
      "Epoch 28/1000\n",
      "775/775 [==============================] - 28s 37ms/step - loss: 0.2527 - accuracy: 0.9188 - val_loss: 0.2520 - val_accuracy: 0.9198\n",
      "Epoch 29/1000\n",
      "775/775 [==============================] - 28s 37ms/step - loss: 0.2526 - accuracy: 0.9192 - val_loss: 0.2517 - val_accuracy: 0.9199\n",
      "Epoch 30/1000\n",
      "775/775 [==============================] - 28s 37ms/step - loss: 0.2518 - accuracy: 0.9188 - val_loss: 0.2517 - val_accuracy: 0.9200\n",
      "Epoch 31/1000\n",
      "775/775 [==============================] - 28s 36ms/step - loss: 0.2508 - accuracy: 0.9190 - val_loss: 0.2525 - val_accuracy: 0.9196\n",
      "Epoch 32/1000\n",
      "775/775 [==============================] - 28s 37ms/step - loss: 0.2506 - accuracy: 0.9189 - val_loss: 0.2514 - val_accuracy: 0.9201\n",
      "Epoch 33/1000\n",
      "775/775 [==============================] - 28s 37ms/step - loss: 0.2504 - accuracy: 0.9194 - val_loss: 0.2504 - val_accuracy: 0.9205\n",
      "Epoch 34/1000\n",
      "775/775 [==============================] - 29s 37ms/step - loss: 0.2493 - accuracy: 0.9190 - val_loss: 0.2510 - val_accuracy: 0.9205\n",
      "Epoch 35/1000\n",
      "775/775 [==============================] - 29s 37ms/step - loss: 0.2495 - accuracy: 0.9195 - val_loss: 0.2509 - val_accuracy: 0.9205\n",
      "Epoch 36/1000\n",
      "775/775 [==============================] - 28s 37ms/step - loss: 0.2485 - accuracy: 0.9197 - val_loss: 0.2482 - val_accuracy: 0.9207\n",
      "Epoch 37/1000\n",
      "775/775 [==============================] - 28s 36ms/step - loss: 0.2475 - accuracy: 0.9195 - val_loss: 0.2501 - val_accuracy: 0.9207\n",
      "Epoch 38/1000\n",
      "775/775 [==============================] - 28s 36ms/step - loss: 0.2474 - accuracy: 0.9193 - val_loss: 0.2481 - val_accuracy: 0.9206\n",
      "Epoch 39/1000\n",
      "775/775 [==============================] - 25s 33ms/step - loss: 0.2471 - accuracy: 0.9197 - val_loss: 0.2473 - val_accuracy: 0.9209\n",
      "Epoch 40/1000\n",
      "775/775 [==============================] - 27s 35ms/step - loss: 0.2458 - accuracy: 0.9196 - val_loss: 0.2458 - val_accuracy: 0.9210\n",
      "Epoch 41/1000\n",
      "775/775 [==============================] - 28s 36ms/step - loss: 0.2460 - accuracy: 0.9198 - val_loss: 0.2452 - val_accuracy: 0.9215\n",
      "Epoch 42/1000\n",
      "775/775 [==============================] - 28s 36ms/step - loss: 0.2455 - accuracy: 0.9198 - val_loss: 0.2458 - val_accuracy: 0.9212\n",
      "Epoch 43/1000\n",
      "775/775 [==============================] - 29s 37ms/step - loss: 0.2450 - accuracy: 0.9200 - val_loss: 0.2461 - val_accuracy: 0.9214\n",
      "Epoch 44/1000\n",
      "775/775 [==============================] - 28s 36ms/step - loss: 0.2445 - accuracy: 0.9198 - val_loss: 0.2513 - val_accuracy: 0.9208\n",
      "Epoch 45/1000\n",
      "775/775 [==============================] - 28s 37ms/step - loss: 0.2439 - accuracy: 0.9199 - val_loss: 0.2488 - val_accuracy: 0.9204\n",
      "Epoch 46/1000\n",
      "775/775 [==============================] - 28s 37ms/step - loss: 0.2425 - accuracy: 0.9202 - val_loss: 0.2438 - val_accuracy: 0.9215\n",
      "Epoch 47/1000\n",
      "775/775 [==============================] - 28s 37ms/step - loss: 0.2428 - accuracy: 0.9205 - val_loss: 0.2455 - val_accuracy: 0.9210\n",
      "Epoch 48/1000\n",
      "775/775 [==============================] - 28s 37ms/step - loss: 0.2425 - accuracy: 0.9199 - val_loss: 0.2446 - val_accuracy: 0.9212\n",
      "Epoch 49/1000\n",
      "775/775 [==============================] - 28s 37ms/step - loss: 0.2413 - accuracy: 0.9203 - val_loss: 0.2444 - val_accuracy: 0.9216\n",
      "Epoch 50/1000\n",
      "775/775 [==============================] - 31s 40ms/step - loss: 0.2414 - accuracy: 0.9208 - val_loss: 0.2465 - val_accuracy: 0.9213\n",
      "Epoch 51/1000\n",
      "775/775 [==============================] - 30s 39ms/step - loss: 0.2404 - accuracy: 0.9208 - val_loss: 0.2433 - val_accuracy: 0.9219\n",
      "Epoch 52/1000\n",
      "775/775 [==============================] - 30s 39ms/step - loss: 0.2403 - accuracy: 0.9205 - val_loss: 0.2429 - val_accuracy: 0.9220\n",
      "Epoch 53/1000\n",
      "775/775 [==============================] - 30s 39ms/step - loss: 0.2397 - accuracy: 0.9207 - val_loss: 0.2487 - val_accuracy: 0.9211\n",
      "Epoch 54/1000\n",
      "775/775 [==============================] - 30s 39ms/step - loss: 0.2390 - accuracy: 0.9208 - val_loss: 0.2435 - val_accuracy: 0.9216\n",
      "Epoch 55/1000\n",
      "775/775 [==============================] - 30s 39ms/step - loss: 0.2386 - accuracy: 0.9210 - val_loss: 0.2441 - val_accuracy: 0.9211\n",
      "Epoch 56/1000\n"
     ]
    },
    {
     "name": "stdout",
     "output_type": "stream",
     "text": [
      "775/775 [==============================] - 31s 40ms/step - loss: 0.2379 - accuracy: 0.9214 - val_loss: 0.2419 - val_accuracy: 0.9208\n",
      "Epoch 57/1000\n",
      "775/775 [==============================] - 30s 39ms/step - loss: 0.2375 - accuracy: 0.9209 - val_loss: 0.2431 - val_accuracy: 0.9213\n",
      "Epoch 58/1000\n",
      "775/775 [==============================] - 30s 39ms/step - loss: 0.2373 - accuracy: 0.9213 - val_loss: 0.2440 - val_accuracy: 0.9209\n",
      "Epoch 59/1000\n",
      "775/775 [==============================] - 30s 39ms/step - loss: 0.2365 - accuracy: 0.9210 - val_loss: 0.2417 - val_accuracy: 0.9218\n",
      "Epoch 60/1000\n",
      "775/775 [==============================] - 30s 39ms/step - loss: 0.2358 - accuracy: 0.9215 - val_loss: 0.2431 - val_accuracy: 0.9214\n",
      "Epoch 61/1000\n",
      "775/775 [==============================] - 31s 40ms/step - loss: 0.2352 - accuracy: 0.9217 - val_loss: 0.2422 - val_accuracy: 0.9211\n",
      "Epoch 62/1000\n",
      "775/775 [==============================] - 31s 40ms/step - loss: 0.2346 - accuracy: 0.9214 - val_loss: 0.2432 - val_accuracy: 0.9214\n",
      "Epoch 63/1000\n",
      "775/775 [==============================] - 31s 39ms/step - loss: 0.2343 - accuracy: 0.9217 - val_loss: 0.2419 - val_accuracy: 0.9213\n",
      "Epoch 64/1000\n",
      "775/775 [==============================] - 30s 39ms/step - loss: 0.2337 - accuracy: 0.9224 - val_loss: 0.2420 - val_accuracy: 0.9214\n",
      "Epoch 65/1000\n",
      "775/775 [==============================] - 30s 39ms/step - loss: 0.2330 - accuracy: 0.9216 - val_loss: 0.2408 - val_accuracy: 0.9216\n",
      "Epoch 66/1000\n",
      "775/775 [==============================] - 30s 39ms/step - loss: 0.2335 - accuracy: 0.9216 - val_loss: 0.2399 - val_accuracy: 0.9216\n",
      "Epoch 67/1000\n",
      "775/775 [==============================] - 31s 39ms/step - loss: 0.2323 - accuracy: 0.9219 - val_loss: 0.2413 - val_accuracy: 0.9211\n",
      "Epoch 68/1000\n",
      "775/775 [==============================] - 31s 40ms/step - loss: 0.2325 - accuracy: 0.9221 - val_loss: 0.2401 - val_accuracy: 0.9213\n",
      "Epoch 69/1000\n",
      "775/775 [==============================] - 30s 39ms/step - loss: 0.2314 - accuracy: 0.9222 - val_loss: 0.2407 - val_accuracy: 0.9212\n",
      "Epoch 70/1000\n",
      "775/775 [==============================] - 30s 39ms/step - loss: 0.2312 - accuracy: 0.9225 - val_loss: 0.2423 - val_accuracy: 0.9209\n",
      "Epoch 71/1000\n",
      "775/775 [==============================] - 30s 39ms/step - loss: 0.2304 - accuracy: 0.9222 - val_loss: 0.2414 - val_accuracy: 0.9210\n",
      "Epoch 72/1000\n",
      "775/775 [==============================] - 30s 39ms/step - loss: 0.2300 - accuracy: 0.9219 - val_loss: 0.2435 - val_accuracy: 0.9206\n",
      "Epoch 73/1000\n",
      "775/775 [==============================] - 30s 39ms/step - loss: 0.2302 - accuracy: 0.9224 - val_loss: 0.2450 - val_accuracy: 0.9215\n",
      "Epoch 74/1000\n",
      "775/775 [==============================] - 31s 39ms/step - loss: 0.2295 - accuracy: 0.9227 - val_loss: 0.2409 - val_accuracy: 0.9219\n",
      "Epoch 75/1000\n",
      "775/775 [==============================] - 30s 39ms/step - loss: 0.2282 - accuracy: 0.9225 - val_loss: 0.2427 - val_accuracy: 0.9215\n",
      "Epoch 76/1000\n",
      "775/775 [==============================] - 30s 39ms/step - loss: 0.2288 - accuracy: 0.9226 - val_loss: 0.2398 - val_accuracy: 0.9213\n",
      "Epoch 77/1000\n",
      "775/775 [==============================] - 30s 39ms/step - loss: 0.2273 - accuracy: 0.9228 - val_loss: 0.2410 - val_accuracy: 0.9217\n",
      "Epoch 78/1000\n",
      "775/775 [==============================] - 30s 39ms/step - loss: 0.2268 - accuracy: 0.9231 - val_loss: 0.2391 - val_accuracy: 0.9212\n",
      "Epoch 79/1000\n",
      "775/775 [==============================] - 31s 39ms/step - loss: 0.2272 - accuracy: 0.9231 - val_loss: 0.2370 - val_accuracy: 0.9222\n",
      "Epoch 80/1000\n",
      "775/775 [==============================] - 31s 39ms/step - loss: 0.2258 - accuracy: 0.9240 - val_loss: 0.2389 - val_accuracy: 0.9211\n",
      "Epoch 81/1000\n",
      "775/775 [==============================] - 30s 39ms/step - loss: 0.2272 - accuracy: 0.9232 - val_loss: 0.2389 - val_accuracy: 0.9212\n",
      "Epoch 82/1000\n",
      "775/775 [==============================] - 30s 39ms/step - loss: 0.2262 - accuracy: 0.9227 - val_loss: 0.2392 - val_accuracy: 0.9216\n",
      "Epoch 83/1000\n",
      "775/775 [==============================] - 30s 39ms/step - loss: 0.2250 - accuracy: 0.9231 - val_loss: 0.2434 - val_accuracy: 0.9199\n",
      "Epoch 84/1000\n",
      "775/775 [==============================] - 30s 39ms/step - loss: 0.2242 - accuracy: 0.9238 - val_loss: 0.2402 - val_accuracy: 0.9205\n",
      "Epoch 85/1000\n",
      "775/775 [==============================] - 31s 40ms/step - loss: 0.2236 - accuracy: 0.9234 - val_loss: 0.2369 - val_accuracy: 0.9223\n",
      "Epoch 86/1000\n",
      "775/775 [==============================] - 31s 39ms/step - loss: 0.2237 - accuracy: 0.9241 - val_loss: 0.2378 - val_accuracy: 0.9219\n",
      "Epoch 87/1000\n",
      "775/775 [==============================] - 30s 39ms/step - loss: 0.2237 - accuracy: 0.9235 - val_loss: 0.2400 - val_accuracy: 0.9210\n",
      "Epoch 88/1000\n",
      "775/775 [==============================] - 30s 39ms/step - loss: 0.2233 - accuracy: 0.9242 - val_loss: 0.2369 - val_accuracy: 0.9222\n",
      "Epoch 89/1000\n",
      "775/775 [==============================] - 30s 39ms/step - loss: 0.2223 - accuracy: 0.9237 - val_loss: 0.2391 - val_accuracy: 0.9215\n",
      "Epoch 90/1000\n",
      "775/775 [==============================] - 30s 39ms/step - loss: 0.2227 - accuracy: 0.9236 - val_loss: 0.2414 - val_accuracy: 0.9213\n",
      "Epoch 91/1000\n",
      "775/775 [==============================] - 31s 39ms/step - loss: 0.2224 - accuracy: 0.9242 - val_loss: 0.2395 - val_accuracy: 0.9209\n",
      "Epoch 92/1000\n",
      "775/775 [==============================] - 31s 40ms/step - loss: 0.2217 - accuracy: 0.9244 - val_loss: 0.2421 - val_accuracy: 0.9212\n",
      "Epoch 93/1000\n",
      "775/775 [==============================] - 30s 39ms/step - loss: 0.2207 - accuracy: 0.9240 - val_loss: 0.2377 - val_accuracy: 0.9213\n",
      "Epoch 94/1000\n",
      "775/775 [==============================] - 30s 39ms/step - loss: 0.2200 - accuracy: 0.9243 - val_loss: 0.2399 - val_accuracy: 0.9212\n",
      "Epoch 95/1000\n",
      "775/775 [==============================] - 30s 39ms/step - loss: 0.2195 - accuracy: 0.9247 - val_loss: 0.2396 - val_accuracy: 0.9211\n",
      "Epoch 96/1000\n",
      "775/775 [==============================] - 30s 39ms/step - loss: 0.2191 - accuracy: 0.9246 - val_loss: 0.2388 - val_accuracy: 0.9210\n",
      "Epoch 97/1000\n",
      "775/775 [==============================] - 31s 39ms/step - loss: 0.2195 - accuracy: 0.9242 - val_loss: 0.2384 - val_accuracy: 0.9217\n",
      "Epoch 98/1000\n",
      "775/775 [==============================] - 31s 40ms/step - loss: 0.2188 - accuracy: 0.9248 - val_loss: 0.2388 - val_accuracy: 0.9214\n",
      "Epoch 00098: early stopping\n"
     ]
    },
    {
     "data": {
      "image/png": "[encoded data removed]",
      "text/plain": [
       "<Figure size 432x288 with 1 Axes>"
      ]
     },
     "metadata": {
      "needs_background": "light"
     },
     "output_type": "display_data"
    },
    {
     "data": {
      "image/png": "[encoded data removed]",
      "text/plain": [
       "<Figure size 432x288 with 1 Axes>"
      ]
     },
     "metadata": {
      "needs_background": "light"
     },
     "output_type": "display_data"
    }
   ],
   "source": [
    "model = buildModel3(X_train.shape)\n",
    "callback = EarlyStopping(monitor=\"val_loss\", patience=10, verbose=1, mode=\"auto\")\n",
    "history=model.fit(X_train, Y_train, epochs=1000, batch_size=128, validation_data=(X_val, Y_val), callbacks=[callback])\n",
    "training_result(history)"
   ]
  },
  {
   "cell_type": "code",
   "execution_count": 38,
   "metadata": {},
   "outputs": [
    {
     "data": {
      "image/png": "[encoded data removed]",
      "text/plain": [
       "<Figure size 432x288 with 1 Axes>"
      ]
     },
     "metadata": {
      "needs_background": "light"
     },
     "output_type": "display_data"
    },
    {
     "data": {
      "image/png": "[encoded data removed]",
      "text/plain": [
       "<Figure size 432x288 with 1 Axes>"
      ]
     },
     "metadata": {
      "needs_background": "light"
     },
     "output_type": "display_data"
    }
   ],
   "source": [
    "training_result(history)"
   ]
  },
  {
   "cell_type": "code",
   "execution_count": 50,
   "metadata": {},
   "outputs": [
    {
     "name": "stdout",
     "output_type": "stream",
     "text": [
      "(3608, 1)\n",
      "(3608, 30, 24)\n"
     ]
    },
    {
     "data": {
      "image/png": "[encoded data removed]",
      "text/plain": [
       "<Figure size 432x288 with 1 Axes>"
      ]
     },
     "metadata": {
      "needs_background": "light"
     },
     "output_type": "display_data"
    },
    {
     "data": {
      "image/png": "[encoded data removed]",
      "text/plain": [
       "<Figure size 432x288 with 1 Axes>"
      ]
     },
     "metadata": {
      "needs_background": "light"
     },
     "output_type": "display_data"
    }
   ],
   "source": [
    "with open(os.path.join(os.getcwd(),\"data\",\"2330.pickle\"),'rb') as f:\n",
    "    df = pickle.load(f)\n",
    "#print(df.head())\n",
    "df_norm=normalize(df)\n",
    "#X_train, Y_train = buildTrain(df_norm, 60, 5)\n",
    "X_test = genInputTest(df_norm,30,drop=True)\n",
    "result = model.predict(X_test)\n",
    "#print(result[-40:])\n",
    "\n",
    "print(result.shape)\n",
    "print(X_test.shape)\n",
    "plot_stock(result[-500:])\n",
    "plot_stock(df['high'][-500:])"
   ]
  },
  {
   "cell_type": "code",
   "execution_count": 36,
   "metadata": {},
   "outputs": [
    {
     "name": "stdout",
     "output_type": "stream",
     "text": [
      "[0.00182796 0.58292794 0.58078722 0.5428655  0.00408419 0.00421842\n",
      " 0.12510901 0.00409167 0.00420835 0.00456461 0.00395886 0.00437928\n",
      " 0.         0.59690238 0.00356659 0.21162771 0.         0.26666667\n",
      " 0.00200483 0.00070827 0.45454545 0.00101249 0.2        0.64285714]\n",
      "(99179, 1)\n"
     ]
    }
   ],
   "source": [
    "print(X_train[0,0,:])\n",
    "print(Y_train.shape)"
   ]
  },
  {
   "cell_type": "code",
   "execution_count": 56,
   "metadata": {},
   "outputs": [
    {
     "name": "stderr",
     "output_type": "stream",
     "text": [
      "/usr/local/lib/python3.6/dist-packages/ipykernel_launcher.py:12: FutureWarning: Sorting because non-concatenation axis is not aligned. A future version\n",
      "of pandas will change to not sort by default.\n",
      "\n",
      "To accept the future behavior, pass 'sort=False'.\n",
      "\n",
      "To retain the current behavior and silence the warning, pass 'sort=True'.\n",
      "\n",
      "  if sys.path[0] == '':\n"
     ]
    },
    {
     "name": "stdout",
     "output_type": "stream",
     "text": [
      "           D       DEM       DIF   Dif     EMA_12     EMA_26         K  \\\n",
      "592243  0.00 -0.534527 -0.416605  0.25  28.031831  28.448436  0.803419   \n",
      "592244  0.10 -0.502885 -0.376319 -0.10  28.050011  28.426329  0.797517   \n",
      "592245  0.15 -0.472795 -0.352433 -0.15  28.042317  28.394750  0.698345   \n",
      "592246  0.25 -0.448165 -0.349645 -0.25  27.997345  28.346990  0.516845   \n",
      "592247  0.05 -0.428025 -0.347466 -0.05  27.951600  28.299065  0.370205   \n",
      "\n",
      "         MA_10    MA_20     MA_240  ...  day     ema_D     ema_U   high  \\\n",
      "592243  27.790  28.1575  30.405000  ...   12  0.069748  0.097022  28.25   \n",
      "592244  27.905  28.1275  30.400833  ...   13  0.073781  0.084086  28.30   \n",
      "592245  27.960  28.0900  30.396042  ...   14  0.083944  0.072874  28.15   \n",
      "592246  27.945  28.0450  30.389792  ...   15  0.106085  0.063158  28.00   \n",
      "592247  27.935  27.9975  30.383958  ...   16  0.098607  0.054737  27.85   \n",
      "\n",
      "          low  month   open    volume  week  year  \n",
      "592243  27.95     10  28.05  17725541     0  2020  \n",
      "592244  28.05     10  28.25  10856573     1  2020  \n",
      "592245  28.00     10  28.10  18788092     2  2020  \n",
      "592246  27.65     10  28.00  19683577     3  2020  \n",
      "592247  27.70     10  27.80  13914013     4  2020  \n",
      "\n",
      "[5 rows x 29 columns]\n",
      "TP:3 FP:207 TN:254 FN:1\n",
      "0.014285714285714285\n",
      "\n",
      "TP:3 FP:130 TN:331 FN:1\n",
      "0.022556390977443608\n",
      "\n",
      "TP:2 FP:96 TN:365 FN:2\n",
      "0.02040816326530612\n",
      "\n",
      "TP:2 FP:63 TN:398 FN:2\n",
      "0.03076923076923077\n",
      "\n",
      "TP:1 FP:54 TN:407 FN:3\n",
      "0.01818181818181818\n",
      "\n",
      "TP:0 FP:39 TN:422 FN:4\n",
      "0.0\n",
      "\n",
      "TP:0 FP:28 TN:433 FN:4\n",
      "0.0\n",
      "\n",
      "TP:0 FP:16 TN:445 FN:4\n",
      "0.0\n",
      "\n",
      "TP:0 FP:9 TN:452 FN:4\n",
      "0.0\n",
      "\n",
      "TP:0 FP:0 TN:461 FN:4\n"
     ]
    },
    {
     "ename": "ZeroDivisionError",
     "evalue": "division by zero",
     "output_type": "error",
     "traceback": [
      "\u001b[0;31m---------------------------------------------------------------------------\u001b[0m",
      "\u001b[0;31mZeroDivisionError\u001b[0m                         Traceback (most recent call last)",
      "\u001b[0;32m<ipython-input-56-6eedb5c6f566>\u001b[0m in \u001b[0;36m<module>\u001b[0;34m\u001b[0m\n\u001b[1;32m     19\u001b[0m \u001b[0mthre\u001b[0m \u001b[0;34m=\u001b[0m \u001b[0;36m0.1\u001b[0m\u001b[0;34m\u001b[0m\u001b[0;34m\u001b[0m\u001b[0m\n\u001b[1;32m     20\u001b[0m \u001b[0;32mwhile\u001b[0m \u001b[0mthre\u001b[0m \u001b[0;34m<\u001b[0m \u001b[0;36m1.0\u001b[0m\u001b[0;34m:\u001b[0m\u001b[0;34m\u001b[0m\u001b[0;34m\u001b[0m\u001b[0m\n\u001b[0;32m---> 21\u001b[0;31m     \u001b[0maccuracy\u001b[0m\u001b[0;34m(\u001b[0m\u001b[0mdf\u001b[0m\u001b[0;34m[\u001b[0m\u001b[0;34m-\u001b[0m\u001b[0;36m500\u001b[0m\u001b[0;34m:\u001b[0m\u001b[0;34m]\u001b[0m\u001b[0;34m,\u001b[0m\u001b[0mmodel\u001b[0m\u001b[0;34m,\u001b[0m\u001b[0mpast\u001b[0m\u001b[0;34m=\u001b[0m\u001b[0mpast\u001b[0m\u001b[0;34m,\u001b[0m\u001b[0mfuture\u001b[0m\u001b[0;34m=\u001b[0m\u001b[0mfuture\u001b[0m\u001b[0;34m,\u001b[0m\u001b[0mprofit\u001b[0m\u001b[0;34m=\u001b[0m\u001b[0;36m0.03\u001b[0m\u001b[0;34m,\u001b[0m\u001b[0mthreshold\u001b[0m\u001b[0;34m=\u001b[0m\u001b[0mthre\u001b[0m\u001b[0;34m,\u001b[0m\u001b[0mdrop\u001b[0m\u001b[0;34m=\u001b[0m\u001b[0;32mTrue\u001b[0m\u001b[0;34m)\u001b[0m\u001b[0;34m\u001b[0m\u001b[0;34m\u001b[0m\u001b[0m\n\u001b[0m\u001b[1;32m     22\u001b[0m     \u001b[0mthre\u001b[0m\u001b[0;34m+=\u001b[0m\u001b[0;36m0.1\u001b[0m\u001b[0;34m\u001b[0m\u001b[0;34m\u001b[0m\u001b[0m\n\u001b[1;32m     23\u001b[0m \u001b[0;31m#accuracy(df,model,past=30,future=5,profit=0.02,threshold=9.9)\u001b[0m\u001b[0;34m\u001b[0m\u001b[0;34m\u001b[0m\u001b[0;34m\u001b[0m\u001b[0m\n",
      "\u001b[0;32m<ipython-input-54-b313349f8a10>\u001b[0m in \u001b[0;36maccuracy\u001b[0;34m(df, model, past, future, profit, threshold, drop)\u001b[0m\n\u001b[1;32m     20\u001b[0m             \u001b[0mFN\u001b[0m \u001b[0;34m+=\u001b[0m \u001b[0;36m1\u001b[0m\u001b[0;34m\u001b[0m\u001b[0;34m\u001b[0m\u001b[0m\n\u001b[1;32m     21\u001b[0m     \u001b[0mprint\u001b[0m\u001b[0;34m(\u001b[0m\u001b[0;34mf'TP:{TP}'\u001b[0m\u001b[0;34m,\u001b[0m\u001b[0;34mf'FP:{FP}'\u001b[0m\u001b[0;34m,\u001b[0m\u001b[0;34mf'TN:{TN}'\u001b[0m\u001b[0;34m,\u001b[0m\u001b[0;34mf'FN:{FN}'\u001b[0m\u001b[0;34m)\u001b[0m\u001b[0;34m\u001b[0m\u001b[0;34m\u001b[0m\u001b[0m\n\u001b[0;32m---> 22\u001b[0;31m     \u001b[0mprint\u001b[0m\u001b[0;34m(\u001b[0m\u001b[0mTP\u001b[0m\u001b[0;34m/\u001b[0m\u001b[0;34m(\u001b[0m\u001b[0mTP\u001b[0m\u001b[0;34m+\u001b[0m\u001b[0mFP\u001b[0m\u001b[0;34m)\u001b[0m\u001b[0;34m)\u001b[0m\u001b[0;34m\u001b[0m\u001b[0;34m\u001b[0m\u001b[0m\n\u001b[0m\u001b[1;32m     23\u001b[0m     \u001b[0mprint\u001b[0m\u001b[0;34m(\u001b[0m\u001b[0;34m''\u001b[0m\u001b[0;34m)\u001b[0m\u001b[0;34m\u001b[0m\u001b[0;34m\u001b[0m\u001b[0m\n\u001b[1;32m     24\u001b[0m \u001b[0;34m\u001b[0m\u001b[0m\n",
      "\u001b[0;31mZeroDivisionError\u001b[0m: division by zero"
     ]
    }
   ],
   "source": [
    "\n",
    "with open(os.path.join(os.getcwd(),\"data\",\"2330.pickle\"),'rb') as f:\n",
    "    df = pickle.load(f).iloc[:]\n",
    "    \n",
    "all_df=[]\n",
    "for train_data in os.listdir(os.path.join(os.getcwd(),'data')):\n",
    "    with open(os.path.join(os.getcwd(),\"data\",train_data),'rb') as f:\n",
    "        #print(train_data)\n",
    "        sub_df=pickle.load(f)#.iloc[:-60]\n",
    "        all_df.append(sub_df)\n",
    "\n",
    "df = pd.concat(all_df,axis=0, ignore_index=True)\n",
    "print(df.tail())\n",
    "#print(df.columns)\n",
    "#print(df.head())\n",
    "#print(df.tail())\n",
    "past = 30\n",
    "future = 5\n",
    "thre = 0.1\n",
    "while thre < 1.0:\n",
    "    accuracy(df[-500:],model,past=past,future=future,profit=0.03,threshold=thre,drop=True)\n",
    "    thre+=0.1\n",
    "#accuracy(df,model,past=30,future=5,profit=0.02,threshold=9.9)\n",
    "df.head()"
   ]
  },
  {
   "cell_type": "code",
   "execution_count": 61,
   "metadata": {},
   "outputs": [
    {
     "name": "stdout",
     "output_type": "stream",
     "text": [
      "TP:12 FP:7 TN:919 FN:62\n",
      "0.631578947368421\n",
      "\n"
     ]
    }
   ],
   "source": [
    "Y_test = Y_train[-1000:]\n",
    "threshold = 0.5\n",
    "result = model.predict(X_train[-1000:])\n",
    "TP = 0\n",
    "FP = 0\n",
    "TN = 0\n",
    "FN = 0\n",
    "\n",
    "for i in range(len(result)):\n",
    "    if Y_test[i,0] >0.5  and result[i]>=threshold:\n",
    "        TP += 1\n",
    "    elif Y_test[i,0] <0.5 and result[i]>=threshold:\n",
    "        FP += 1\n",
    "    elif Y_test[i,0] <0.5 and result[i]<threshold:\n",
    "        TN += 1\n",
    "    else:\n",
    "        FN += 1\n",
    "print(f'TP:{TP}',f'FP:{FP}',f'TN:{TN}',f'FN:{FN}')\n",
    "print(TP/(TP+FP))\n",
    "print('')"
   ]
  },
  {
   "cell_type": "code",
   "execution_count": 63,
   "metadata": {},
   "outputs": [
    {
     "name": "stdout",
     "output_type": "stream",
     "text": [
      "WARNING:tensorflow:From /home/mlb/users/bluebug/.local/lib/python3.6/site-packages/tensorflow/python/ops/resource_variable_ops.py:1817: calling BaseResourceVariable.__init__ (from tensorflow.python.ops.resource_variable_ops) with constraint is deprecated and will be removed in a future version.\n",
      "Instructions for updating:\n",
      "If using Keras pass *_constraint arguments to layers.\n",
      "INFO:tensorflow:Assets written to: /home/mlb/users/bluebug/stock/bin/models/30_5_003_LSTM/assets\n"
     ]
    }
   ],
   "source": [
    "save_model(model,\"30_5_003_LSTM\")"
   ]
  },
  {
   "cell_type": "code",
   "execution_count": 86,
   "metadata": {},
   "outputs": [
    {
     "name": "stderr",
     "output_type": "stream",
     "text": [
      "/usr/local/lib/python3.6/dist-packages/ipykernel_launcher.py:17: FutureWarning: Sorting because non-concatenation axis is not aligned. A future version\n",
      "of pandas will change to not sort by default.\n",
      "\n",
      "To accept the future behavior, pass 'sort=False'.\n",
      "\n",
      "To retain the current behavior and silence the warning, pass 'sort=True'.\n",
      "\n"
     ]
    }
   ],
   "source": [
    "def get_normalizer(df):\n",
    "    norm_df = df.copy()\n",
    "    min_max_scaler = preprocessing.MinMaxScaler()\n",
    "    scalers = {}\n",
    "    #df = df.drop(['date','adj_close'],axis=1)\n",
    "    for col in norm_df.columns: \n",
    "        norm_df[col] = min_max_scaler.fit_transform(norm_df[col].values.reshape(-1,1))\n",
    "        scalers[col] = min_max_scaler.fit(norm_df[col].values.reshape(-1,1))\n",
    "    return scalers\n",
    "all_df=[]\n",
    "for train_data in os.listdir(os.path.join(os.getcwd(),'data')):\n",
    "    with open(os.path.join(os.getcwd(),\"data\",train_data),'rb') as f:\n",
    "        #print(train_data)\n",
    "        sub_df=pickle.load(f)#.iloc[:-60]\n",
    "        all_df.append(sub_df)\n",
    "\n",
    "df = pd.concat(all_df,axis=0, ignore_index=True)\n",
    "scalers = get_normalizer(df)\n"
   ]
  },
  {
   "cell_type": "code",
   "execution_count": 87,
   "metadata": {},
   "outputs": [],
   "source": [
    "\n",
    "\n",
    "with open(os.path.join(os.getcwd(),\"data\",\"2330.pickle\"),'rb') as f:\n",
    "    sub_df = pickle.load(f)\n",
    "\n",
    "past = 30\n",
    "future = 5\n",
    "Y_test=genOutputTrain(sub_df.copy(), past,future,profit=0.03)\n",
    "\n",
    "\n",
    "\n"
   ]
  },
  {
   "cell_type": "code",
   "execution_count": 88,
   "metadata": {},
   "outputs": [
    {
     "data": {
      "text/plain": [
       "108"
      ]
     },
     "execution_count": 88,
     "metadata": {},
     "output_type": "execute_result"
    }
   ],
   "source": [
    "counter=0\n",
    "for i in range(Y_test.shape[0]):\n",
    "    if Y_test[i,0]>0.5:\n",
    "        counter+=1\n",
    "counter"
   ]
  },
  {
   "cell_type": "code",
   "execution_count": 89,
   "metadata": {},
   "outputs": [],
   "source": [
    "for col in sub_df.columns: \n",
    "    sub_df[col] = scalers[col].transform(sub_df[col].values.reshape(-1,1))\n",
    "X_test=genInputTrain(sub_df, past,future,drop=True)"
   ]
  },
  {
   "cell_type": "code",
   "execution_count": 76,
   "metadata": {},
   "outputs": [
    {
     "name": "stdout",
     "output_type": "stream",
     "text": [
      "TP:0 FP:0 TN:2778 FN:108\n",
      "\n"
     ]
    }
   ],
   "source": [
    "threshold = 0.5\n",
    "result = model.predict(X_test)\n",
    "TP = 0\n",
    "FP = 0\n",
    "TN = 0\n",
    "FN = 0\n",
    "\n",
    "for i in range(len(result)):\n",
    "    if Y_test[i,0] >0.5  and result[i]>=threshold:\n",
    "        TP += 1\n",
    "    elif Y_test[i,0] <0.5 and result[i]>=threshold:\n",
    "        FP += 1\n",
    "    elif Y_test[i,0] <0.5 and result[i]<threshold:\n",
    "        TN += 1\n",
    "    else:\n",
    "        FN += 1\n",
    "print(f'TP:{TP}',f'FP:{FP}',f'TN:{TN}',f'FN:{FN}')\n",
    "#print(TP/(TP+FP))\n",
    "print('')"
   ]
  }
 ],
 "metadata": {
  "kernelspec": {
   "display_name": "Python 3",
   "language": "python",
   "name": "python3"
  },
  "language_info": {
   "codemirror_mode": {
    "name": "ipython",
    "version": 3
   },
   "file_extension": ".py",
   "mimetype": "text/x-python",
   "name": "python",
   "nbconvert_exporter": "python",
   "pygments_lexer": "ipython3",
   "version": "3.6.10"
  }
 },
 "nbformat": 4,
 "nbformat_minor": 2
}
